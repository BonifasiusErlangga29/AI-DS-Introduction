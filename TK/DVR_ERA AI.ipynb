{
  "nbformat": 4,
  "nbformat_minor": 0,
  "metadata": {
    "colab": {
      "provenance": [],
      "collapsed_sections": [
        "sgi8sXctTwyi",
        "IxcWKLpCjrp7",
        "BEuUwZITn7sM",
        "A3RTxxRe1VCU",
        "tUsgT4I8fUMs",
        "Bx2COmVmlTbc"
      ],
      "toc_visible": true
    },
    "kernelspec": {
      "name": "python3",
      "display_name": "Python 3"
    },
    "language_info": {
      "name": "python"
    }
  },
  "cells": [
    {
      "cell_type": "markdown",
      "source": [
        "## Import Module"
      ],
      "metadata": {
        "id": "qG1nzxdMg8cn"
      }
    },
    {
      "cell_type": "code",
      "execution_count": null,
      "metadata": {
        "id": "m4ilJJeAfQ4M"
      },
      "outputs": [],
      "source": [
        "import matplotlib.pyplot as plt\n",
        "import numpy as np\n",
        "import pandas as pd\n",
        "\n",
        "from sklearn.ensemble import RandomForestClassifier\n",
        "from sklearn.feature_selection import SelectKBest\n",
        "from sklearn.metrics import classification_report\n",
        "from sklearn.model_selection import GridSearchCV, train_test_split, KFold, cross_val_score\n",
        "from sklearn.naive_bayes import GaussianNB, MultinomialNB, ComplementNB, BernoulliNB, CategoricalNB\n",
        "from sklearn.neighbors import KNeighborsClassifier\n",
        "from sklearn.preprocessing import MinMaxScaler, LabelEncoder, OneHotEncoder\n",
        "from sklearn.tree import DecisionTreeClassifier, DecisionTreeRegressor\n",
        "\n",
        "import seaborn as sns\n",
        "import scipy.stats as scp\n",
        "\n",
        "from sklearn.preprocessing import LabelEncoder, Normalizer, StandardScaler"
      ]
    },
    {
      "cell_type": "markdown",
      "source": [
        "#EDA"
      ],
      "metadata": {
        "id": "TBOLQJY-fY-x"
      }
    },
    {
      "cell_type": "markdown",
      "source": [
        "##Import Data\n"
      ],
      "metadata": {
        "id": "6zFYMWVUegLx"
      }
    },
    {
      "cell_type": "code",
      "source": [
        "dv = pd.read_csv(\"09_DeteksiVirus.csv\")\n",
        "\n",
        "print(\"Data has size:\", dv.shape)\n",
        "dv.head()"
      ],
      "metadata": {
        "colab": {
          "base_uri": "https://localhost:8080/",
          "height": 364
        },
        "id": "30aXLKyQfwAg",
        "outputId": "78dd3a6e-c09b-42b2-e3cd-30153a242c58"
      },
      "execution_count": null,
      "outputs": [
        {
          "output_type": "error",
          "ename": "FileNotFoundError",
          "evalue": "ignored",
          "traceback": [
            "\u001b[0;31m---------------------------------------------------------------------------\u001b[0m",
            "\u001b[0;31mFileNotFoundError\u001b[0m                         Traceback (most recent call last)",
            "\u001b[0;32m<ipython-input-2-342b2474e0a9>\u001b[0m in \u001b[0;36m<module>\u001b[0;34m\u001b[0m\n\u001b[0;32m----> 1\u001b[0;31m \u001b[0mdv\u001b[0m \u001b[0;34m=\u001b[0m \u001b[0mpd\u001b[0m\u001b[0;34m.\u001b[0m\u001b[0mread_csv\u001b[0m\u001b[0;34m(\u001b[0m\u001b[0;34m\"09_DeteksiVirus.csv\"\u001b[0m\u001b[0;34m)\u001b[0m\u001b[0;34m\u001b[0m\u001b[0;34m\u001b[0m\u001b[0m\n\u001b[0m\u001b[1;32m      2\u001b[0m \u001b[0;34m\u001b[0m\u001b[0m\n\u001b[1;32m      3\u001b[0m \u001b[0mprint\u001b[0m\u001b[0;34m(\u001b[0m\u001b[0;34m\"Data has size:\"\u001b[0m\u001b[0;34m,\u001b[0m \u001b[0mdv\u001b[0m\u001b[0;34m.\u001b[0m\u001b[0mshape\u001b[0m\u001b[0;34m)\u001b[0m\u001b[0;34m\u001b[0m\u001b[0;34m\u001b[0m\u001b[0m\n\u001b[1;32m      4\u001b[0m \u001b[0mdv\u001b[0m\u001b[0;34m.\u001b[0m\u001b[0mhead\u001b[0m\u001b[0;34m(\u001b[0m\u001b[0;34m)\u001b[0m\u001b[0;34m\u001b[0m\u001b[0;34m\u001b[0m\u001b[0m\n",
            "\u001b[0;32m/usr/local/lib/python3.8/dist-packages/pandas/util/_decorators.py\u001b[0m in \u001b[0;36mwrapper\u001b[0;34m(*args, **kwargs)\u001b[0m\n\u001b[1;32m    309\u001b[0m                     \u001b[0mstacklevel\u001b[0m\u001b[0;34m=\u001b[0m\u001b[0mstacklevel\u001b[0m\u001b[0;34m,\u001b[0m\u001b[0;34m\u001b[0m\u001b[0;34m\u001b[0m\u001b[0m\n\u001b[1;32m    310\u001b[0m                 )\n\u001b[0;32m--> 311\u001b[0;31m             \u001b[0;32mreturn\u001b[0m \u001b[0mfunc\u001b[0m\u001b[0;34m(\u001b[0m\u001b[0;34m*\u001b[0m\u001b[0margs\u001b[0m\u001b[0;34m,\u001b[0m \u001b[0;34m**\u001b[0m\u001b[0mkwargs\u001b[0m\u001b[0;34m)\u001b[0m\u001b[0;34m\u001b[0m\u001b[0;34m\u001b[0m\u001b[0m\n\u001b[0m\u001b[1;32m    312\u001b[0m \u001b[0;34m\u001b[0m\u001b[0m\n\u001b[1;32m    313\u001b[0m         \u001b[0;32mreturn\u001b[0m \u001b[0mwrapper\u001b[0m\u001b[0;34m\u001b[0m\u001b[0;34m\u001b[0m\u001b[0m\n",
            "\u001b[0;32m/usr/local/lib/python3.8/dist-packages/pandas/io/parsers/readers.py\u001b[0m in \u001b[0;36mread_csv\u001b[0;34m(filepath_or_buffer, sep, delimiter, header, names, index_col, usecols, squeeze, prefix, mangle_dupe_cols, dtype, engine, converters, true_values, false_values, skipinitialspace, skiprows, skipfooter, nrows, na_values, keep_default_na, na_filter, verbose, skip_blank_lines, parse_dates, infer_datetime_format, keep_date_col, date_parser, dayfirst, cache_dates, iterator, chunksize, compression, thousands, decimal, lineterminator, quotechar, quoting, doublequote, escapechar, comment, encoding, encoding_errors, dialect, error_bad_lines, warn_bad_lines, on_bad_lines, delim_whitespace, low_memory, memory_map, float_precision, storage_options)\u001b[0m\n\u001b[1;32m    584\u001b[0m     \u001b[0mkwds\u001b[0m\u001b[0;34m.\u001b[0m\u001b[0mupdate\u001b[0m\u001b[0;34m(\u001b[0m\u001b[0mkwds_defaults\u001b[0m\u001b[0;34m)\u001b[0m\u001b[0;34m\u001b[0m\u001b[0;34m\u001b[0m\u001b[0m\n\u001b[1;32m    585\u001b[0m \u001b[0;34m\u001b[0m\u001b[0m\n\u001b[0;32m--> 586\u001b[0;31m     \u001b[0;32mreturn\u001b[0m \u001b[0m_read\u001b[0m\u001b[0;34m(\u001b[0m\u001b[0mfilepath_or_buffer\u001b[0m\u001b[0;34m,\u001b[0m \u001b[0mkwds\u001b[0m\u001b[0;34m)\u001b[0m\u001b[0;34m\u001b[0m\u001b[0;34m\u001b[0m\u001b[0m\n\u001b[0m\u001b[1;32m    587\u001b[0m \u001b[0;34m\u001b[0m\u001b[0m\n\u001b[1;32m    588\u001b[0m \u001b[0;34m\u001b[0m\u001b[0m\n",
            "\u001b[0;32m/usr/local/lib/python3.8/dist-packages/pandas/io/parsers/readers.py\u001b[0m in \u001b[0;36m_read\u001b[0;34m(filepath_or_buffer, kwds)\u001b[0m\n\u001b[1;32m    480\u001b[0m \u001b[0;34m\u001b[0m\u001b[0m\n\u001b[1;32m    481\u001b[0m     \u001b[0;31m# Create the parser.\u001b[0m\u001b[0;34m\u001b[0m\u001b[0;34m\u001b[0m\u001b[0;34m\u001b[0m\u001b[0m\n\u001b[0;32m--> 482\u001b[0;31m     \u001b[0mparser\u001b[0m \u001b[0;34m=\u001b[0m \u001b[0mTextFileReader\u001b[0m\u001b[0;34m(\u001b[0m\u001b[0mfilepath_or_buffer\u001b[0m\u001b[0;34m,\u001b[0m \u001b[0;34m**\u001b[0m\u001b[0mkwds\u001b[0m\u001b[0;34m)\u001b[0m\u001b[0;34m\u001b[0m\u001b[0;34m\u001b[0m\u001b[0m\n\u001b[0m\u001b[1;32m    483\u001b[0m \u001b[0;34m\u001b[0m\u001b[0m\n\u001b[1;32m    484\u001b[0m     \u001b[0;32mif\u001b[0m \u001b[0mchunksize\u001b[0m \u001b[0;32mor\u001b[0m \u001b[0miterator\u001b[0m\u001b[0;34m:\u001b[0m\u001b[0;34m\u001b[0m\u001b[0;34m\u001b[0m\u001b[0m\n",
            "\u001b[0;32m/usr/local/lib/python3.8/dist-packages/pandas/io/parsers/readers.py\u001b[0m in \u001b[0;36m__init__\u001b[0;34m(self, f, engine, **kwds)\u001b[0m\n\u001b[1;32m    809\u001b[0m             \u001b[0mself\u001b[0m\u001b[0;34m.\u001b[0m\u001b[0moptions\u001b[0m\u001b[0;34m[\u001b[0m\u001b[0;34m\"has_index_names\"\u001b[0m\u001b[0;34m]\u001b[0m \u001b[0;34m=\u001b[0m \u001b[0mkwds\u001b[0m\u001b[0;34m[\u001b[0m\u001b[0;34m\"has_index_names\"\u001b[0m\u001b[0;34m]\u001b[0m\u001b[0;34m\u001b[0m\u001b[0;34m\u001b[0m\u001b[0m\n\u001b[1;32m    810\u001b[0m \u001b[0;34m\u001b[0m\u001b[0m\n\u001b[0;32m--> 811\u001b[0;31m         \u001b[0mself\u001b[0m\u001b[0;34m.\u001b[0m\u001b[0m_engine\u001b[0m \u001b[0;34m=\u001b[0m \u001b[0mself\u001b[0m\u001b[0;34m.\u001b[0m\u001b[0m_make_engine\u001b[0m\u001b[0;34m(\u001b[0m\u001b[0mself\u001b[0m\u001b[0;34m.\u001b[0m\u001b[0mengine\u001b[0m\u001b[0;34m)\u001b[0m\u001b[0;34m\u001b[0m\u001b[0;34m\u001b[0m\u001b[0m\n\u001b[0m\u001b[1;32m    812\u001b[0m \u001b[0;34m\u001b[0m\u001b[0m\n\u001b[1;32m    813\u001b[0m     \u001b[0;32mdef\u001b[0m \u001b[0mclose\u001b[0m\u001b[0;34m(\u001b[0m\u001b[0mself\u001b[0m\u001b[0;34m)\u001b[0m\u001b[0;34m:\u001b[0m\u001b[0;34m\u001b[0m\u001b[0;34m\u001b[0m\u001b[0m\n",
            "\u001b[0;32m/usr/local/lib/python3.8/dist-packages/pandas/io/parsers/readers.py\u001b[0m in \u001b[0;36m_make_engine\u001b[0;34m(self, engine)\u001b[0m\n\u001b[1;32m   1038\u001b[0m             )\n\u001b[1;32m   1039\u001b[0m         \u001b[0;31m# error: Too many arguments for \"ParserBase\"\u001b[0m\u001b[0;34m\u001b[0m\u001b[0;34m\u001b[0m\u001b[0;34m\u001b[0m\u001b[0m\n\u001b[0;32m-> 1040\u001b[0;31m         \u001b[0;32mreturn\u001b[0m \u001b[0mmapping\u001b[0m\u001b[0;34m[\u001b[0m\u001b[0mengine\u001b[0m\u001b[0;34m]\u001b[0m\u001b[0;34m(\u001b[0m\u001b[0mself\u001b[0m\u001b[0;34m.\u001b[0m\u001b[0mf\u001b[0m\u001b[0;34m,\u001b[0m \u001b[0;34m**\u001b[0m\u001b[0mself\u001b[0m\u001b[0;34m.\u001b[0m\u001b[0moptions\u001b[0m\u001b[0;34m)\u001b[0m  \u001b[0;31m# type: ignore[call-arg]\u001b[0m\u001b[0;34m\u001b[0m\u001b[0;34m\u001b[0m\u001b[0m\n\u001b[0m\u001b[1;32m   1041\u001b[0m \u001b[0;34m\u001b[0m\u001b[0m\n\u001b[1;32m   1042\u001b[0m     \u001b[0;32mdef\u001b[0m \u001b[0m_failover_to_python\u001b[0m\u001b[0;34m(\u001b[0m\u001b[0mself\u001b[0m\u001b[0;34m)\u001b[0m\u001b[0;34m:\u001b[0m\u001b[0;34m\u001b[0m\u001b[0;34m\u001b[0m\u001b[0m\n",
            "\u001b[0;32m/usr/local/lib/python3.8/dist-packages/pandas/io/parsers/c_parser_wrapper.py\u001b[0m in \u001b[0;36m__init__\u001b[0;34m(self, src, **kwds)\u001b[0m\n\u001b[1;32m     49\u001b[0m \u001b[0;34m\u001b[0m\u001b[0m\n\u001b[1;32m     50\u001b[0m         \u001b[0;31m# open handles\u001b[0m\u001b[0;34m\u001b[0m\u001b[0;34m\u001b[0m\u001b[0;34m\u001b[0m\u001b[0m\n\u001b[0;32m---> 51\u001b[0;31m         \u001b[0mself\u001b[0m\u001b[0;34m.\u001b[0m\u001b[0m_open_handles\u001b[0m\u001b[0;34m(\u001b[0m\u001b[0msrc\u001b[0m\u001b[0;34m,\u001b[0m \u001b[0mkwds\u001b[0m\u001b[0;34m)\u001b[0m\u001b[0;34m\u001b[0m\u001b[0;34m\u001b[0m\u001b[0m\n\u001b[0m\u001b[1;32m     52\u001b[0m         \u001b[0;32massert\u001b[0m \u001b[0mself\u001b[0m\u001b[0;34m.\u001b[0m\u001b[0mhandles\u001b[0m \u001b[0;32mis\u001b[0m \u001b[0;32mnot\u001b[0m \u001b[0;32mNone\u001b[0m\u001b[0;34m\u001b[0m\u001b[0;34m\u001b[0m\u001b[0m\n\u001b[1;32m     53\u001b[0m \u001b[0;34m\u001b[0m\u001b[0m\n",
            "\u001b[0;32m/usr/local/lib/python3.8/dist-packages/pandas/io/parsers/base_parser.py\u001b[0m in \u001b[0;36m_open_handles\u001b[0;34m(self, src, kwds)\u001b[0m\n\u001b[1;32m    220\u001b[0m         \u001b[0mLet\u001b[0m \u001b[0mthe\u001b[0m \u001b[0mreaders\u001b[0m \u001b[0mopen\u001b[0m \u001b[0mIOHandles\u001b[0m \u001b[0mafter\u001b[0m \u001b[0mthey\u001b[0m \u001b[0mare\u001b[0m \u001b[0mdone\u001b[0m \u001b[0;32mwith\u001b[0m \u001b[0mtheir\u001b[0m \u001b[0mpotential\u001b[0m \u001b[0mraises\u001b[0m\u001b[0;34m.\u001b[0m\u001b[0;34m\u001b[0m\u001b[0;34m\u001b[0m\u001b[0m\n\u001b[1;32m    221\u001b[0m         \"\"\"\n\u001b[0;32m--> 222\u001b[0;31m         self.handles = get_handle(\n\u001b[0m\u001b[1;32m    223\u001b[0m             \u001b[0msrc\u001b[0m\u001b[0;34m,\u001b[0m\u001b[0;34m\u001b[0m\u001b[0;34m\u001b[0m\u001b[0m\n\u001b[1;32m    224\u001b[0m             \u001b[0;34m\"r\"\u001b[0m\u001b[0;34m,\u001b[0m\u001b[0;34m\u001b[0m\u001b[0;34m\u001b[0m\u001b[0m\n",
            "\u001b[0;32m/usr/local/lib/python3.8/dist-packages/pandas/io/common.py\u001b[0m in \u001b[0;36mget_handle\u001b[0;34m(path_or_buf, mode, encoding, compression, memory_map, is_text, errors, storage_options)\u001b[0m\n\u001b[1;32m    700\u001b[0m         \u001b[0;32mif\u001b[0m \u001b[0mioargs\u001b[0m\u001b[0;34m.\u001b[0m\u001b[0mencoding\u001b[0m \u001b[0;32mand\u001b[0m \u001b[0;34m\"b\"\u001b[0m \u001b[0;32mnot\u001b[0m \u001b[0;32min\u001b[0m \u001b[0mioargs\u001b[0m\u001b[0;34m.\u001b[0m\u001b[0mmode\u001b[0m\u001b[0;34m:\u001b[0m\u001b[0;34m\u001b[0m\u001b[0;34m\u001b[0m\u001b[0m\n\u001b[1;32m    701\u001b[0m             \u001b[0;31m# Encoding\u001b[0m\u001b[0;34m\u001b[0m\u001b[0;34m\u001b[0m\u001b[0;34m\u001b[0m\u001b[0m\n\u001b[0;32m--> 702\u001b[0;31m             handle = open(\n\u001b[0m\u001b[1;32m    703\u001b[0m                 \u001b[0mhandle\u001b[0m\u001b[0;34m,\u001b[0m\u001b[0;34m\u001b[0m\u001b[0;34m\u001b[0m\u001b[0m\n\u001b[1;32m    704\u001b[0m                 \u001b[0mioargs\u001b[0m\u001b[0;34m.\u001b[0m\u001b[0mmode\u001b[0m\u001b[0;34m,\u001b[0m\u001b[0;34m\u001b[0m\u001b[0;34m\u001b[0m\u001b[0m\n",
            "\u001b[0;31mFileNotFoundError\u001b[0m: [Errno 2] No such file or directory: '09_DeteksiVirus.csv'"
          ]
        }
      ]
    },
    {
      "cell_type": "markdown",
      "source": [
        "## Visualisasi"
      ],
      "metadata": {
        "id": "SvQrxU0Heov5"
      }
    },
    {
      "cell_type": "code",
      "source": [
        "dv"
      ],
      "metadata": {
        "id": "Gt0M9JpNBF3T"
      },
      "execution_count": null,
      "outputs": []
    },
    {
      "cell_type": "code",
      "source": [
        "dv.info()"
      ],
      "metadata": {
        "id": "p6TqJLtwilMs"
      },
      "execution_count": null,
      "outputs": []
    },
    {
      "cell_type": "code",
      "source": [
        "dv.describe()"
      ],
      "metadata": {
        "id": "KqoIG4x_vyWt"
      },
      "execution_count": null,
      "outputs": []
    },
    {
      "cell_type": "code",
      "source": [
        "#Melihat adanya outliers\n",
        "dv.boxplot(figsize=(20,3))"
      ],
      "metadata": {
        "id": "989dEyHKe8Aa"
      },
      "execution_count": null,
      "outputs": []
    },
    {
      "cell_type": "code",
      "source": [
        "fig, ax = plt.subplots(figsize=(15, 15))\n",
        "\n",
        "sns.heatmap(dv.corr(), cmap=\"YlGnBu\", annot=True)"
      ],
      "metadata": {
        "id": "wBcq_O18g9yL"
      },
      "execution_count": null,
      "outputs": []
    },
    {
      "cell_type": "markdown",
      "source": [
        "### **1a Mencari Korelasi Platform dengan Keaslian OS**"
      ],
      "metadata": {
        "id": "yieDFIt7n1Hm"
      }
    },
    {
      "cell_type": "code",
      "source": [
        "df_platform_correlation = dv.copy()\n",
        "df_platform_correlation['Platform_encode_sementara'] = df_platform_correlation['Platform']\n",
        "df_platform_correlation['Platform_encode_sementara'] = df_platform_correlation['Platform_encode_sementara'].replace(['windows10', 'windows7', 'windows8', 'windows2016'], [1,2,3,4])"
      ],
      "metadata": {
        "id": "28tJsbk7dNtl"
      },
      "execution_count": null,
      "outputs": []
    },
    {
      "cell_type": "code",
      "source": [
        "versi_awal = dv[\"Platform\"].value_counts()\n",
        "versi_encoded = df_platform_correlation['Platform_encode_sementara'].value_counts()\n",
        "print(\"versi platform versi awal: \"+str(versi_awal))\n",
        "print(\"versi platform versi encode: \"+str(versi_encoded))"
      ],
      "metadata": {
        "id": "wbQTA5JxgoVN"
      },
      "execution_count": null,
      "outputs": []
    },
    {
      "cell_type": "code",
      "source": [
        "plt.title('Korelasi jumlah core processor terhadap keaslian OS')\n",
        "plt.scatter(dv['IsOSGenuine'], dv['BanyakCoreProcessor'])"
      ],
      "metadata": {
        "id": "xKSw_8jlhVls"
      },
      "execution_count": null,
      "outputs": []
    },
    {
      "cell_type": "code",
      "source": [
        "# mencari korelasi \"Platform\" dengan software mesin\n",
        "dv_platform_isOSGenuine = df_platform_correlation[['Platform', 'IsOSGenuine']]\n",
        "dv_platform_isOSGenuine['IsOSGenuine'].unique()\n",
        "dv_platform_isOSGenuine.drop(dv_platform_isOSGenuine[dv_platform_isOSGenuine['IsOSGenuine'] == \"INVALID_LICENSE\"].index, inplace = True)\n",
        "dv_platform_isOSGenuine.drop(dv_platform_isOSGenuine[dv_platform_isOSGenuine['IsOSGenuine'] == \"OFFLINE\"].index, inplace = True)\n",
        "dv_platform_isOSGenuine.drop(dv_platform_isOSGenuine[dv_platform_isOSGenuine['IsOSGenuine'] == \"UNKNOWN\"].index, inplace = True)\n",
        "dv_platform_isOSGenuine"
      ],
      "metadata": {
        "id": "6e8l8ENHlISH"
      },
      "execution_count": null,
      "outputs": []
    },
    {
      "cell_type": "code",
      "source": [
        "dv_platform_isOSGenuine['Platform'].value_counts().plot(kind='bar', xlabel='Platform', ylabel='Genuine Frecuency', figsize=(10,5))\n",
        "plt.xticks(rotation=0)\n",
        "plt.show()"
      ],
      "metadata": {
        "id": "a4lFkdGcmOHl"
      },
      "execution_count": null,
      "outputs": []
    },
    {
      "cell_type": "markdown",
      "source": [
        "Di atas, kita bisa mendapatkan bahwa komputer dengan platform windows10 itu lebih banyak yang OS nya asli"
      ],
      "metadata": {
        "id": "a3SPILWYoEWZ"
      }
    },
    {
      "cell_type": "markdown",
      "source": [
        "### **1b Negara Produsen Antivirus dengan Ketahanan Virus**"
      ],
      "metadata": {
        "id": "8_pPLKjweCWY"
      }
    },
    {
      "cell_type": "code",
      "source": [
        "dv_negara = dv.copy()\n",
        "dv_negara_infected = dv_negara[['IdNegaraPembuat','infected_proba']]"
      ],
      "metadata": {
        "id": "pngptoCIeIKv"
      },
      "execution_count": null,
      "outputs": []
    },
    {
      "cell_type": "code",
      "source": [
        "dv_negara_infected_plot = dv_negara_infected.groupby('IdNegaraPembuat')['infected_proba'].mean().sort_values(ascending = False)"
      ],
      "metadata": {
        "id": "rzqjjENEefpu"
      },
      "execution_count": null,
      "outputs": []
    },
    {
      "cell_type": "code",
      "source": [
        "plt.figure(figsize=(50,20))\n",
        "dv_negara_infected_plot.plot(kind='bar')\n",
        "plt.xticks(rotation=0)\n",
        "plt.show()\n",
        "print(dv_negara_infected_plot)"
      ],
      "metadata": {
        "id": "gjNfZqmKezui"
      },
      "execution_count": null,
      "outputs": []
    },
    {
      "cell_type": "code",
      "source": [
        "dv_negara_infected['IdNegaraPembuat'].value_counts()"
      ],
      "metadata": {
        "id": "towjscw2FVtV"
      },
      "execution_count": null,
      "outputs": []
    },
    {
      "cell_type": "code",
      "source": [
        "dv_negara_infected['IdNegaraPembuat'].value_counts()[[134,72,13,212,200]]"
      ],
      "metadata": {
        "id": "hzSiaRWWGKEL"
      },
      "execution_count": null,
      "outputs": []
    },
    {
      "cell_type": "code",
      "source": [
        "dv_negara_infected['IdNegaraPembuat'].value_counts()[[29,107,43,171,141]]"
      ],
      "metadata": {
        "id": "fKL8lL4CH9l8"
      },
      "execution_count": null,
      "outputs": []
    },
    {
      "cell_type": "markdown",
      "source": [
        "### **1c Perbedaan ISGamer**"
      ],
      "metadata": {
        "id": "sgi8sXctTwyi"
      }
    },
    {
      "cell_type": "code",
      "source": [
        "dv_gamer = dv.copy()\n",
        "dv_gamer_ram = dv_gamer[['IsGamer','KapasitasRAM']]"
      ],
      "metadata": {
        "id": "MsgudtEjT10c"
      },
      "execution_count": null,
      "outputs": []
    },
    {
      "cell_type": "code",
      "source": [
        "dv_gamer_ram_plot = dv_gamer_ram.groupby('IsGamer')['KapasitasRAM'].mean()"
      ],
      "metadata": {
        "id": "8pCdUXI4Ylxo"
      },
      "execution_count": null,
      "outputs": []
    },
    {
      "cell_type": "code",
      "source": [
        "plt.figure(figsize=(10,8))\n",
        "dv_gamer_ram_plot.plot(kind='bar')\n",
        "plt.xticks(rotation=0)\n",
        "plt.show()\n",
        "print(dv_gamer_ram_plot)"
      ],
      "metadata": {
        "id": "742oHe_nbMKk"
      },
      "execution_count": null,
      "outputs": []
    },
    {
      "cell_type": "markdown",
      "source": [
        "Komputer gaming memiliki rata-rata kapasitas RAM yang lebih besar"
      ],
      "metadata": {
        "id": "XGgYyQrxcQ3m"
      }
    },
    {
      "cell_type": "code",
      "source": [
        "dv_gamer_BuildOS = dv_gamer[['IsGamer','BuildOS']]"
      ],
      "metadata": {
        "id": "RI-WdngdcVwg"
      },
      "execution_count": null,
      "outputs": []
    },
    {
      "cell_type": "code",
      "source": [
        "dv_gamer_BuildOS_plot = dv_gamer_BuildOS.groupby('IsGamer')['BuildOS'].mean()"
      ],
      "metadata": {
        "id": "Bl9Pz1GMc_p2"
      },
      "execution_count": null,
      "outputs": []
    },
    {
      "cell_type": "code",
      "source": [
        "plt.figure(figsize=(10,8))\n",
        "dv_gamer_BuildOS_plot.plot(kind='bar')\n",
        "plt.xticks(rotation=0)\n",
        "plt.show()\n",
        "print(dv_gamer_BuildOS_plot)"
      ],
      "metadata": {
        "id": "G0K4hG8HdA-W"
      },
      "execution_count": null,
      "outputs": []
    },
    {
      "cell_type": "markdown",
      "source": [
        "Komputer gaming memiliki rata-rata Build OS yang lebih besar"
      ],
      "metadata": {
        "id": "YSx5uIYBdSaz"
      }
    },
    {
      "cell_type": "code",
      "source": [
        "dv_gaming = dv.copy()\n",
        "dv_gaming_infected = dv_gaming[['IsGamer','infected_proba']]"
      ],
      "metadata": {
        "id": "RB1MIzDTqi4z"
      },
      "execution_count": null,
      "outputs": []
    },
    {
      "cell_type": "code",
      "source": [
        "dv_gaming_infected_plot = dv_gaming_infected.groupby('IsGamer')['infected_proba'].mean().sort_values(ascending = False)"
      ],
      "metadata": {
        "id": "2KPl3eUVquD1"
      },
      "execution_count": null,
      "outputs": []
    },
    {
      "cell_type": "code",
      "source": [
        "plt.figure(figsize=(10,8))\n",
        "dv_gaming_infected_plot.plot(kind='bar')\n",
        "plt.xticks(rotation=0)\n",
        "plt.show()\n",
        "print(dv_gaming_infected_plot)"
      ],
      "metadata": {
        "id": "9klW5Cckq9Xq"
      },
      "execution_count": null,
      "outputs": []
    },
    {
      "cell_type": "markdown",
      "source": [
        "### **1d Korelasi Software dengan Kemungkinan Terinfeksi Virus**"
      ],
      "metadata": {
        "id": "IxcWKLpCjrp7"
      }
    },
    {
      "cell_type": "code",
      "source": [
        "dv_software = dv.copy()\n",
        "dv_OsSuite_infected = dv_software[['OsSuite','infected_proba']]\n",
        "dv_platform_infected = dv_software[['Platform','infected_proba']]\n",
        "dv_BuildOS_infected = dv_software[['BuildOS','infected_proba']]"
      ],
      "metadata": {
        "id": "K4fTiOPGjyTV"
      },
      "execution_count": null,
      "outputs": []
    },
    {
      "cell_type": "code",
      "source": [
        "dv_platform_infected_plot = dv_platform_infected.groupby('Platform')['infected_proba'].mean().sort_values(ascending = False)"
      ],
      "metadata": {
        "id": "RpirDt-JkRHY"
      },
      "execution_count": null,
      "outputs": []
    },
    {
      "cell_type": "code",
      "source": [
        "plt.figure(figsize=(10,8))\n",
        "dv_platform_infected_plot.plot(kind='bar')\n",
        "plt.xticks(rotation=0)\n",
        "plt.show()\n",
        "print(dv_platform_infected_plot)"
      ],
      "metadata": {
        "id": "Y5DtcvNykmdw"
      },
      "execution_count": null,
      "outputs": []
    },
    {
      "cell_type": "code",
      "source": [
        "dv_BuildOS_infected_plot = dv_BuildOS_infected.groupby('BuildOS')['infected_proba'].mean().sort_values(ascending = False)"
      ],
      "metadata": {
        "id": "rX99axkOkzYV"
      },
      "execution_count": null,
      "outputs": []
    },
    {
      "cell_type": "code",
      "source": [
        "plt.figure(figsize=(10,8))\n",
        "dv_BuildOS_infected_plot.plot(kind='bar')\n",
        "plt.xticks(rotation=0)\n",
        "plt.show()\n",
        "print(dv_BuildOS_infected_plot)"
      ],
      "metadata": {
        "id": "X9GjHuTtlBhA"
      },
      "execution_count": null,
      "outputs": []
    },
    {
      "cell_type": "code",
      "source": [
        "dv_OsSuite_infected_plot = dv_OsSuite_infected.groupby('OsSuite')['infected_proba'].mean().sort_values(ascending = False)"
      ],
      "metadata": {
        "id": "U-jIIcPplNSE"
      },
      "execution_count": null,
      "outputs": []
    },
    {
      "cell_type": "code",
      "source": [
        "plt.figure(figsize=(10,8))\n",
        "dv_OsSuite_infected_plot.plot(kind='bar')\n",
        "plt.xticks(rotation=0)\n",
        "plt.show()\n",
        "print(dv_OsSuite_infected_plot)"
      ],
      "metadata": {
        "id": "UGApNdz7lNSF"
      },
      "execution_count": null,
      "outputs": []
    },
    {
      "cell_type": "code",
      "source": [
        "dv_hardware = dv[[\"IdNegaraPembuat\",\"Processor\",\"BanyakCoreProcessor\",\"IdPembuatProcessor\",\"KapasitasDiskMemory\",\"TipeDiskUtama\",\"KapasitasRAM\",\"TipeChassis\",\"UkuranDiagonalLayar\",\"UkuranHorisontalLayar\",\"UkuranVertikalLayar\",\"TipeBateraiInternal\",\"infected_proba\"]]\n",
        "# sns.heatmap(dvv.corr(method='pearson'), annot=True, fmt=\"0.2f\")\n",
        "# plt.title('Heatmap Correlation Matrix for FuelConsumptionCO2')"
      ],
      "metadata": {
        "id": "vnAgpxTCvGQo"
      },
      "execution_count": null,
      "outputs": []
    },
    {
      "cell_type": "code",
      "source": [
        "dv_pembuatprocessor = dv_hardware[[\"IdPembuatProcessor\",\"infected_proba\"]]\n",
        "dv_pembuatprocesor_infected_plot = dv_pembuatprocessor.groupby('IdPembuatProcessor')['infected_proba'].mean().sort_values(ascending = False)\n",
        "plt.figure(figsize=(10,8))\n",
        "dv_pembuatprocesor_infected_plot.plot(kind='bar')\n",
        "plt.xticks(rotation=0)\n",
        "plt.show()\n",
        "print(dv_pembuatprocesor_infected_plot)"
      ],
      "metadata": {
        "id": "WKYjm5Z23avP"
      },
      "execution_count": null,
      "outputs": []
    },
    {
      "cell_type": "code",
      "source": [
        "dv_pembuatprocessor.loc[dv_pembuatprocessor['IdPembuatProcessor'] == 10]"
      ],
      "metadata": {
        "id": "MMw6iLaC6-tx"
      },
      "execution_count": null,
      "outputs": []
    },
    {
      "cell_type": "code",
      "source": [
        "dv_pembuatprocessor = dv_hardware[[\"Processor\",\"infected_proba\"]]\n",
        "dv_pembuatprocesor_infected_plot = dv_pembuatprocessor.groupby('Processor')['infected_proba'].mean().sort_values(ascending = False)\n",
        "plt.figure(figsize=(10,8))\n",
        "dv_pembuatprocesor_infected_plot.plot(kind='bar')\n",
        "plt.xticks(rotation=0)\n",
        "plt.show()\n",
        "print(dv_pembuatprocesor_infected_plot)"
      ],
      "metadata": {
        "id": "8CUgllWq5SXZ"
      },
      "execution_count": null,
      "outputs": []
    },
    {
      "cell_type": "code",
      "source": [
        "dv_pembuatprocessor.loc[dv_pembuatprocessor['Processor'] == \"arm64\"]"
      ],
      "metadata": {
        "id": "3VZp5oTX8B0o"
      },
      "execution_count": null,
      "outputs": []
    },
    {
      "cell_type": "markdown",
      "source": [],
      "metadata": {
        "id": "PCx2o3Q18BlQ"
      }
    },
    {
      "cell_type": "markdown",
      "source": [
        "### **[tambahan] Mencari Korelasi ukuran horizontal layar dengan ukuran vertikal layar**"
      ],
      "metadata": {
        "id": "BEuUwZITn7sM"
      }
    },
    {
      "cell_type": "code",
      "source": [
        "plt.plot(dv['UkuranHorisontalLayar'], dv['UkuranVertikalLayar'])\n",
        "plt.title('Apakah semakin besar ukuran horizontal layar, ukuran vertikalnya juga semakin besar ?')\n",
        "plt.xlabel('Ukuran Horizontal')\n",
        "plt.ylabel('Ukuran Vertikal')\n",
        "plt.show()"
      ],
      "metadata": {
        "id": "pZ1sbtYNl7iP"
      },
      "execution_count": null,
      "outputs": []
    },
    {
      "cell_type": "markdown",
      "source": [
        "Kemungkinan besar, apabila semakin besar ukuran layar horizontal maka akan semakin besar pula ukuran vertikalnya"
      ],
      "metadata": {
        "id": "__89KukyobvC"
      }
    },
    {
      "cell_type": "markdown",
      "source": [
        "### Negara lokasi mesin dengan ketahanan virus"
      ],
      "metadata": {
        "id": "A3RTxxRe1VCU"
      }
    },
    {
      "cell_type": "code",
      "source": [
        "dv_software = dv.copy()\n",
        "dv_OsSuite_infected = dv_software[['IdLokasiGeografisMesinSaatIni','infected_proba']]\n",
        "dv_platform_infected = dv_software[['AutoUpdateSetting','infected_proba']]\n",
        "dv_BuildOS_infected = dv_software[['IsSecureBootEnabled','infected_proba']]"
      ],
      "metadata": {
        "id": "X-odJcup4CL2"
      },
      "execution_count": null,
      "outputs": []
    },
    {
      "cell_type": "code",
      "source": [
        "dv_platform_infected_plot = dv_OsSuite_infected.groupby('IdLokasiGeografisMesinSaatIni')['infected_proba'].mean().sort_values(ascending = False)"
      ],
      "metadata": {
        "id": "J8vELHK74BQI"
      },
      "execution_count": null,
      "outputs": []
    },
    {
      "cell_type": "code",
      "source": [
        "plt.figure(figsize=(10,8))\n",
        "dv_platform_infected_plot.plot(kind='bar')\n",
        "plt.xticks(rotation=0)\n",
        "plt.show()\n",
        "print(dv_platform_infected_plot)"
      ],
      "metadata": {
        "id": "9xgzNZDG4Anw"
      },
      "execution_count": null,
      "outputs": []
    },
    {
      "cell_type": "markdown",
      "source": [
        "> ada banyak negara yang memiliki ketahanan virus rendah\n",
        "seperi negara 188, 136, 145 dan lain sebagianya. sedangkan ada 3 negara dengan probabilitas terinfeksi terendah yaitu 164, 49, dan 41"
      ],
      "metadata": {
        "id": "RpRNQwLw4-jT"
      }
    },
    {
      "cell_type": "code",
      "source": [
        "dv_lokasi=dv_software[[\"IdLokasiGeografisMesinSaatIni\",\"infected_proba\"]]"
      ],
      "metadata": {
        "id": "e6pH_FAM8nPC"
      },
      "execution_count": null,
      "outputs": []
    },
    {
      "cell_type": "code",
      "source": [
        "dv_lokasi.loc[dv_lokasi['IdLokasiGeografisMesinSaatIni'].value_counts().loc[lambda x : x>1000]]"
      ],
      "metadata": {
        "id": "oRa3iTyx-m3o"
      },
      "execution_count": null,
      "outputs": []
    },
    {
      "cell_type": "code",
      "source": [
        "dv_lokasi[['IdLokasiGeografisMesinSaatIni']].value_counts().loc[lambda x : x>1000]"
      ],
      "metadata": {
        "id": "Zi3vaY8KAN12"
      },
      "execution_count": null,
      "outputs": []
    },
    {
      "cell_type": "code",
      "source": [
        "dv_platform_infected_plot = dv_lokasi.groupby('IdLokasiGeografisMesinSaatIni')['infected_proba'].mean().sort_values(ascending = False)\n",
        "dv_platform_infected_plot"
      ],
      "metadata": {
        "id": "xrqP_grNBAX6"
      },
      "execution_count": null,
      "outputs": []
    },
    {
      "cell_type": "code",
      "source": [
        "dv_lokasi['team_count'] = dv_lokasi.groupby('IdLokasiGeografisMesinSaatIni')['infected_proba'].transform('count')"
      ],
      "metadata": {
        "id": "OlOhl5o8JXMz"
      },
      "execution_count": null,
      "outputs": []
    },
    {
      "cell_type": "code",
      "source": [
        "dv_lokasi"
      ],
      "metadata": {
        "id": "2Uy6fNYcJfp4"
      },
      "execution_count": null,
      "outputs": []
    },
    {
      "cell_type": "markdown",
      "source": [
        "5 negara produsen antivirus yang memiliki ketahanan paling baik terhadap virus adalah negara dengan id 200, 212, 13, 72, dan 134 (dari yang paling bagus). Sedangkan 5 negara produsen antivirus yang memiliki kerentanan atau kemungkinan terhadap serangan atau infeksi virus adalah negara dengan id 196, 193, 117, 186, dan 105 (dari yang paling buruk)."
      ],
      "metadata": {
        "id": "_lsopB97f83J"
      }
    },
    {
      "cell_type": "code",
      "source": [
        "dv_platform_infected_plot = dv_BuildOS_infected.groupby('IsSecureBootEnabled')['infected_proba'].mean().sort_values(ascending = False)"
      ],
      "metadata": {
        "id": "OYvZEjnq4yf4"
      },
      "execution_count": null,
      "outputs": []
    },
    {
      "cell_type": "code",
      "source": [
        "plt.figure(figsize=(10,8))\n",
        "dv_platform_infected_plot.plot(kind='bar')\n",
        "plt.xticks(rotation=0)\n",
        "plt.show()\n",
        "print(dv_platform_infected_plot)"
      ],
      "metadata": {
        "id": "BvPJ6Ew_45z4"
      },
      "execution_count": null,
      "outputs": []
    },
    {
      "cell_type": "markdown",
      "source": [
        "#Pre Processing"
      ],
      "metadata": {
        "id": "tUsgT4I8fUMs"
      }
    },
    {
      "cell_type": "markdown",
      "source": [
        "## Duplicated Data"
      ],
      "metadata": {
        "id": "St56kLWkhE9m"
      }
    },
    {
      "cell_type": "code",
      "source": [
        "dv_cleaned = dv.copy()"
      ],
      "metadata": {
        "id": "-bRzonTSmBAq"
      },
      "execution_count": null,
      "outputs": []
    },
    {
      "cell_type": "code",
      "source": [
        "dv_cleaned.duplicated(keep=False).sum()"
      ],
      "metadata": {
        "id": "6i2BTbcKf9zF"
      },
      "execution_count": null,
      "outputs": []
    },
    {
      "cell_type": "code",
      "source": [
        "# dropping duplicate values\n",
        "dv_cleaned = dv_cleaned.drop_duplicates()\n",
        "\n",
        "dv_cleaned.duplicated(keep=False).sum()"
      ],
      "metadata": {
        "id": "zsjVHxwZgVDc"
      },
      "execution_count": null,
      "outputs": []
    },
    {
      "cell_type": "markdown",
      "source": [
        "## Outliers"
      ],
      "metadata": {
        "id": "EJ3bhDROhC0r"
      }
    },
    {
      "cell_type": "code",
      "source": [
        "def outlier_counter(df):\n",
        "  q1 = df.quantile(q = 0.25)\n",
        "  q3 = df.quantile(q = 0.75)\n",
        "  iqr = q3 - q1\n",
        "  hasil = ((df < (q1 - 1.5 * iqr)) | (df > (q3 + 1.5 * iqr))).sum()\n",
        "  return hasil"
      ],
      "metadata": {
        "id": "Wf36ZiLRtrzu"
      },
      "execution_count": null,
      "outputs": []
    },
    {
      "cell_type": "code",
      "source": [
        "def outlier_to_median(df, column):\n",
        "  # membuat outliers menjadi NaN Value\n",
        "  quartile1 = df[column].quantile(q=0.25)\n",
        "  quartile3 = df[column].quantile(q=0.75)\n",
        "  iqr = quartile3 - quartile1\n",
        "  df.loc [df[column] < (quartile1 - 1.5 * iqr), column] = np.nan\n",
        "  df.loc [df[column] > (quartile3 + 1.5 * iqr), column] = np.nan\n",
        "  # mengisi bagian yang NaN aatau yang missing value dengan median\n",
        "  df.fillna(df[column].median())\n",
        "  # memeriksa apakah masih ada outliers atau tidak\n",
        "  quartile1 = df[column].quantile(q=0.25)\n",
        "  quartile3 = df[column].quantile(q=0.75)\n",
        "  recent_outlier = ((df[column] < (quartile1 - 1.5 * iqr)) | (df[column] > (quartile3 + 1.5 * iqr))).sum()\n",
        "  print(\"outlier saat ini ada sebanyak\",recent_outlier)"
      ],
      "metadata": {
        "id": "DIolKfs3uNai"
      },
      "execution_count": null,
      "outputs": []
    },
    {
      "cell_type": "code",
      "source": [
        "def drop_outlier(df, column):\n",
        "  # membuat outliers menjadi NaN Value\n",
        "  quartile1 = df[column].quantile(q=0.25)\n",
        "  quartile3 = df[column].quantile(q=0.75)\n",
        "  iqr = quartile3 - quartile1\n",
        "  df.loc [df[column] < (quartile1 - 1.5 * iqr), column] = np.nan\n",
        "  df.loc [df[column] > (quartile3 + 1.5 * iqr), column] = np.nan\n",
        "  # menghapus outlier\n",
        "  df.dropna()\n",
        "  # memeriksa apakah masih ada outliers atau tidak\n",
        "  quartile1 = df[column].quantile(q=0.25)\n",
        "  quartile3 = df[column].quantile(q=0.75)\n",
        "  recent_outlier = ((df[column] < (quartile1 - 1.5 * iqr)) | (df[column] > (quartile3 + 1.5 * iqr))).sum()\n",
        "  print(\"outlier saat ini ada sebanyak\",recent_outlier)"
      ],
      "metadata": {
        "id": "cBSW3sRJ6D7z"
      },
      "execution_count": null,
      "outputs": []
    },
    {
      "cell_type": "code",
      "source": [
        "def outlier_to_upper_lower(df, column):\n",
        "  # membuat outliers menjadi NaN Value\n",
        "  quartile1 = df[column].quantile(q=0.25)\n",
        "  quartile3 = df[column].quantile(q=0.75)\n",
        "  iqr = quartile3 - quartile1\n",
        "  lower = quartile1 - 1.5 * iqr\n",
        "  upper = quartile3 + 1.5 * iqr\n",
        "  df.loc [df[column] < (quartile1 - 1.5 * iqr), column] = lower\n",
        "  df.loc [df[column] > (quartile3 + 1.5 * iqr), column] = upper\n",
        "  # memeriksa apakah masih ada outliers atau tidak\n",
        "  quartile1 = df[column].quantile(q=0.25)\n",
        "  quartile3 = df[column].quantile(q=0.75)\n",
        "  recent_outlier = ((df[column] < (quartile1 - 1.5 * iqr)) | (df[column] > (quartile3 + 1.5 * iqr))).sum()\n",
        "  print(\"outlier saat ini ada sebanyak\",recent_outlier)"
      ],
      "metadata": {
        "id": "7ODDoF5d9u-K"
      },
      "execution_count": null,
      "outputs": []
    },
    {
      "cell_type": "code",
      "source": [
        "def outlier_info(df, column):\n",
        "  q1 = df[column].quantile(q = 0.25)\n",
        "  q3 = df[column].quantile(q = 0.75)\n",
        "  iqr = q3 - q1\n",
        "  lower = q1 - 1.5 * iqr\n",
        "  upper = q3 + 1.5 * iqr\n",
        "  median = df[column].median()\n",
        "  print(\"q1: \"+str(q1))\n",
        "  print(\"q3: \"+str(q3))\n",
        "  print(\"lower: \"+str(lower))\n",
        "  print(\"upper: \"+str(upper))\n",
        "  print(\"median: \"+str(median))"
      ],
      "metadata": {
        "id": "2vRH_zXayi-B"
      },
      "execution_count": null,
      "outputs": []
    },
    {
      "cell_type": "code",
      "source": [
        "outlier_counter(dv_cleaned)"
      ],
      "metadata": {
        "id": "BvF0gEaCvlOO"
      },
      "execution_count": null,
      "outputs": []
    },
    {
      "cell_type": "code",
      "source": [
        "dv_cleaned['IsGamer'].value_counts()"
      ],
      "metadata": {
        "id": "ME7dhX_UwP3-"
      },
      "execution_count": null,
      "outputs": []
    },
    {
      "cell_type": "code",
      "source": [
        "dv_cleaned['IsTouchScreen'].value_counts()"
      ],
      "metadata": {
        "id": "TKOnd08RwpfC"
      },
      "execution_count": null,
      "outputs": []
    },
    {
      "cell_type": "markdown",
      "source": [
        "> Untuk outlier IsGamer dan IsTouchScreen menurut kami tidak perlu ditangani karena sebenarnya valuenya hanya 2, yaitu benar (1) atau tidak (0)"
      ],
      "metadata": {
        "id": "nRL2u3aMwskY"
      }
    },
    {
      "cell_type": "code",
      "source": [
        "dv_cleaned['KapasitasDiskMemory'].value_counts()"
      ],
      "metadata": {
        "id": "1gyuB1qEwilr"
      },
      "execution_count": null,
      "outputs": []
    },
    {
      "cell_type": "code",
      "source": [
        "outlier_info(dv_cleaned, \"KapasitasDiskMemory\")"
      ],
      "metadata": {
        "id": "2Clu80qF9amL"
      },
      "execution_count": null,
      "outputs": []
    },
    {
      "cell_type": "code",
      "source": [
        "dv_cleaned['BanyakCoreProcessor'].value_counts()"
      ],
      "metadata": {
        "id": "8LVCk9Ocyavh"
      },
      "execution_count": null,
      "outputs": []
    },
    {
      "cell_type": "code",
      "source": [
        "outlier_info(dv_cleaned, \"BanyakCoreProcessor\")"
      ],
      "metadata": {
        "id": "-xftylt_zuV1"
      },
      "execution_count": null,
      "outputs": []
    },
    {
      "cell_type": "markdown",
      "source": [
        "> Untuk outlier BanyakCoreProcessor, kami menanganinnya dengan cara menjadikan upper apabila melewati upper limit atau menjadikan lower apabila melewati lower limit"
      ],
      "metadata": {
        "id": "ytWQPqLp0lau"
      }
    },
    {
      "cell_type": "code",
      "source": [
        "dv_cleaned[\"BanyakAntivirus\"].value_counts()"
      ],
      "metadata": {
        "id": "iyzqX7B70Rvq"
      },
      "execution_count": null,
      "outputs": []
    },
    {
      "cell_type": "code",
      "source": [
        "outlier_info(dv_cleaned, \"BanyakAntivirus\")"
      ],
      "metadata": {
        "id": "DLPDYjSl0LRo"
      },
      "execution_count": null,
      "outputs": []
    },
    {
      "cell_type": "code",
      "source": [
        "dv_cleaned[\"RevisiBuildOS\"].value_counts()"
      ],
      "metadata": {
        "id": "e5NmsHlp3_8K"
      },
      "execution_count": null,
      "outputs": []
    },
    {
      "cell_type": "code",
      "source": [
        "outlier_info(dv_cleaned, \"RevisiBuildOS\")"
      ],
      "metadata": {
        "id": "2T14zK0S4GmK"
      },
      "execution_count": null,
      "outputs": []
    },
    {
      "cell_type": "code",
      "source": [
        "dv_cleaned[\"IdModelOEM\"].value_counts()"
      ],
      "metadata": {
        "id": "o0J51cfo7Aid"
      },
      "execution_count": null,
      "outputs": []
    },
    {
      "cell_type": "code",
      "source": [
        "outlier_info(dv_cleaned, \"IdModelOEM\")"
      ],
      "metadata": {
        "id": "r3EFnCCk7KxR"
      },
      "execution_count": null,
      "outputs": []
    },
    {
      "cell_type": "code",
      "source": [
        "outlier_to_upper_lower(dv_cleaned,\"BanyakCoreProcessor\")"
      ],
      "metadata": {
        "id": "sh9v98Cs51cl"
      },
      "execution_count": null,
      "outputs": []
    },
    {
      "cell_type": "code",
      "source": [
        "outlier_to_upper_lower(dv_cleaned,\"RevisiBuildOS\")"
      ],
      "metadata": {
        "id": "moR-zwxr7U1b"
      },
      "execution_count": null,
      "outputs": []
    },
    {
      "cell_type": "code",
      "source": [
        "dv_cleaned[\"RevisiBuildOS\"].value_counts()"
      ],
      "metadata": {
        "id": "iBvOOCToALvR"
      },
      "execution_count": null,
      "outputs": []
    },
    {
      "cell_type": "code",
      "source": [
        "outlier_info(dv_cleaned, \"RevisiBuildOS\")"
      ],
      "metadata": {
        "id": "dUDSm1NLAYI4"
      },
      "execution_count": null,
      "outputs": []
    },
    {
      "cell_type": "code",
      "source": [
        "outlier_to_upper_lower(dv_cleaned,\"BanyakAntivirus\")"
      ],
      "metadata": {
        "id": "-cERU3kQo0Sn"
      },
      "execution_count": null,
      "outputs": []
    },
    {
      "cell_type": "code",
      "source": [
        "outlier_to_upper_lower(dv_cleaned,\"KapasitasDiskMemory\")"
      ],
      "metadata": {
        "id": "Bvm6Afewo69L"
      },
      "execution_count": null,
      "outputs": []
    },
    {
      "cell_type": "code",
      "source": [
        "outlier_to_upper_lower(dv_cleaned,\"KapasitasRAM\")"
      ],
      "metadata": {
        "id": "3vCL-omEpH4g"
      },
      "execution_count": null,
      "outputs": []
    },
    {
      "cell_type": "code",
      "source": [
        "outlier_to_upper_lower(dv_cleaned,\"KapasitasVolumeSistem\")"
      ],
      "metadata": {
        "id": "FqV8vUR5pLYF"
      },
      "execution_count": null,
      "outputs": []
    },
    {
      "cell_type": "code",
      "source": [
        "outlier_to_upper_lower(dv_cleaned,\"UkuranDiagonalLayar\")"
      ],
      "metadata": {
        "id": "iFPRCyLSpPAt"
      },
      "execution_count": null,
      "outputs": []
    },
    {
      "cell_type": "code",
      "source": [
        "outlier_to_upper_lower(dv_cleaned,\"UkuranHorisontalLayar\")"
      ],
      "metadata": {
        "id": "pn4y47YQpVMa"
      },
      "execution_count": null,
      "outputs": []
    },
    {
      "cell_type": "code",
      "source": [
        "outlier_to_upper_lower(dv_cleaned,\"UkuranVertikalLayar\")"
      ],
      "metadata": {
        "id": "C_5ln-LGpVBD"
      },
      "execution_count": null,
      "outputs": []
    },
    {
      "cell_type": "code",
      "source": [
        "outlier_counter(dv_cleaned)"
      ],
      "metadata": {
        "id": "xr7sB_svBgt6"
      },
      "execution_count": null,
      "outputs": []
    },
    {
      "cell_type": "code",
      "source": [
        "dv_cleaned"
      ],
      "metadata": {
        "id": "hNewTmQAA_lm"
      },
      "execution_count": null,
      "outputs": []
    },
    {
      "cell_type": "markdown",
      "source": [
        "## Missing Value"
      ],
      "metadata": {
        "id": "usmPjmXxhIme"
      }
    },
    {
      "cell_type": "code",
      "source": [
        "# Cek missing value\n",
        "def cek_null(df):\n",
        "    col_na = df.isnull().sum().sort_values(ascending=False)\n",
        "    percent = col_na / len(df)\n",
        "    \n",
        "    missing_data = pd.concat([col_na, percent], axis=1, keys=['Total', 'Percent'])\n",
        "    print(missing_data[missing_data['Total'] > 0])"
      ],
      "metadata": {
        "id": "TNgU2UfwgLUl"
      },
      "execution_count": null,
      "outputs": []
    },
    {
      "cell_type": "code",
      "source": [
        "cek_null(dv_cleaned)"
      ],
      "metadata": {
        "id": "shwJQAOggN0X"
      },
      "execution_count": null,
      "outputs": []
    },
    {
      "cell_type": "code",
      "source": [
        "dv_cleaned.drop('IdDefaultBrowser', inplace=True, axis=1)"
      ],
      "metadata": {
        "id": "leFEzV_ejjY7"
      },
      "execution_count": null,
      "outputs": []
    },
    {
      "cell_type": "code",
      "source": [
        "cek_null(dv_cleaned)"
      ],
      "metadata": {
        "id": "jb03Te4xDO1Q"
      },
      "execution_count": null,
      "outputs": []
    },
    {
      "cell_type": "code",
      "source": [
        "dv_cleaned[\"IdLokasiGeografisMesinSaatIni\"].unique()"
      ],
      "metadata": {
        "id": "LW3nk-9BEFS3"
      },
      "execution_count": null,
      "outputs": []
    },
    {
      "cell_type": "code",
      "source": [
        "dv_cleaned['IdLokasiGeografisMesinSaatIni'].fillna(value = 0, inplace = True)"
      ],
      "metadata": {
        "id": "1zOT3oIeEO5c"
      },
      "execution_count": null,
      "outputs": []
    },
    {
      "cell_type": "code",
      "source": [
        "dv_cleaned['IdModelProcessor'].fillna(value = 0, inplace = True)"
      ],
      "metadata": {
        "id": "jSS4_2RUtkk8"
      },
      "execution_count": null,
      "outputs": []
    },
    {
      "cell_type": "code",
      "source": [
        "dv_cleaned['IdOEM'].fillna(value = 0, inplace = True)"
      ],
      "metadata": {
        "id": "a5DlrDyutlMR"
      },
      "execution_count": null,
      "outputs": []
    },
    {
      "cell_type": "code",
      "source": [
        "dv_cleaned['IdModelOEM'].fillna(value = 0, inplace = True)"
      ],
      "metadata": {
        "id": "GEryiZC0tqjm"
      },
      "execution_count": null,
      "outputs": []
    },
    {
      "cell_type": "code",
      "source": [
        "dv_cleaned['IdVersiFirmware'].fillna(value = 0, inplace = True)"
      ],
      "metadata": {
        "id": "CupGOHsztt_7"
      },
      "execution_count": null,
      "outputs": []
    },
    {
      "cell_type": "code",
      "source": [
        "dv_cleaned['IdPembuatFirmware'].fillna(value = 0, inplace = True)"
      ],
      "metadata": {
        "id": "KZTArbJZt1sE"
      },
      "execution_count": null,
      "outputs": []
    },
    {
      "cell_type": "code",
      "source": [
        "dv_cleaned.drop('IdSettingAntivirus', inplace=True, axis=1)"
      ],
      "metadata": {
        "id": "Yc4jBMbVt4bX"
      },
      "execution_count": null,
      "outputs": []
    },
    {
      "cell_type": "code",
      "source": [
        "dv_cleaned.drop('IdOrganisasiPembuat', inplace=True, axis=1)"
      ],
      "metadata": {
        "id": "FyrYxmiut4O9"
      },
      "execution_count": null,
      "outputs": []
    },
    {
      "cell_type": "code",
      "source": [
        "dv_cleaned['IdKotaPembuat'].fillna(value = 0, inplace = True)"
      ],
      "metadata": {
        "id": "rr7x2GHbuOLB"
      },
      "execution_count": null,
      "outputs": []
    },
    {
      "cell_type": "code",
      "source": [
        "dv_cleaned['IdPembuatProcessor'].fillna(value = 0, inplace = True)"
      ],
      "metadata": {
        "id": "5_2uTuJSuOEI"
      },
      "execution_count": null,
      "outputs": []
    },
    {
      "cell_type": "code",
      "source": [
        "dv_cleaned['TipeBateraiInternal'] = dv_cleaned['TipeBateraiInternal'].fillna(dv_cleaned['TipeBateraiInternal'].mode()[0])"
      ],
      "metadata": {
        "id": "kN3_41J124ob"
      },
      "execution_count": null,
      "outputs": []
    },
    {
      "cell_type": "code",
      "source": [
        "dv_cleaned['SmartScreenSetting'] = dv_cleaned['SmartScreenSetting'].fillna(dv_cleaned['SmartScreenSetting'].mode()[0])"
      ],
      "metadata": {
        "id": "0Nz6eHf94Ea1"
      },
      "execution_count": null,
      "outputs": []
    },
    {
      "cell_type": "code",
      "source": [
        "dv_cleaned['BanyakAntivirus'] = dv_cleaned['BanyakAntivirus'].fillna(dv_cleaned['BanyakAntivirus'].median())"
      ],
      "metadata": {
        "id": "XiOgvmpY4Hi4"
      },
      "execution_count": null,
      "outputs": []
    },
    {
      "cell_type": "code",
      "source": [
        "dv_cleaned['UkuranDiagonalLayar'] = dv_cleaned['UkuranDiagonalLayar'].fillna(dv_cleaned['UkuranDiagonalLayar'].median())"
      ],
      "metadata": {
        "id": "q5Cwcm9I4Po_"
      },
      "execution_count": null,
      "outputs": []
    },
    {
      "cell_type": "code",
      "source": [
        "dv_cleaned['UkuranVertikalLayar'] = dv_cleaned['UkuranVertikalLayar'].fillna(dv_cleaned['UkuranVertikalLayar'].median())"
      ],
      "metadata": {
        "id": "ZrO01tR54UVY"
      },
      "execution_count": null,
      "outputs": []
    },
    {
      "cell_type": "code",
      "source": [
        "dv_cleaned['UkuranHorisontalLayar'] = dv_cleaned['UkuranHorisontalLayar'].fillna(dv_cleaned['UkuranHorisontalLayar'].median())"
      ],
      "metadata": {
        "id": "5AQ3iRks4biZ"
      },
      "execution_count": null,
      "outputs": []
    },
    {
      "cell_type": "code",
      "source": [
        "dv_cleaned['TipeDiskUtama'] = dv_cleaned['TipeDiskUtama'].fillna(dv_cleaned['TipeDiskUtama'].mode()[0])"
      ],
      "metadata": {
        "id": "IMef_j9n4d9A"
      },
      "execution_count": null,
      "outputs": []
    },
    {
      "cell_type": "code",
      "source": [
        "dv_cleaned['KapasitasRAM'] = dv_cleaned['KapasitasRAM'].fillna(dv_cleaned['KapasitasRAM'].median())"
      ],
      "metadata": {
        "id": "fK10PS9H4q3o"
      },
      "execution_count": null,
      "outputs": []
    },
    {
      "cell_type": "code",
      "source": [
        "dv_cleaned['BanyakCoreProcessor'] = dv_cleaned['BanyakCoreProcessor'].fillna(dv_cleaned['BanyakCoreProcessor'].median())"
      ],
      "metadata": {
        "id": "Eq9ds92B4x2z"
      },
      "execution_count": null,
      "outputs": []
    },
    {
      "cell_type": "code",
      "source": [
        "dv_cleaned['VersiInternetExplorer'] = dv_cleaned['VersiInternetExplorer'].fillna(dv_cleaned['VersiInternetExplorer'].median())"
      ],
      "metadata": {
        "id": "dyzLsrUe41wL"
      },
      "execution_count": null,
      "outputs": []
    },
    {
      "cell_type": "code",
      "source": [
        "dv_cleaned['IsGamer'] = dv_cleaned['IsGamer'].fillna(dv_cleaned['IsGamer'].median())"
      ],
      "metadata": {
        "id": "lsRi6jN05HlT"
      },
      "execution_count": null,
      "outputs": []
    },
    {
      "cell_type": "code",
      "source": [
        "dv_cleaned['KapasitasVolumeSistem'] = dv_cleaned['KapasitasVolumeSistem'].fillna(dv_cleaned['KapasitasVolumeSistem'].median())"
      ],
      "metadata": {
        "id": "OdnXDDNs5Mj-"
      },
      "execution_count": null,
      "outputs": []
    },
    {
      "cell_type": "code",
      "source": [
        "dv_cleaned['KapasitasDiskMemory'] = dv_cleaned['KapasitasDiskMemory'].fillna(dv_cleaned['KapasitasDiskMemory'].median())"
      ],
      "metadata": {
        "id": "GTaa1TIp5RmK"
      },
      "execution_count": null,
      "outputs": []
    },
    {
      "cell_type": "code",
      "source": [
        "dv_cleaned['TipeChassis'] = dv_cleaned['TipeChassis'].fillna(dv_cleaned['TipeChassis'].mode()[0])"
      ],
      "metadata": {
        "id": "7miO5r7Z5YyO"
      },
      "execution_count": null,
      "outputs": []
    },
    {
      "cell_type": "code",
      "source": [
        "cek_null(dv_cleaned)"
      ],
      "metadata": {
        "id": "fRSUpUbbEaTJ"
      },
      "execution_count": null,
      "outputs": []
    },
    {
      "cell_type": "code",
      "source": [
        "dv_cleaned.info()"
      ],
      "metadata": {
        "id": "ckMJN2r438mY"
      },
      "execution_count": null,
      "outputs": []
    },
    {
      "cell_type": "code",
      "source": [
        "outlier_counter(dv_cleaned)"
      ],
      "metadata": {
        "id": "vXozC4jhunkP"
      },
      "execution_count": null,
      "outputs": []
    },
    {
      "cell_type": "code",
      "source": [
        "outlier_to_upper_lower(dv_cleaned,\"BanyakAntivirus\")\n",
        "outlier_to_upper_lower(dv_cleaned,\"KapasitasDiskMemory\")\n",
        "outlier_to_upper_lower(dv_cleaned,\"KapasitasVolumeSistem\")\n",
        "outlier_to_upper_lower(dv_cleaned,\"UkuranDiagonalLayar\")"
      ],
      "metadata": {
        "id": "-FoiFg4mcd5G"
      },
      "execution_count": null,
      "outputs": []
    },
    {
      "cell_type": "code",
      "source": [
        "outlier_counter(dv_cleaned)"
      ],
      "metadata": {
        "id": "lliMtPOIdFnZ"
      },
      "execution_count": null,
      "outputs": []
    },
    {
      "cell_type": "markdown",
      "source": [
        "##Encode"
      ],
      "metadata": {
        "id": "yAA6q9T-opMT"
      }
    },
    {
      "cell_type": "code",
      "source": [
        "dv_cleaned.info()"
      ],
      "metadata": {
        "id": "u77icwtEpxag"
      },
      "execution_count": null,
      "outputs": []
    },
    {
      "cell_type": "markdown",
      "source": [
        "### Platform Encoding"
      ],
      "metadata": {
        "id": "wD-RZksHScwQ"
      }
    },
    {
      "cell_type": "code",
      "source": [
        "dv_cleaned['Platform'].value_counts()"
      ],
      "metadata": {
        "id": "KfJmzjAMrxyT"
      },
      "execution_count": null,
      "outputs": []
    },
    {
      "cell_type": "code",
      "source": [
        "from sklearn.preprocessing import OneHotEncoder\n",
        "\n",
        "encoder = OneHotEncoder(sparse=False)\n",
        "encoder = encoder.fit_transform(dv_cleaned[['Platform']])\n",
        "dv_cleaned_platform = pd.DataFrame(encoder)"
      ],
      "metadata": {
        "id": "4ime6LrDor7e"
      },
      "execution_count": null,
      "outputs": []
    },
    {
      "cell_type": "code",
      "source": [
        "dv_cleaned_platform.value_counts()"
      ],
      "metadata": {
        "id": "PRpqkepdsfSf"
      },
      "execution_count": null,
      "outputs": []
    },
    {
      "cell_type": "code",
      "source": [
        "dv_cleaned_platform.rename(columns = {0:'Windows 10', 1:'Windows 7', 2:'Windows 8', 3:'Windows 2016'}, inplace = True)\n",
        "\n",
        "dv_cleaned_platform"
      ],
      "metadata": {
        "id": "EjtCG2URumhm"
      },
      "execution_count": null,
      "outputs": []
    },
    {
      "cell_type": "code",
      "source": [
        "dv_cleaned = dv_cleaned.join(dv_cleaned_platform)\n",
        "dv_cleaned"
      ],
      "metadata": {
        "id": "dX0M6JcbuxdK"
      },
      "execution_count": null,
      "outputs": []
    },
    {
      "cell_type": "code",
      "source": [
        "dv_cleaned.drop('Platform', inplace=True, axis=1)\n",
        "dv_cleaned"
      ],
      "metadata": {
        "id": "lDzUFyVGu5ca"
      },
      "execution_count": null,
      "outputs": []
    },
    {
      "cell_type": "markdown",
      "source": [
        "### Processor Encoding"
      ],
      "metadata": {
        "id": "kGQTvXxiSZwZ"
      }
    },
    {
      "cell_type": "code",
      "source": [
        "encoder = OneHotEncoder(sparse=False)\n",
        "encoder = encoder.fit_transform(dv_cleaned[['Processor']])\n",
        "dv_cleaned_processor = pd.DataFrame(encoder)"
      ],
      "metadata": {
        "id": "Uy14G70ivC9A"
      },
      "execution_count": null,
      "outputs": []
    },
    {
      "cell_type": "code",
      "source": [
        "print(dv_cleaned_processor.value_counts())\n",
        "print(dv_cleaned['Processor'].value_counts())"
      ],
      "metadata": {
        "id": "l-ECDDD6xDwU"
      },
      "execution_count": null,
      "outputs": []
    },
    {
      "cell_type": "code",
      "source": [
        "dv_cleaned_processor.rename(columns = {0:'x64', 1:'x86', 2:'arm64'}, inplace = True)\n",
        "dv_cleaned = dv_cleaned.join(dv_cleaned_processor)\n",
        "dv_cleaned.drop('Processor', inplace=True, axis=1)\n",
        "dv_cleaned"
      ],
      "metadata": {
        "id": "aaoxJFZ6xNeM"
      },
      "execution_count": null,
      "outputs": []
    },
    {
      "cell_type": "markdown",
      "source": [
        "###TipeBateraiInternal Encoding"
      ],
      "metadata": {
        "id": "ZMdHg5mghXHO"
      }
    },
    {
      "cell_type": "code",
      "source": [
        "from sklearn.preprocessing import LabelEncoder\n",
        "\n",
        "# TipeBateraiInternal\n",
        "labelencoder = LabelEncoder()\n",
        "# Assigning numerical values and storing in another column\n",
        "dv_cleaned['TipeBateraiInternal_encode'] = labelencoder.fit_transform(dv_cleaned['TipeBateraiInternal'])"
      ],
      "metadata": {
        "id": "y-BAvQmaxq-m"
      },
      "execution_count": null,
      "outputs": []
    },
    {
      "cell_type": "code",
      "source": [
        "print(dv_cleaned['TipeBateraiInternal'].value_counts())\n",
        "print(dv_cleaned['TipeBateraiInternal_encode'].value_counts())"
      ],
      "metadata": {
        "id": "n6cMTJeFy1z-"
      },
      "execution_count": null,
      "outputs": []
    },
    {
      "cell_type": "code",
      "source": [
        "dv_cleaned.drop('TipeBateraiInternal', inplace=True, axis=1)"
      ],
      "metadata": {
        "id": "UUCLg6vNzBFN"
      },
      "execution_count": null,
      "outputs": []
    },
    {
      "cell_type": "code",
      "source": [
        "# DAFTAR DATA KATEGORIKAL YANG BLOM DIENCODE\n",
        "\n",
        "#  28  SkuNameOS                      149605 non-null  object \n",
        "#  29  TipeInstallasiOS               149605 non-null  object \n",
        "#  30  AutoUpdateSetting              149605 non-null  object \n",
        "#  31  IsOSGenuine                    149605 non-null  object \n",
        "# 22  VersiOS                        149605 non-null  object \n",
        "#  23  ArsitekturOS                   149605 non-null  object \n",
        "#  24  BranchOS                       149605 non-null  object \n",
        "#   18  TipeChassis                    149605 non-null  object \n",
        "#    15  TipeDiskUtama                  149605 non-null  object \n",
        "#  7   SmartScreenSetting             149605 non-null  object \n",
        "#  8   DeviceType                     149605 non-null  object \n",
        "\n",
        "# dv_cleaned['VersiOS'].value_counts()\n",
        "# dv_cleaned['ArsitekturOS'].value_counts()\n",
        "# dv_cleaned['BranchOS'].value_counts()\n",
        "# dv_cleaned['TipeChassis'].value_counts()\n",
        "# dv_cleaned['TipeDiskUtama'].value_counts()\n",
        "# dv_cleaned['SmartScreenSetting'].value_counts()\n",
        "# dv_cleaned['DeviceType'].value_counts()\n"
      ],
      "metadata": {
        "id": "gsGUEQ1r6FW6"
      },
      "execution_count": null,
      "outputs": []
    },
    {
      "cell_type": "markdown",
      "source": [
        "###EdisiOS Encoding"
      ],
      "metadata": {
        "id": "Nh-WyiZgNS6M"
      }
    },
    {
      "cell_type": "code",
      "source": [
        "dv_cleaned['EdisiOS'].unique()\n",
        "labelencoder = LabelEncoder()\n",
        "# Assigning numerical values and storing in another column\n",
        "dv_cleaned['EdisiOS_encode'] = labelencoder.fit_transform(dv_cleaned['EdisiOS'])"
      ],
      "metadata": {
        "id": "WwTeChck6j72"
      },
      "execution_count": null,
      "outputs": []
    },
    {
      "cell_type": "code",
      "source": [
        "print(dv_cleaned['EdisiOS'].value_counts())\n",
        "print(dv_cleaned['EdisiOS_encode'].value_counts())"
      ],
      "metadata": {
        "id": "3OfMVFSi7H1W"
      },
      "execution_count": null,
      "outputs": []
    },
    {
      "cell_type": "code",
      "source": [
        "dv_cleaned.drop('EdisiOS', inplace=True, axis=1)"
      ],
      "metadata": {
        "id": "YVME7psg7Qvb"
      },
      "execution_count": null,
      "outputs": []
    },
    {
      "cell_type": "markdown",
      "source": [
        "###SkuNameOS Encoding"
      ],
      "metadata": {
        "id": "hK7DxadjNNWj"
      }
    },
    {
      "cell_type": "code",
      "source": [
        "dv_cleaned['SkuNameOS'].value_counts()"
      ],
      "metadata": {
        "id": "BD7XZTfkK-g_"
      },
      "execution_count": null,
      "outputs": []
    },
    {
      "cell_type": "code",
      "source": [
        "dv_cleaned['SkuNameOS'].unique()\n",
        "dv_cleaned['SkuNameOS_encode'] = labelencoder.fit_transform(dv_cleaned['SkuNameOS'])"
      ],
      "metadata": {
        "id": "8JI1iDfHLqPo"
      },
      "execution_count": null,
      "outputs": []
    },
    {
      "cell_type": "code",
      "source": [
        "print(dv_cleaned['SkuNameOS'].value_counts())\n",
        "print(dv_cleaned['SkuNameOS_encode'].value_counts())"
      ],
      "metadata": {
        "id": "wT5W--D8MEq9"
      },
      "execution_count": null,
      "outputs": []
    },
    {
      "cell_type": "code",
      "source": [
        "dv_cleaned.drop('SkuNameOS', inplace=True, axis=1)"
      ],
      "metadata": {
        "id": "sv5dbZaYM0Gs"
      },
      "execution_count": null,
      "outputs": []
    },
    {
      "cell_type": "markdown",
      "source": [
        "###TipeInstallasiOS Encoding"
      ],
      "metadata": {
        "id": "OmlDH47zNY1y"
      }
    },
    {
      "cell_type": "code",
      "source": [
        "dv_cleaned['TipeInstallasiOS'].value_counts()"
      ],
      "metadata": {
        "id": "jCLVi44ANdiq"
      },
      "execution_count": null,
      "outputs": []
    },
    {
      "cell_type": "code",
      "source": [
        "dv_cleaned['TipeInstallasiOS'].unique()\n",
        "dv_cleaned['TipeInstallasiOS_encode'] = labelencoder.fit_transform(dv_cleaned['TipeInstallasiOS'])"
      ],
      "metadata": {
        "id": "Cb-FdQQTOyzn"
      },
      "execution_count": null,
      "outputs": []
    },
    {
      "cell_type": "code",
      "source": [
        "print(dv_cleaned['TipeInstallasiOS'].value_counts())\n",
        "print(dv_cleaned['TipeInstallasiOS_encode'].value_counts())"
      ],
      "metadata": {
        "id": "3HS6ut8EPH2C"
      },
      "execution_count": null,
      "outputs": []
    },
    {
      "cell_type": "code",
      "source": [
        "dv_cleaned.drop('TipeInstallasiOS', inplace=True, axis=1)"
      ],
      "metadata": {
        "id": "KaaWHgSZPO8y"
      },
      "execution_count": null,
      "outputs": []
    },
    {
      "cell_type": "markdown",
      "source": [
        "###AutoUpdateSetting Encoding"
      ],
      "metadata": {
        "id": "l7nNvK-PPVi0"
      }
    },
    {
      "cell_type": "code",
      "source": [
        "dv_cleaned['AutoUpdateSetting'].value_counts()"
      ],
      "metadata": {
        "id": "gokQNc2VPZaH"
      },
      "execution_count": null,
      "outputs": []
    },
    {
      "cell_type": "code",
      "source": [
        "dv_cleaned['AutoUpdateSetting'].unique()\n",
        "dv_cleaned['AutoUpdateSetting_encode'] = labelencoder.fit_transform(dv_cleaned['AutoUpdateSetting'])"
      ],
      "metadata": {
        "id": "x7zwsxJQPmFI"
      },
      "execution_count": null,
      "outputs": []
    },
    {
      "cell_type": "code",
      "source": [
        "print(dv_cleaned['AutoUpdateSetting'].value_counts())\n",
        "print(dv_cleaned['AutoUpdateSetting_encode'].value_counts())"
      ],
      "metadata": {
        "id": "VHOlROsnPsHm"
      },
      "execution_count": null,
      "outputs": []
    },
    {
      "cell_type": "code",
      "source": [
        "dv_cleaned.drop('AutoUpdateSetting', inplace=True, axis=1)"
      ],
      "metadata": {
        "id": "1atelJZ6PzOh"
      },
      "execution_count": null,
      "outputs": []
    },
    {
      "cell_type": "markdown",
      "source": [
        "###IsOSGenuine"
      ],
      "metadata": {
        "id": "QVuXGl1pSJ38"
      }
    },
    {
      "cell_type": "code",
      "source": [
        "dv_cleaned['IsOSGenuine'].value_counts()"
      ],
      "metadata": {
        "id": "h8A67fZfRiAH"
      },
      "execution_count": null,
      "outputs": []
    },
    {
      "cell_type": "code",
      "source": [
        "# encoder = OneHotEncoder(sparse=False)\n",
        "# encoder = encoder.fit_transform(dv_cleaned[['IsOSGenuine']])\n",
        "# dv_cleaned_genuine = pd.DataFrame(encoder)"
      ],
      "metadata": {
        "id": "tAY2W8yKShZh"
      },
      "execution_count": null,
      "outputs": []
    },
    {
      "cell_type": "code",
      "source": [
        "# print(dv_cleaned_genuine.value_counts())\n",
        "print(dv_cleaned['IsOSGenuine'].value_counts())"
      ],
      "metadata": {
        "id": "G3oPxV6VS4cp"
      },
      "execution_count": null,
      "outputs": []
    },
    {
      "cell_type": "code",
      "source": [
        "from sklearn.preprocessing import LabelEncoder\n",
        "\n",
        "dv_cleaned['IsOSGenuine'] = dv_cleaned['IsOSGenuine'].replace(['OFFLINE', 'UNKNOWN'], 'INVALID_LICENSE')\n",
        "print(dv_cleaned['IsOSGenuine'].value_counts())\n",
        "\n",
        "# ISOSGenuine\n",
        "labelencoder = LabelEncoder()\n",
        "# Assigning numerical values and storing in another column\n",
        "dv_cleaned['IsOSGenuine_encode'] = labelencoder.fit_transform(dv_cleaned['IsOSGenuine'])\n",
        "print(dv_cleaned['IsOSGenuine'].value_counts())\n",
        "print(dv_cleaned['IsOSGenuine_encode'].value_counts())\n",
        "dv_cleaned.drop('IsOSGenuine', inplace=True, axis=1)"
      ],
      "metadata": {
        "id": "GRTFh4-SS_NX"
      },
      "execution_count": null,
      "outputs": []
    },
    {
      "cell_type": "code",
      "source": [
        "dv_cleaned"
      ],
      "metadata": {
        "id": "azv2ohMg9DJf"
      },
      "execution_count": null,
      "outputs": []
    },
    {
      "cell_type": "code",
      "source": [
        "print(\"VersiOS\"+\"\\n\")\n",
        "print(dv_cleaned['VersiOS'].value_counts())\n",
        "print(\"\\n\")\n",
        "print(\"ArsitekturOS\"+\"\\n\")\n",
        "print(dv_cleaned['ArsitekturOS'].value_counts())\n",
        "print(\"\\n\")\n",
        "print(\"BranchOS\"+\"\\n\")\n",
        "print(dv_cleaned['BranchOS'].value_counts())\n",
        "print(\"\\n\")\n",
        "print(\"TipeChassis\"+\"\\n\")\n",
        "print(dv_cleaned['TipeChassis'].value_counts())\n",
        "print(\"\\n\")\n",
        "print(\"TipeDiskUtama\"+\"\\n\")\n",
        "print(dv_cleaned['TipeDiskUtama'].value_counts())\n",
        "print(\"\\n\")\n",
        "print(\"SmartScreenSetting\"+\"\\n\")\n",
        "print(dv_cleaned['SmartScreenSetting'].value_counts())\n",
        "print(\"\\n\")\n",
        "print(\"DeviceType\"+\"\\n\")\n",
        "print(dv_cleaned['DeviceType'].value_counts())"
      ],
      "metadata": {
        "id": "w_-PFhVycaGa"
      },
      "execution_count": null,
      "outputs": []
    },
    {
      "cell_type": "markdown",
      "source": [
        "###VersiOS Encoding"
      ],
      "metadata": {
        "id": "lTPPj6MEeJRG"
      }
    },
    {
      "cell_type": "code",
      "source": [
        "dv_cleaned['VersiOS'].unique()\n",
        "dv_cleaned['VersiOS_encode'] = labelencoder.fit_transform(dv_cleaned['VersiOS'])"
      ],
      "metadata": {
        "id": "MTnV4N9xdaIX"
      },
      "execution_count": null,
      "outputs": []
    },
    {
      "cell_type": "code",
      "source": [
        "print(dv_cleaned['VersiOS'].value_counts())\n",
        "print(dv_cleaned['VersiOS_encode'].value_counts())"
      ],
      "metadata": {
        "id": "u7duspqjerEG"
      },
      "execution_count": null,
      "outputs": []
    },
    {
      "cell_type": "code",
      "source": [
        "dv_cleaned.drop('VersiOS', inplace=True, axis=1)"
      ],
      "metadata": {
        "id": "ailgh5w1esDf"
      },
      "execution_count": null,
      "outputs": []
    },
    {
      "cell_type": "markdown",
      "source": [
        "###ArsitekturOS"
      ],
      "metadata": {
        "id": "jULCXcajA6X5"
      }
    },
    {
      "cell_type": "code",
      "source": [
        "encoder = OneHotEncoder(sparse=False)\n",
        "encoder = encoder.fit_transform(dv_cleaned[['ArsitekturOS']])\n",
        "dv_cleaned_ArsitekturOS = pd.DataFrame(encoder)"
      ],
      "metadata": {
        "id": "SQUS0C6lhirN"
      },
      "execution_count": null,
      "outputs": []
    },
    {
      "cell_type": "code",
      "source": [
        "print(dv_cleaned_ArsitekturOS.value_counts())\n",
        "print(dv_cleaned['ArsitekturOS'].value_counts())"
      ],
      "metadata": {
        "id": "Qj4xypTkhwAK"
      },
      "execution_count": null,
      "outputs": []
    },
    {
      "cell_type": "code",
      "source": [
        "dv_cleaned_ArsitekturOS.rename(columns = {0:'Arsitektur amd64', 1:'Arsitektur x86', 2:'Arsitektur arm64'}, inplace = True)\n",
        "dv_cleaned = dv_cleaned.join(dv_cleaned_ArsitekturOS)\n",
        "dv_cleaned.drop('ArsitekturOS', inplace=True, axis=1)\n",
        "dv_cleaned"
      ],
      "metadata": {
        "id": "yOkqW3j3hwAL"
      },
      "execution_count": null,
      "outputs": []
    },
    {
      "cell_type": "markdown",
      "source": [
        "### BranchOS"
      ],
      "metadata": {
        "id": "28KSVZGUA-nX"
      }
    },
    {
      "cell_type": "code",
      "source": [
        "dv_cleaned['BranchOS_encode'] = labelencoder.fit_transform(dv_cleaned['BranchOS'])\n",
        "print(dv_cleaned['BranchOS'].value_counts())\n",
        "print(dv_cleaned['BranchOS_encode'].value_counts())"
      ],
      "metadata": {
        "id": "7rfy8uvIjy47"
      },
      "execution_count": null,
      "outputs": []
    },
    {
      "cell_type": "code",
      "source": [
        "dv_cleaned.drop('BranchOS', inplace=True, axis=1)"
      ],
      "metadata": {
        "id": "EhHELKvxkMzQ"
      },
      "execution_count": null,
      "outputs": []
    },
    {
      "cell_type": "markdown",
      "source": [
        "### TipeChassis"
      ],
      "metadata": {
        "id": "C17REevGBB2N"
      }
    },
    {
      "cell_type": "code",
      "source": [
        "dv_cleaned['TipeChassis_encode'] = labelencoder.fit_transform(dv_cleaned['TipeChassis'])\n",
        "print(dv_cleaned['TipeChassis'].value_counts())\n",
        "print(dv_cleaned['TipeChassis_encode'].value_counts())"
      ],
      "metadata": {
        "id": "8ShgVt17kZe5"
      },
      "execution_count": null,
      "outputs": []
    },
    {
      "cell_type": "code",
      "source": [
        "dv_cleaned.drop('TipeChassis', inplace=True, axis=1)"
      ],
      "metadata": {
        "id": "CIuP4vwpkfGM"
      },
      "execution_count": null,
      "outputs": []
    },
    {
      "cell_type": "markdown",
      "source": [
        "###TipeDiskUtama"
      ],
      "metadata": {
        "id": "QxFFq2cDBFqA"
      }
    },
    {
      "cell_type": "code",
      "source": [
        "encoder = OneHotEncoder(sparse=False)\n",
        "encoder = encoder.fit_transform(dv_cleaned[['TipeDiskUtama']])\n",
        "dv_cleaned_TipeDiskUtama = pd.DataFrame(encoder)"
      ],
      "metadata": {
        "id": "xiwAU-r9lFIW"
      },
      "execution_count": null,
      "outputs": []
    },
    {
      "cell_type": "code",
      "source": [
        "print(dv_cleaned_TipeDiskUtama.value_counts())\n",
        "print(dv_cleaned['TipeDiskUtama'].value_counts())"
      ],
      "metadata": {
        "id": "x46d106SlFIX"
      },
      "execution_count": null,
      "outputs": []
    },
    {
      "cell_type": "code",
      "source": [
        "dv_cleaned_TipeDiskUtama.rename(columns = {0:'Disk HDD', 1:'Disk SSD', 2:'Disk UNKNOWN', 3:'Disk Unspecified'}, inplace = True)\n",
        "dv_cleaned = dv_cleaned.join(dv_cleaned_TipeDiskUtama)\n",
        "dv_cleaned.drop('TipeDiskUtama', inplace=True, axis=1)\n",
        "dv_cleaned"
      ],
      "metadata": {
        "id": "xZawxoOnlFIY"
      },
      "execution_count": null,
      "outputs": []
    },
    {
      "cell_type": "markdown",
      "source": [
        "###SmartScreenSetting"
      ],
      "metadata": {
        "id": "WvCVSgHTBJ-K"
      }
    },
    {
      "cell_type": "code",
      "source": [
        "# SmartScreenSetting\n",
        "dv_cleaned['SmartScreenSetting_encode'] = labelencoder.fit_transform(dv_cleaned['SmartScreenSetting'])\n",
        "print(dv_cleaned['SmartScreenSetting'].value_counts())\n",
        "print(dv_cleaned['SmartScreenSetting_encode'].value_counts())"
      ],
      "metadata": {
        "id": "C_fbPmrRku_W"
      },
      "execution_count": null,
      "outputs": []
    },
    {
      "cell_type": "code",
      "source": [
        "dv_cleaned.drop('SmartScreenSetting', inplace=True, axis=1)"
      ],
      "metadata": {
        "id": "NHYHY5-Bk8IO"
      },
      "execution_count": null,
      "outputs": []
    },
    {
      "cell_type": "markdown",
      "source": [
        "###DeviceType"
      ],
      "metadata": {
        "id": "gssgfv9hBNC1"
      }
    },
    {
      "cell_type": "code",
      "source": [
        "# DeviceType\n",
        "dv_cleaned['DeviceType_encode'] = labelencoder.fit_transform(dv_cleaned['DeviceType'])\n",
        "print(dv_cleaned['DeviceType'].value_counts())\n",
        "print(dv_cleaned['DeviceType_encode'].value_counts())"
      ],
      "metadata": {
        "id": "E8Qdzn-rmVt9"
      },
      "execution_count": null,
      "outputs": []
    },
    {
      "cell_type": "code",
      "source": [
        "dv_cleaned.drop('DeviceType', inplace=True, axis=1)"
      ],
      "metadata": {
        "id": "vwS8u89hmVln"
      },
      "execution_count": null,
      "outputs": []
    },
    {
      "cell_type": "markdown",
      "source": [
        "### OsPlatformSubRelease"
      ],
      "metadata": {
        "id": "lrHg96noBRDs"
      }
    },
    {
      "cell_type": "code",
      "source": [
        "dv_cleaned['OsPlatformSubRelease'].value_counts()"
      ],
      "metadata": {
        "id": "I-mAGq_LmmTV"
      },
      "execution_count": null,
      "outputs": []
    },
    {
      "cell_type": "code",
      "source": [
        "# OsPlatformSubRelease\n",
        "dv_cleaned['OsPlatformSubRelease_encode'] = labelencoder.fit_transform(dv_cleaned['OsPlatformSubRelease'])\n",
        "print(dv_cleaned['OsPlatformSubRelease'].value_counts())\n",
        "print(dv_cleaned['OsPlatformSubRelease_encode'].value_counts())"
      ],
      "metadata": {
        "id": "2Uf_1vrImztM"
      },
      "execution_count": null,
      "outputs": []
    },
    {
      "cell_type": "code",
      "source": [
        "dv_cleaned.drop('OsPlatformSubRelease', inplace=True, axis=1)"
      ],
      "metadata": {
        "id": "lOzsDZG4m9EW"
      },
      "execution_count": null,
      "outputs": []
    },
    {
      "cell_type": "code",
      "source": [
        "dv_cleaned.info()"
      ],
      "metadata": {
        "id": "SoLjYQVcnCPG"
      },
      "execution_count": null,
      "outputs": []
    },
    {
      "cell_type": "code",
      "source": [],
      "metadata": {
        "id": "ky4ZczZJzO0P"
      },
      "execution_count": null,
      "outputs": []
    },
    {
      "cell_type": "markdown",
      "source": [
        "## Normalisasi"
      ],
      "metadata": {
        "id": "o9XAGn1agioN"
      }
    },
    {
      "cell_type": "markdown",
      "source": [
        "# Klasifikasi"
      ],
      "metadata": {
        "id": "MuZZxQsDGVhz"
      }
    },
    {
      "cell_type": "code",
      "source": [
        "from sklearn.ensemble import RandomForestClassifier\n",
        "from sklearn.tree import DecisionTreeClassifier\n",
        "from sklearn.naive_bayes import GaussianNB, MultinomialNB, ComplementNB, BernoulliNB, CategoricalNB\n",
        "from sklearn.feature_selection import SelectKBest\n",
        "from sklearn.feature_selection import f_classif"
      ],
      "metadata": {
        "id": "lFX9lRiWFm-P"
      },
      "execution_count": null,
      "outputs": []
    },
    {
      "cell_type": "code",
      "source": [
        "dv_cleaned.isna().sum()"
      ],
      "metadata": {
        "id": "WWJp19ZIMzWW"
      },
      "execution_count": null,
      "outputs": []
    },
    {
      "cell_type": "code",
      "source": [
        "dv_cleaned = dv_cleaned.dropna()"
      ],
      "metadata": {
        "id": "IQx0Umi8MzUp"
      },
      "execution_count": null,
      "outputs": []
    },
    {
      "cell_type": "code",
      "source": [
        "# Memisahkan features and label\n",
        "X_raw = dv_cleaned.drop('IsGamer', axis=1)\n",
        "y = dv_cleaned['IsGamer']\n",
        "\n",
        "selector = SelectKBest(f_classif, k=10)\n",
        "\n",
        "X = selector.fit_transform(X_raw, y)\n",
        "X.shape[1]"
      ],
      "metadata": {
        "id": "GV0D2xgVzfDb"
      },
      "execution_count": null,
      "outputs": []
    },
    {
      "cell_type": "code",
      "source": [
        "input_features = selector.feature_names_in_\n",
        "selector.get_feature_names_out(input_features=input_features)"
      ],
      "metadata": {
        "id": "xv9fYcgWO42W"
      },
      "execution_count": null,
      "outputs": []
    },
    {
      "cell_type": "code",
      "source": [
        "# Memisahkan features and label\n",
        "X = dv_cleaned[['VersiInternetExplorer', 'UkuranHorisontalLayar', 'BuildOS',\n",
        "       'Windows 10', 'Windows 8', 'Windows 2016',\n",
        "       'TipeInstallasiOS_encode', 'VersiOS_encode', 'Disk SSD',\n",
        "       'OsPlatformSubRelease_encode']]\n",
        "y = dv_cleaned['IsGamer']\n",
        "X_train, X_test, y_train, y_test = train_test_split(X, y, test_size=0.25, random_state=42)"
      ],
      "metadata": {
        "id": "yIdfmXZaO-1e"
      },
      "execution_count": null,
      "outputs": []
    },
    {
      "cell_type": "code",
      "source": [
        "scaler = MinMaxScaler()"
      ],
      "metadata": {
        "id": "opqE-gl1PK0h"
      },
      "execution_count": null,
      "outputs": []
    },
    {
      "cell_type": "code",
      "source": [
        "X_train_scaled = scaler.fit_transform(X_train) # training\n",
        "X_test_scaled = scaler.transform(X_test) # testing"
      ],
      "metadata": {
        "id": "dxOcGf7dPKGa"
      },
      "execution_count": null,
      "outputs": []
    },
    {
      "cell_type": "code",
      "source": [
        "cv = KFold(random_state=123, shuffle=True)"
      ],
      "metadata": {
        "id": "18_fDTFiPePk"
      },
      "execution_count": null,
      "outputs": []
    },
    {
      "cell_type": "code",
      "source": [
        "from sklearn.metrics import precision_score, \\\n",
        "    recall_score, classification_report, \\\n",
        "    accuracy_score, f1_score\n",
        "def evaluate_classifier_performance(prediction, y_test):\n",
        "    # Informasi evaluasi secara compact\n",
        "    print(\"Hasil Evaluasi berdasarkan classification report \\n\\n%s\\n\" % (classification_report(y_test, prediction,zero_division=0)))\n",
        "    print()\n",
        "    print(\"Confusion Matrix\")\n",
        "    print()\n",
        "    y_actual = pd.Series(np.array(y_test), name = \"actual\")\n",
        "    y_pred = pd.Series(np.array(prediction), name = \"prediction\")\n",
        "    df_confusion = pd.crosstab(y_actual, y_pred)\n",
        "    display(df_confusion)\n",
        "    print()\n",
        "    print()\n",
        "\n",
        "    print(\"Butuh informasi lebih lengkap? silakan simak di bawah ini : \")\n",
        "    print('F1 Macro Average:', f1_score(y_test, prediction, average='macro'))\n",
        "    print('F1 Micro Average:', f1_score(y_test, prediction, average='micro'))\n",
        "    print('Precision Macro Average:', precision_score(y_test, prediction, average='macro',zero_division=0))\n",
        "    print('Precision Micro Average:', precision_score(y_test, prediction, average='micro',zero_division=0))\n",
        "    print('Recall Macro Average:', recall_score(y_test, prediction, average='macro',zero_division=0))\n",
        "    print('Recall Micro Average:', recall_score(y_test, prediction, average='micro',zero_division=0))\n",
        "    print()"
      ],
      "metadata": {
        "id": "G9vGkl2hmOWw"
      },
      "execution_count": null,
      "outputs": []
    },
    {
      "cell_type": "markdown",
      "source": [
        "## Decision Tree"
      ],
      "metadata": {
        "id": "bT5uCuhxGZnI"
      }
    },
    {
      "cell_type": "code",
      "source": [
        "dt = DecisionTreeClassifier() # berdasarkan gridsearchcv di atas agar tidak run berkali2\n",
        "dt.fit(X_train_scaled,y_train)\n",
        "y_pred_dt = dt.predict(X_test_scaled)"
      ],
      "metadata": {
        "id": "3RmubsVlGJlH"
      },
      "execution_count": null,
      "outputs": []
    },
    {
      "cell_type": "code",
      "source": [
        "evaluate_classifier_performance(y_pred_dt,y_test)"
      ],
      "metadata": {
        "id": "tW845fYuHn4x"
      },
      "execution_count": null,
      "outputs": []
    },
    {
      "cell_type": "markdown",
      "source": [
        "## Random Forest"
      ],
      "metadata": {
        "id": "SrFRkOp0ywuc"
      }
    },
    {
      "cell_type": "code",
      "source": [
        "rf = RandomForestClassifier()\n",
        "rf.fit(X_train,y_train)"
      ],
      "metadata": {
        "id": "-ZpDptLUQ5W_"
      },
      "execution_count": null,
      "outputs": []
    },
    {
      "cell_type": "code",
      "source": [
        "y_pred_rf = rf.predict(X_test)"
      ],
      "metadata": {
        "id": "EDFC41QuIAFK"
      },
      "execution_count": null,
      "outputs": []
    },
    {
      "cell_type": "code",
      "source": [
        "evaluate_classifier_performance(y_pred_rf,y_test)"
      ],
      "metadata": {
        "id": "H8uq9uvWHzzA"
      },
      "execution_count": null,
      "outputs": []
    },
    {
      "cell_type": "code",
      "source": [
        "scores = cross_val_score(rf, X, y, scoring='accuracy', cv=cv)\n",
        "np.mean(scores)"
      ],
      "metadata": {
        "id": "lCDXxDWmQah4"
      },
      "execution_count": null,
      "outputs": []
    },
    {
      "cell_type": "markdown",
      "source": [
        "## Naive Bayes"
      ],
      "metadata": {
        "id": "_R4MqoRCz8D3"
      }
    },
    {
      "cell_type": "code",
      "source": [
        "nb = GaussianNB()\n",
        "nb.fit(X_train,y_train)"
      ],
      "metadata": {
        "id": "PELSt86lROPs"
      },
      "execution_count": null,
      "outputs": []
    },
    {
      "cell_type": "code",
      "source": [
        "y_pred_nb = nb.predict(X_test)"
      ],
      "metadata": {
        "id": "ZMvnuebTEGlf"
      },
      "execution_count": null,
      "outputs": []
    },
    {
      "cell_type": "code",
      "source": [
        "evaluate_classifier_performance(y_pred_nb,y_test)"
      ],
      "metadata": {
        "id": "3viVvkW5ELfU"
      },
      "execution_count": null,
      "outputs": []
    },
    {
      "cell_type": "code",
      "source": [
        "scores = cross_val_score(nb, X, y, scoring='accuracy', cv=cv)\n",
        "np.mean(scores)"
      ],
      "metadata": {
        "id": "R4-3g4l-RPHy"
      },
      "execution_count": null,
      "outputs": []
    },
    {
      "cell_type": "markdown",
      "source": [
        "## KNN"
      ],
      "metadata": {
        "id": "6mFL7n2jM5oH"
      }
    },
    {
      "cell_type": "code",
      "source": [
        "scaler = MinMaxScaler()"
      ],
      "metadata": {
        "id": "vWBIx5i-4FcD"
      },
      "execution_count": null,
      "outputs": []
    },
    {
      "cell_type": "code",
      "source": [
        "X_train_scaled = scaler.fit_transform(X_train) # training\n",
        "X_test_scaled = scaler.transform(X_test) # testing\n"
      ],
      "metadata": {
        "id": "4wew62hLVgxV"
      },
      "execution_count": null,
      "outputs": []
    },
    {
      "cell_type": "code",
      "source": [
        "# from sklearn.model_selection import GridSearchCV\n",
        "\n",
        "# model = KNeighborsClassifier()\n",
        "\n",
        "# # parameter yang akan di tunning\n",
        "# tunned_params = [\n",
        "#   { \n",
        "#     'n_neighbors': [1,2,3,4,5,6,7,8,9,10]\n",
        "#   } \n",
        "# ]\n",
        "\n",
        "# print(\"##### Tuning hyper-parameters model KNN #####\")\n",
        "# print()\n",
        "\n",
        "# clfKNN = GridSearchCV(model, \n",
        "#                     tunned_params,\n",
        "#                      scoring=\"accuracy\",\n",
        "#                     cv=5,\n",
        "#                    verbose = 2\n",
        "#                     )\n",
        "\n",
        "# clfKNN.fit(X_train_scaled, y_train)\n",
        "\n",
        "# print(\"Best parameters set found on development set:\")\n",
        "# print()\n",
        "# print(clfKNN.best_params_)\n",
        "# print()\n",
        "# print(\"Detailed classification report:\")\n",
        "# print()\n",
        "# y_true, y_pred = y_test, clfKNN.predict(X_test_scaled)\n",
        "# evaluate_classifier_performance(y_pred, y_true)\n",
        "# print()"
      ],
      "metadata": {
        "id": "yxNYsnb1DyHN"
      },
      "execution_count": null,
      "outputs": []
    },
    {
      "cell_type": "code",
      "source": [
        "from sklearn.neighbors import KNeighborsClassifier\n",
        "\n",
        "KNN = KNeighborsClassifier(n_neighbors=10) # berdasarkan gridsearchcv di atas agar tidak run berkali2\n",
        "KNN.fit(X_train_scaled,y_train)\n",
        "y_pred_knn = KNN.predict(X_test_scaled)\n"
      ],
      "metadata": {
        "id": "QGokdBl6WNjU"
      },
      "execution_count": null,
      "outputs": []
    },
    {
      "cell_type": "code",
      "source": [
        "evaluate_classifier_performance(y_pred_knn,y_test)"
      ],
      "metadata": {
        "id": "0Y-qv46DDQ5g"
      },
      "execution_count": null,
      "outputs": []
    },
    {
      "cell_type": "code",
      "source": [
        "scores = cross_val_score(KNN, X, y, scoring='accuracy', cv=cv)\n",
        "np.mean(scores)"
      ],
      "metadata": {
        "id": "e0iwi44UQfTL"
      },
      "execution_count": null,
      "outputs": []
    },
    {
      "cell_type": "markdown",
      "source": [
        "## Logistic & Softmax Regression\n"
      ],
      "metadata": {
        "id": "qXELWV4Geq0z"
      }
    },
    {
      "cell_type": "code",
      "source": [
        "# Memisahkan features and label\n",
        "X = dv_cleaned.drop('IsGamer', axis=1)\n",
        "y_logistic = dv_cleaned['IsGamer']\n",
        "y_softmax =dv_cleaned['IsGamer']\n",
        "\n",
        "X_train, X_test, y_train, y_test = train_test_split(X, y_logistic, test_size=0.25, random_state=42)"
      ],
      "metadata": {
        "id": "GtqwqjfFe7ce"
      },
      "execution_count": null,
      "outputs": []
    },
    {
      "cell_type": "code",
      "source": [
        "cols = ['BanyakAntivirus', 'KapasitasDiskMemory', 'BanyakCoreProcessor', 'KapasitasVolumeSistem', 'KapasitasRAM',\n",
        "       'UkuranDiagonalLayar', 'UkuranHorisontalLayar', 'UkuranVertikalLayar','infected_proba','BuildOS','RevisiBuildOS']\n",
        "\n",
        "# Jenis normalisasi yang saya pilih adalah standardisasi\n",
        "scaler = StandardScaler()\n",
        "scaler.fit(X_train[cols])\n",
        "\n",
        "# Standardisasi\n",
        "X_train[cols] = scaler.transform(X_train[cols])\n",
        "X_test[cols] = scaler.transform(X_test[cols])"
      ],
      "metadata": {
        "id": "0CqaioCn06sS"
      },
      "execution_count": null,
      "outputs": []
    },
    {
      "cell_type": "code",
      "source": [
        "from sklearn.linear_model import LogisticRegression\n",
        "\n",
        "# Membangun model\n",
        "logreg = LogisticRegression()\n",
        "logreg.fit(X_train, y_train)\n",
        "\n",
        "# Prediksi\n",
        "y_logreg_predict = logreg.predict(X_test)"
      ],
      "metadata": {
        "id": "Rsnbj5Jo5Qsv"
      },
      "execution_count": null,
      "outputs": []
    },
    {
      "cell_type": "code",
      "source": [
        "import numpy as np\n",
        "\n",
        "y_actual = pd.Series(np.array(y_test), name = \"actual\")\n",
        "y_pred = pd.Series(np.array(y_logreg_predict), name = \"prediction\")\n",
        "df_confusion = pd.crosstab(y_actual, y_pred)\n",
        "df_confusion"
      ],
      "metadata": {
        "id": "b5MWNBTG5SSe"
      },
      "execution_count": null,
      "outputs": []
    },
    {
      "cell_type": "code",
      "source": [
        "evaluate_classifier_performance(y_logreg_predict,y_test)"
      ],
      "metadata": {
        "id": "435Ui2NtVVL_"
      },
      "execution_count": null,
      "outputs": []
    },
    {
      "cell_type": "markdown",
      "source": [
        "> Nilai mikro dan makro tidak mirip, menandakan bahwa dataset tidak balance\n"
      ],
      "metadata": {
        "id": "K_im-WFY7JmB"
      }
    },
    {
      "cell_type": "code",
      "source": [
        "X_train, X_test, y_train, y_test = train_test_split(X, y_logistic, test_size=0.25, random_state=42)"
      ],
      "metadata": {
        "id": "-nLCcU2k7n6N"
      },
      "execution_count": null,
      "outputs": []
    },
    {
      "cell_type": "code",
      "source": [
        "sofreg = LogisticRegression(multi_class='multinomial')\n",
        "sofreg.fit(X_train, y_train)\n",
        "\n",
        "# Prediksi\n",
        "y_sofreg_predict = sofreg.predict(X_test)"
      ],
      "metadata": {
        "id": "PgOsLW1P7ndQ"
      },
      "execution_count": null,
      "outputs": []
    },
    {
      "cell_type": "code",
      "source": [
        "y_actual = pd.Series(np.array(y_test), name = \"actual\")\n",
        "y_pred = pd.Series(np.array(y_sofreg_predict), name = \"prediction\")\n",
        "df_confusion = pd.crosstab(y_actual, y_pred)\n",
        "df_confusion"
      ],
      "metadata": {
        "id": "_ciALndwO5i8"
      },
      "execution_count": null,
      "outputs": []
    },
    {
      "cell_type": "code",
      "source": [
        "evaluate_classifier_performance(y_sofreg_predict,y_test)"
      ],
      "metadata": {
        "id": "eR6W3an5NIc6"
      },
      "execution_count": null,
      "outputs": []
    },
    {
      "cell_type": "markdown",
      "source": [
        "> Nilai mikro dan makro tidak mirip, menandakan bahwa dataset tidak balance\n"
      ],
      "metadata": {
        "id": "2z_uYyG4PUYc"
      }
    },
    {
      "cell_type": "markdown",
      "source": [
        "# Regression"
      ],
      "metadata": {
        "id": "Z1Vp_86f2O1i"
      }
    },
    {
      "cell_type": "markdown",
      "source": [
        "## Persiapan Regresi"
      ],
      "metadata": {
        "id": "Bx2COmVmlTbc"
      }
    },
    {
      "cell_type": "code",
      "source": [
        "from sklearn.feature_selection import SelectKBest\n",
        "from sklearn.feature_selection import f_classif"
      ],
      "metadata": {
        "id": "W90tuy1ulzsI"
      },
      "execution_count": null,
      "outputs": []
    },
    {
      "cell_type": "code",
      "source": [
        "# https://medium.com/analytics-vidhya/evaluation-metrics-for-regression-models-c91c65d73af\n",
        "from sklearn.metrics import mean_absolute_error, mean_squared_error, r2_score\n",
        "def metrics(prediction):\n",
        "    MAE = mean_absolute_error(y_test, prediction)\n",
        "    MSE = mean_squared_error(y_test, prediction)\n",
        "    RMSE = np.sqrt(MSE)\n",
        "    R_squared = r2_score(y_test, prediction)\n",
        "\n",
        "    print('MAE: ' + str(MAE))\n",
        "    print('MSE: ' + str(MSE))\n",
        "    print('RMSE: ' + str(RMSE))\n",
        "    print('R_squared: ' + str(R_squared))"
      ],
      "metadata": {
        "id": "GZ9rf7jG_-3g"
      },
      "execution_count": null,
      "outputs": []
    },
    {
      "cell_type": "code",
      "source": [
        "dv_cleaned.isna().sum()"
      ],
      "metadata": {
        "id": "Rx1QjR5E3dZW"
      },
      "execution_count": null,
      "outputs": []
    },
    {
      "cell_type": "code",
      "source": [
        "dv_cleaned = dv_cleaned.dropna()"
      ],
      "metadata": {
        "id": "8s4cN3Sv9_rO"
      },
      "execution_count": null,
      "outputs": []
    },
    {
      "cell_type": "code",
      "source": [
        "outlier_counter(dv_cleaned)"
      ],
      "metadata": {
        "id": "m9CXqTxm4E0-"
      },
      "execution_count": null,
      "outputs": []
    },
    {
      "cell_type": "markdown",
      "source": [
        "Di atas terdapat outlier karena itu semua merupakan hasil encode atau memang yang dari awal nilainya hanya 1 dan 0 serta ada juga yang sifatnya berupa id yang dimana id tidak dipakai ketika pembuatan model, jadi sebenarnya valuenya hanya ada 2"
      ],
      "metadata": {
        "id": "7P9oSykr9h3j"
      }
    },
    {
      "cell_type": "code",
      "source": [
        "# Memisahkan features and label\n",
        "X_raw = dv_cleaned.drop('infected_proba', axis=1)\n",
        "y = dv_cleaned['infected_proba']\n",
        "\n",
        "selector = SelectKBest(f_classif, k=25)\n",
        "\n",
        "X = selector.fit_transform(X_raw, y)\n",
        "X.shape[1]"
      ],
      "metadata": {
        "id": "TBmryOee4My8"
      },
      "execution_count": null,
      "outputs": []
    },
    {
      "cell_type": "code",
      "source": [
        "input_features = selector.feature_names_in_\n",
        "selector.get_feature_names_out(input_features=input_features)"
      ],
      "metadata": {
        "id": "yJ0HVf9r95EC"
      },
      "execution_count": null,
      "outputs": []
    },
    {
      "cell_type": "code",
      "source": [
        "# Memisahkan features and label\n",
        "X = dv_cleaned[['VersiInternetExplorer','BanyakCoreProcessor', 'KapasitasDiskMemory',\n",
        "       'KapasitasVolumeSistem', 'KapasitasRAM', 'UkuranDiagonalLayar',\n",
        "       'UkuranHorisontalLayar', 'RevisiBuildOS', 'IsGamer', 'Windows 7',\n",
        "       'Windows 8', 'Windows 2016', 'EdisiOS_encode',\n",
        "       'TipeInstallasiOS_encode', 'AutoUpdateSetting_encode',\n",
        "       'BranchOS_encode', 'TipeChassis_encode', 'Disk HDD',\n",
        "       'Disk UNKNOWN', 'SmartScreenSetting_encode', 'DeviceType_encode',\n",
        "       'OsPlatformSubRelease_encode']]\n",
        "X_train, X_test, y_train, y_test = train_test_split(X, y, test_size=0.25, random_state=42)"
      ],
      "metadata": {
        "id": "Q6NN7F0d-KEC"
      },
      "execution_count": null,
      "outputs": []
    },
    {
      "cell_type": "code",
      "source": [
        "from sklearn.preprocessing import StandardScaler\n",
        "\n",
        "train_feature = X_train\n",
        "\n",
        "scaler = StandardScaler()\n",
        "scaled_data = scaler.fit_transform(train_feature)\n",
        "#normalization fitur pada dataset training\n",
        "X_train = pd.DataFrame(scaled_data, columns=train_feature.columns)\n",
        "\n",
        "test_feature = X_test\n",
        "\n",
        "scaler = StandardScaler()\n",
        "scaled_data = scaler.fit_transform(test_feature)\n",
        "#normalization fitur pada dataset training\n",
        "X_test = pd.DataFrame(scaled_data, columns=test_feature.columns)"
      ],
      "metadata": {
        "id": "nngWlKuEC1Or"
      },
      "execution_count": null,
      "outputs": []
    },
    {
      "cell_type": "markdown",
      "source": [
        "## Random Forest"
      ],
      "metadata": {
        "id": "mn7lGT6I2sxk"
      }
    },
    {
      "cell_type": "code",
      "source": [
        "from sklearn.ensemble import RandomForestRegressor\n",
        "\n",
        "# Melakukan training pada model random forest\n",
        "rf_dv = RandomForestRegressor()\n",
        "rf_dv.fit(X_train, y_train)\n",
        "\n",
        "# Memprediksi data testing\n",
        "predicted = rf_dv.predict(X_test)\n",
        "\n",
        "# Menampilkan metrics\n",
        "metrics(predicted)"
      ],
      "metadata": {
        "id": "xzm17pba2Oe7"
      },
      "execution_count": null,
      "outputs": []
    },
    {
      "cell_type": "code",
      "source": [
        "from sklearn.metrics import accuracy_score  \n",
        "\n",
        "rf_dv.score(X_test,y_test)"
      ],
      "metadata": {
        "id": "OrZ6EOyTeelC"
      },
      "execution_count": null,
      "outputs": []
    },
    {
      "cell_type": "markdown",
      "source": [
        "## Linear Regression"
      ],
      "metadata": {
        "id": "8ers05OCBgGd"
      }
    },
    {
      "cell_type": "code",
      "source": [
        "# Melatih model linear regression menggunakan Scikit-learn pada training set\n",
        "\n",
        "from sklearn.linear_model import LinearRegression\n",
        "\n",
        "linear = LinearRegression()\n",
        "linear.fit(X_train, y_train)"
      ],
      "metadata": {
        "id": "6L1FoD2VBfXU"
      },
      "execution_count": null,
      "outputs": []
    },
    {
      "cell_type": "code",
      "source": [
        "linear_test = LinearRegression()\n",
        "linear_test.fit(X_test, y_test)\n",
        "y_predict = linear_test.predict(X_test)\n",
        "\n",
        "# Menampilkan metrics\n",
        "metrics(y_predict)"
      ],
      "metadata": {
        "id": "VjV11awQAKdg"
      },
      "execution_count": null,
      "outputs": []
    },
    {
      "cell_type": "code",
      "source": [
        "linear.score(X_test,y_test)"
      ],
      "metadata": {
        "id": "8gh_GBDXmnis"
      },
      "execution_count": null,
      "outputs": []
    },
    {
      "cell_type": "code",
      "source": [
        "import matplotlib.pyplot as plt\n",
        "\n",
        "# Visualisasi hasil prediksi\n",
        "plt.figure\n",
        "plt.scatter(y_test, y_predict)"
      ],
      "metadata": {
        "id": "pWUsTeQ8rPn6"
      },
      "execution_count": null,
      "outputs": []
    },
    {
      "cell_type": "markdown",
      "source": [
        "## Lasso"
      ],
      "metadata": {
        "id": "gMk0zP7QD1C7"
      }
    },
    {
      "cell_type": "code",
      "source": [
        "from sklearn.linear_model import Lasso\n",
        "\n",
        "alpha = [1, 5, 10, 15, 20, 25]\n",
        "\n",
        "# 3b. Bangun (fit) model sebanyak nilai parameter alpha yang dipilih\n",
        "\n",
        "# List nilai R-squared\n",
        "list_r_squared_train = []\n",
        "list_r_squared_test = []\n",
        "lasreg = Lasso()\n",
        "\n",
        "# Membangun dan mengevaluasi model untuk setiap nilai alpha\n",
        "for a in alpha:\n",
        "\n",
        "  # Membangun model\n",
        "  lasreg.set_params(**{'alpha': a})\n",
        "  lasreg.fit(X_train, y_train)\n",
        "\n",
        "  # Mengevaluasi model pada training dan testing set menggunakan R-squared\n",
        "  r_squared_train = lasreg.score(X_train, y_train)\n",
        "  r_squared_test = lasreg.score(X_test, y_test)\n",
        "\n",
        "  # Menambahkan nilai R-squared ke list\n",
        "  list_r_squared_train.append(r_squared_train)\n",
        "  list_r_squared_test.append(r_squared_test)"
      ],
      "metadata": {
        "id": "2nFt1gP_a9HX"
      },
      "execution_count": null,
      "outputs": []
    },
    {
      "cell_type": "code",
      "source": [
        "print(\"R-squared training:\", list_r_squared_train)\n",
        "print(\"R-squared testing:\", list_r_squared_test)"
      ],
      "metadata": {
        "id": "40PPCnYWdGhg"
      },
      "execution_count": null,
      "outputs": []
    },
    {
      "cell_type": "markdown",
      "source": [
        "Jika dilihat dari data training, data training di model ini memiliki nilai R-Squared 0 yang berarti model ini tidak menjelaskan variasi dari variabel independen yang ada"
      ],
      "metadata": {
        "id": "Uv_KorLFl7Uo"
      }
    },
    {
      "cell_type": "code",
      "source": [
        "lasreg.score(X_test,y_test)"
      ],
      "metadata": {
        "id": "8bpJOABemtm8"
      },
      "execution_count": null,
      "outputs": []
    },
    {
      "cell_type": "markdown",
      "source": [
        "## Decision Tree"
      ],
      "metadata": {
        "id": "wVeMBUg7Veg_"
      }
    },
    {
      "cell_type": "code",
      "source": [
        "X = dv_cleaned.drop('infected_proba', axis=1)\n",
        "y = dv_cleaned['infected_proba']"
      ],
      "metadata": {
        "id": "ewPfv5WFfnse"
      },
      "execution_count": null,
      "outputs": []
    },
    {
      "cell_type": "code",
      "source": [
        "X_train, X_test, y_train, y_test = train_test_split(X, y, test_size=0.25, random_state=42)"
      ],
      "metadata": {
        "id": "YiAvbnkbVjYw"
      },
      "execution_count": null,
      "outputs": []
    },
    {
      "cell_type": "code",
      "source": [
        "# from sklearn.model_selection import GridSearchCV\n",
        "# from sklearn.tree import DecisionTreeRegressor\n",
        "\n",
        "# param_grid = {'criterion': ['squared_error', 'friedman_mse', 'absolute_error'],\n",
        "#                'min_samples_split': [10, 20, 50],\n",
        "#                'max_depth' : [5, 10, 12, None]}\n",
        "\n",
        "# dt = DecisionTreeRegressor()\n",
        "\n",
        "# clf = GridSearchCV(estimator= dt, \n",
        "#                    param_grid=param_grid, cv= 5)\n",
        "\n",
        "# clf.fit(X_train, y_train)"
      ],
      "metadata": {
        "id": "5HoSseBRfUsi"
      },
      "execution_count": null,
      "outputs": []
    },
    {
      "cell_type": "code",
      "source": [
        "# clf.best_params_ "
      ],
      "metadata": {
        "id": "ICj5NZM7fVSm"
      },
      "execution_count": null,
      "outputs": []
    },
    {
      "cell_type": "code",
      "source": [
        "tree_model2 = DecisionTreeRegressor(criterion=\"squared_error\", max_depth=5, min_samples_split = 20, random_state = 2023)\n",
        "tree_model2.fit(X_train, y_train)\n",
        "predicted = tree_model2.predict(X_test)\n",
        "metrics(predicted)"
      ],
      "metadata": {
        "id": "6enzGRZ1facF"
      },
      "execution_count": null,
      "outputs": []
    },
    {
      "cell_type": "code",
      "source": [
        "tree_model2.score(X_test,y_test)"
      ],
      "metadata": {
        "id": "WuRjF86KDi84"
      },
      "execution_count": null,
      "outputs": []
    },
    {
      "cell_type": "markdown",
      "source": [
        "## Ridge"
      ],
      "metadata": {
        "id": "lYkAwohvN1Zy"
      }
    },
    {
      "cell_type": "code",
      "execution_count": null,
      "metadata": {
        "id": "GsK7GFO7RmT0",
        "colab": {
          "base_uri": "https://localhost:8080/"
        },
        "outputId": "4fb6bac6-84a7-4f0f-fcc4-41a327caa1d1"
      },
      "outputs": [
        {
          "output_type": "execute_result",
          "data": {
            "text/plain": [
              "Ridge(alpha=5)"
            ]
          },
          "metadata": {},
          "execution_count": 320
        }
      ],
      "source": [
        "# Melatih model ridge regression menggunakan Scikit-learn pada training set\n",
        "\n",
        "from sklearn.linear_model import Ridge\n",
        "\n",
        "ridge = Ridge(alpha=5) # Mengatur hyperparameter alpha=5\n",
        "ridge.fit(X_train, y_train)"
      ]
    },
    {
      "cell_type": "code",
      "execution_count": null,
      "metadata": {
        "id": "7cp18bh6Rs8f",
        "colab": {
          "base_uri": "https://localhost:8080/"
        },
        "outputId": "359683dc-51c4-46ac-a49d-22ff6561c519"
      },
      "outputs": [
        {
          "output_type": "stream",
          "name": "stdout",
          "text": [
            "[0.449655   0.452872   0.43645452 ... 0.47553679 0.44592157 0.39837987]\n"
          ]
        }
      ],
      "source": [
        "y_predict = ridge.predict(X_test)\n",
        "\n",
        "print(y_predict)"
      ]
    },
    {
      "cell_type": "code",
      "source": [
        "# Menampilkan metrics\n",
        "metrics(y_predict)"
      ],
      "metadata": {
        "colab": {
          "base_uri": "https://localhost:8080/"
        },
        "id": "qwE8Ld4SNeNs",
        "outputId": "82e25cdf-8c6f-4cc9-905a-0bbec555fe2d"
      },
      "execution_count": null,
      "outputs": [
        {
          "output_type": "stream",
          "name": "stdout",
          "text": [
            "MAE: 0.3044263653314261\n",
            "MSE: 0.12127261870543905\n",
            "RMSE: 0.348242183983272\n",
            "R_squared: 0.049618811376580196\n"
          ]
        }
      ]
    },
    {
      "cell_type": "markdown",
      "source": [
        "# Clustering"
      ],
      "metadata": {
        "id": "vXvXUu8OFRZF"
      }
    },
    {
      "cell_type": "code",
      "execution_count": null,
      "metadata": {
        "colab": {
          "base_uri": "https://localhost:8080/"
        },
        "id": "SKDPcdXx5nPO",
        "outputId": "0608df3d-c644-41d4-88ab-33711c696c56"
      },
      "outputs": [
        {
          "name": "stdout",
          "output_type": "stream",
          "text": [
            "<class 'pandas.core.frame.DataFrame'>\n",
            "Int64Index: 149605 entries, 0 to 149667\n",
            "Data columns (total 51 columns):\n",
            " #   Column                         Non-Null Count   Dtype  \n",
            "---  ------                         --------------   -----  \n",
            " 0   BanyakAntivirus                149605 non-null  float64\n",
            " 1   IdNegaraPembuat                149605 non-null  int64  \n",
            " 2   IdKotaPembuat                  149605 non-null  float64\n",
            " 3   IdLokasiGeografisMesinSaatIni  149605 non-null  float64\n",
            " 4   OsSuite                        149605 non-null  int64  \n",
            " 5   VersiInternetExplorer          149605 non-null  float64\n",
            " 6   IdOEM                          149605 non-null  float64\n",
            " 7   IdModelOEM                     149605 non-null  float64\n",
            " 8   BanyakCoreProcessor            149605 non-null  float64\n",
            " 9   IdPembuatProcessor             149605 non-null  float64\n",
            " 10  IdModelProcessor               149605 non-null  float64\n",
            " 11  KapasitasDiskMemory            149605 non-null  float64\n",
            " 12  KapasitasVolumeSistem          149605 non-null  float64\n",
            " 13  KapasitasRAM                   149605 non-null  float64\n",
            " 14  UkuranDiagonalLayar            149605 non-null  float64\n",
            " 15  UkuranHorisontalLayar          149605 non-null  float64\n",
            " 16  UkuranVertikalLayar            149605 non-null  float64\n",
            " 17  BuildOS                        149605 non-null  int64  \n",
            " 18  RevisiBuildOS                  149605 non-null  int64  \n",
            " 19  IdPembuatFirmware              149605 non-null  float64\n",
            " 20  IdVersiFirmware                149605 non-null  float64\n",
            " 21  IsSecureBootEnabled            149605 non-null  int64  \n",
            " 22  IsTouchScreen                  149605 non-null  int64  \n",
            " 23  IsGamer                        149605 non-null  float64\n",
            " 24  infected_proba                 149605 non-null  float64\n",
            " 25  Windows 10                     149544 non-null  float64\n",
            " 26  Windows 7                      149544 non-null  float64\n",
            " 27  Windows 8                      149544 non-null  float64\n",
            " 28  Windows 2016                   149544 non-null  float64\n",
            " 29  x64                            149544 non-null  float64\n",
            " 30  x86                            149544 non-null  float64\n",
            " 31  arm64                          149544 non-null  float64\n",
            " 32  TipeBateraiInternal_encode     149605 non-null  int64  \n",
            " 33  EdisiOS_encode                 149605 non-null  int64  \n",
            " 34  SkuNameOS_encode               149605 non-null  int64  \n",
            " 35  TipeInstallasiOS_encode        149605 non-null  int64  \n",
            " 36  AutoUpdateSetting_encode       149605 non-null  int64  \n",
            " 37  IsOSGenuine_encode             149605 non-null  int64  \n",
            " 38  VersiOS_encode                 149605 non-null  int64  \n",
            " 39  Arsitektur amd64               149544 non-null  float64\n",
            " 40  Arsitektur x86                 149544 non-null  float64\n",
            " 41  Arsitektur arm64               149544 non-null  float64\n",
            " 42  BranchOS_encode                149605 non-null  int64  \n",
            " 43  TipeChassis_encode             149605 non-null  int64  \n",
            " 44  Disk HDD                       149544 non-null  float64\n",
            " 45  Disk SSD                       149544 non-null  float64\n",
            " 46  Disk UNKNOWN                   149544 non-null  float64\n",
            " 47  Disk Unspecified               149544 non-null  float64\n",
            " 48  SmartScreenSetting_encode      149605 non-null  int64  \n",
            " 49  DeviceType_encode              149605 non-null  int64  \n",
            " 50  OsPlatformSubRelease_encode    149605 non-null  int64  \n",
            "dtypes: float64(33), int64(18)\n",
            "memory usage: 63.4 MB\n"
          ]
        }
      ],
      "source": [
        "dv_cleaned.info()"
      ]
    },
    {
      "cell_type": "code",
      "execution_count": null,
      "metadata": {
        "colab": {
          "base_uri": "https://localhost:8080/"
        },
        "id": "bIiV9i4G58NN",
        "outputId": "a7c6eae1-3300-4c51-99c9-a9fc4e9c9446"
      },
      "outputs": [
        {
          "name": "stdout",
          "output_type": "stream",
          "text": [
            "<class 'pandas.core.frame.DataFrame'>\n",
            "Int64Index: 149605 entries, 0 to 149667\n",
            "Data columns (total 42 columns):\n",
            " #   Column                       Non-Null Count   Dtype  \n",
            "---  ------                       --------------   -----  \n",
            " 0   BanyakAntivirus              149605 non-null  float64\n",
            " 1   OsSuite                      149605 non-null  int64  \n",
            " 2   VersiInternetExplorer        149605 non-null  float64\n",
            " 3   BanyakCoreProcessor          149605 non-null  float64\n",
            " 4   KapasitasDiskMemory          149605 non-null  float64\n",
            " 5   KapasitasVolumeSistem        149605 non-null  float64\n",
            " 6   KapasitasRAM                 149605 non-null  float64\n",
            " 7   UkuranDiagonalLayar          149605 non-null  float64\n",
            " 8   UkuranHorisontalLayar        149605 non-null  float64\n",
            " 9   UkuranVertikalLayar          149605 non-null  float64\n",
            " 10  BuildOS                      149605 non-null  int64  \n",
            " 11  RevisiBuildOS                149605 non-null  int64  \n",
            " 12  IsSecureBootEnabled          149605 non-null  int64  \n",
            " 13  IsTouchScreen                149605 non-null  int64  \n",
            " 14  IsGamer                      149605 non-null  float64\n",
            " 15  infected_proba               149605 non-null  float64\n",
            " 16  Windows 10                   149544 non-null  float64\n",
            " 17  Windows 7                    149544 non-null  float64\n",
            " 18  Windows 8                    149544 non-null  float64\n",
            " 19  Windows 2016                 149544 non-null  float64\n",
            " 20  x64                          149544 non-null  float64\n",
            " 21  x86                          149544 non-null  float64\n",
            " 22  arm64                        149544 non-null  float64\n",
            " 23  TipeBateraiInternal_encode   149605 non-null  int64  \n",
            " 24  EdisiOS_encode               149605 non-null  int64  \n",
            " 25  SkuNameOS_encode             149605 non-null  int64  \n",
            " 26  TipeInstallasiOS_encode      149605 non-null  int64  \n",
            " 27  AutoUpdateSetting_encode     149605 non-null  int64  \n",
            " 28  IsOSGenuine_encode           149605 non-null  int64  \n",
            " 29  VersiOS_encode               149605 non-null  int64  \n",
            " 30  Arsitektur amd64             149544 non-null  float64\n",
            " 31  Arsitektur x86               149544 non-null  float64\n",
            " 32  Arsitektur arm64             149544 non-null  float64\n",
            " 33  BranchOS_encode              149605 non-null  int64  \n",
            " 34  TipeChassis_encode           149605 non-null  int64  \n",
            " 35  Disk HDD                     149544 non-null  float64\n",
            " 36  Disk SSD                     149544 non-null  float64\n",
            " 37  Disk UNKNOWN                 149544 non-null  float64\n",
            " 38  Disk Unspecified             149544 non-null  float64\n",
            " 39  SmartScreenSetting_encode    149605 non-null  int64  \n",
            " 40  DeviceType_encode            149605 non-null  int64  \n",
            " 41  OsPlatformSubRelease_encode  149605 non-null  int64  \n",
            "dtypes: float64(25), int64(17)\n",
            "memory usage: 53.1 MB\n"
          ]
        }
      ],
      "source": [
        "dv_clust = dv_cleaned.drop('IdNegaraPembuat', axis=1)\n",
        "dv_clust = dv_clust.drop('IdKotaPembuat', axis=1)\n",
        "dv_clust = dv_clust.drop('IdLokasiGeografisMesinSaatIni', axis=1)\n",
        "dv_clust = dv_clust.drop('IdOEM', axis=1)\n",
        "dv_clust = dv_clust.drop('IdModelOEM', axis=1)\n",
        "dv_clust = dv_clust.drop('IdPembuatProcessor', axis=1)\n",
        "dv_clust = dv_clust.drop('IdModelProcessor', axis=1)\n",
        "dv_clust = dv_clust.drop('IdPembuatFirmware', axis=1)\n",
        "dv_clust = dv_clust.drop('IdVersiFirmware', axis=1)\n",
        "dv_clust.info()"
      ]
    },
    {
      "cell_type": "code",
      "execution_count": null,
      "metadata": {
        "id": "LpCIN2qR8hiG"
      },
      "outputs": [],
      "source": [
        "# Mendapatkan nilai korelasi (koefisien Person) atribut numerik, dengan method \"corr\"\n",
        "car_corr = dv_clust.corr(method='pearson')"
      ]
    },
    {
      "cell_type": "code",
      "execution_count": null,
      "metadata": {
        "colab": {
          "base_uri": "https://localhost:8080/",
          "height": 1000
        },
        "id": "CFaAAw8P8rtl",
        "outputId": "8b68994f-c74a-4245-ee34-d55f034953d8"
      },
      "outputs": [
        {
          "data": {
            "text/plain": [
              "<matplotlib.axes._subplots.AxesSubplot at 0x7f96c06960a0>"
            ]
          },
          "execution_count": 180,
          "metadata": {},
          "output_type": "execute_result"
        },
        {
          "data": {
            "image/png": "[encoded data removed]",
            "text/plain": [
              "<Figure size 1296x1296 with 2 Axes>"
            ]
          },
          "metadata": {},
          "output_type": "display_data"
        }
      ],
      "source": [
        "# heatmap\n",
        "f,ax = plt.subplots(figsize=(18, 18))\n",
        "sns.heatmap(car_corr, annot=True, linewidths=.5, fmt= '.1f',ax=ax)"
      ]
    },
    {
      "cell_type": "code",
      "execution_count": null,
      "metadata": {
        "colab": {
          "base_uri": "https://localhost:8080/",
          "height": 424
        },
        "id": "I8PT69WnDfiv",
        "outputId": "4c6d3447-9e01-47d1-a24d-2e2e42e2436c"
      },
      "outputs": [
        {
          "data": {
            "text/html": [
              "\n",
              "  <div id=\"df-07f2979a-ffe3-4561-ad48-9430d9dbd783\">\n",
              "    <div class=\"colab-df-container\">\n",
              "      <div>\n",
              "<style scoped>\n",
              "    .dataframe tbody tr th:only-of-type {\n",
              "        vertical-align: middle;\n",
              "    }\n",
              "\n",
              "    .dataframe tbody tr th {\n",
              "        vertical-align: top;\n",
              "    }\n",
              "\n",
              "    .dataframe thead th {\n",
              "        text-align: right;\n",
              "    }\n",
              "</style>\n",
              "<table border=\"1\" class=\"dataframe\">\n",
              "  <thead>\n",
              "    <tr style=\"text-align: right;\">\n",
              "      <th></th>\n",
              "      <th>BanyakCoreProcessor</th>\n",
              "      <th>KapasitasRAM</th>\n",
              "    </tr>\n",
              "  </thead>\n",
              "  <tbody>\n",
              "    <tr>\n",
              "      <th>0</th>\n",
              "      <td>2.0</td>\n",
              "      <td>2048.0</td>\n",
              "    </tr>\n",
              "    <tr>\n",
              "      <th>1</th>\n",
              "      <td>4.0</td>\n",
              "      <td>6144.0</td>\n",
              "    </tr>\n",
              "    <tr>\n",
              "      <th>2</th>\n",
              "      <td>4.0</td>\n",
              "      <td>4096.0</td>\n",
              "    </tr>\n",
              "    <tr>\n",
              "      <th>3</th>\n",
              "      <td>2.0</td>\n",
              "      <td>2048.0</td>\n",
              "    </tr>\n",
              "    <tr>\n",
              "      <th>4</th>\n",
              "      <td>4.0</td>\n",
              "      <td>4096.0</td>\n",
              "    </tr>\n",
              "    <tr>\n",
              "      <th>...</th>\n",
              "      <td>...</td>\n",
              "      <td>...</td>\n",
              "    </tr>\n",
              "    <tr>\n",
              "      <th>149600</th>\n",
              "      <td>7.0</td>\n",
              "      <td>14336.0</td>\n",
              "    </tr>\n",
              "    <tr>\n",
              "      <th>149601</th>\n",
              "      <td>2.0</td>\n",
              "      <td>4096.0</td>\n",
              "    </tr>\n",
              "    <tr>\n",
              "      <th>149602</th>\n",
              "      <td>4.0</td>\n",
              "      <td>4096.0</td>\n",
              "    </tr>\n",
              "    <tr>\n",
              "      <th>149603</th>\n",
              "      <td>2.0</td>\n",
              "      <td>10240.0</td>\n",
              "    </tr>\n",
              "    <tr>\n",
              "      <th>149604</th>\n",
              "      <td>7.0</td>\n",
              "      <td>14336.0</td>\n",
              "    </tr>\n",
              "  </tbody>\n",
              "</table>\n",
              "<p>149544 rows × 2 columns</p>\n",
              "</div>\n",
              "      <button class=\"colab-df-convert\" onclick=\"convertToInteractive('df-07f2979a-ffe3-4561-ad48-9430d9dbd783')\"\n",
              "              title=\"Convert this dataframe to an interactive table.\"\n",
              "              style=\"display:none;\">\n",
              "        \n",
              "  <svg xmlns=\"http://www.w3.org/2000/svg\" height=\"24px\"viewBox=\"0 0 24 24\"\n",
              "       width=\"24px\">\n",
              "    <path d=\"M0 0h24v24H0V0z\" fill=\"none\"/>\n",
              "    <path d=\"M18.56 5.44l.94 2.06.94-2.06 2.06-.94-2.06-.94-.94-2.06-.94 2.06-2.06.94zm-11 1L8.5 8.5l.94-2.06 2.06-.94-2.06-.94L8.5 2.5l-.94 2.06-2.06.94zm10 10l.94 2.06.94-2.06 2.06-.94-2.06-.94-.94-2.06-.94 2.06-2.06.94z\"/><path d=\"M17.41 7.96l-1.37-1.37c-.4-.4-.92-.59-1.43-.59-.52 0-1.04.2-1.43.59L10.3 9.45l-7.72 7.72c-.78.78-.78 2.05 0 2.83L4 21.41c.39.39.9.59 1.41.59.51 0 1.02-.2 1.41-.59l7.78-7.78 2.81-2.81c.8-.78.8-2.07 0-2.86zM5.41 20L4 18.59l7.72-7.72 1.47 1.35L5.41 20z\"/>\n",
              "  </svg>\n",
              "      </button>\n",
              "      \n",
              "  <style>\n",
              "    .colab-df-container {\n",
              "      display:flex;\n",
              "      flex-wrap:wrap;\n",
              "      gap: 12px;\n",
              "    }\n",
              "\n",
              "    .colab-df-convert {\n",
              "      background-color: #E8F0FE;\n",
              "      border: none;\n",
              "      border-radius: 50%;\n",
              "      cursor: pointer;\n",
              "      display: none;\n",
              "      fill: #1967D2;\n",
              "      height: 32px;\n",
              "      padding: 0 0 0 0;\n",
              "      width: 32px;\n",
              "    }\n",
              "\n",
              "    .colab-df-convert:hover {\n",
              "      background-color: #E2EBFA;\n",
              "      box-shadow: 0px 1px 2px rgba(60, 64, 67, 0.3), 0px 1px 3px 1px rgba(60, 64, 67, 0.15);\n",
              "      fill: #174EA6;\n",
              "    }\n",
              "\n",
              "    [theme=dark] .colab-df-convert {\n",
              "      background-color: #3B4455;\n",
              "      fill: #D2E3FC;\n",
              "    }\n",
              "\n",
              "    [theme=dark] .colab-df-convert:hover {\n",
              "      background-color: #434B5C;\n",
              "      box-shadow: 0px 1px 3px 1px rgba(0, 0, 0, 0.15);\n",
              "      filter: drop-shadow(0px 1px 2px rgba(0, 0, 0, 0.3));\n",
              "      fill: #FFFFFF;\n",
              "    }\n",
              "  </style>\n",
              "\n",
              "      <script>\n",
              "        const buttonEl =\n",
              "          document.querySelector('#df-07f2979a-ffe3-4561-ad48-9430d9dbd783 button.colab-df-convert');\n",
              "        buttonEl.style.display =\n",
              "          google.colab.kernel.accessAllowed ? 'block' : 'none';\n",
              "\n",
              "        async function convertToInteractive(key) {\n",
              "          const element = document.querySelector('#df-07f2979a-ffe3-4561-ad48-9430d9dbd783');\n",
              "          const dataTable =\n",
              "            await google.colab.kernel.invokeFunction('convertToInteractive',\n",
              "                                                     [key], {});\n",
              "          if (!dataTable) return;\n",
              "\n",
              "          const docLinkHtml = 'Like what you see? Visit the ' +\n",
              "            '<a target=\"_blank\" href=https://colab.research.google.com/notebooks/data_table.ipynb>data table notebook</a>'\n",
              "            + ' to learn more about interactive tables.';\n",
              "          element.innerHTML = '';\n",
              "          dataTable['output_type'] = 'display_data';\n",
              "          await google.colab.output.renderOutput(dataTable, element);\n",
              "          const docLink = document.createElement('div');\n",
              "          docLink.innerHTML = docLinkHtml;\n",
              "          element.appendChild(docLink);\n",
              "        }\n",
              "      </script>\n",
              "    </div>\n",
              "  </div>\n",
              "  "
            ],
            "text/plain": [
              "        BanyakCoreProcessor  KapasitasRAM\n",
              "0                       2.0        2048.0\n",
              "1                       4.0        6144.0\n",
              "2                       4.0        4096.0\n",
              "3                       2.0        2048.0\n",
              "4                       4.0        4096.0\n",
              "...                     ...           ...\n",
              "149600                  7.0       14336.0\n",
              "149601                  2.0        4096.0\n",
              "149602                  4.0        4096.0\n",
              "149603                  2.0       10240.0\n",
              "149604                  7.0       14336.0\n",
              "\n",
              "[149544 rows x 2 columns]"
            ]
          },
          "execution_count": 223,
          "metadata": {},
          "output_type": "execute_result"
        }
      ],
      "source": [
        "X_clust4 = dv_clust[['BanyakCoreProcessor', 'KapasitasRAM']]\n",
        "X_clust4"
      ]
    },
    {
      "cell_type": "code",
      "execution_count": null,
      "metadata": {
        "colab": {
          "base_uri": "https://localhost:8080/",
          "height": 679
        },
        "id": "W_AQrImzDXP8",
        "outputId": "45adfbf0-910d-4bc2-e0b2-c5f968e00261"
      },
      "outputs": [
        {
          "name": "stdout",
          "output_type": "stream",
          "text": [
            "For n_clusters = 2 The average silhouette_coefficient is : 0.7539259983300611\n",
            "For n_clusters = 3 The average silhouette_coefficient is : 0.8201444652066455\n",
            "For n_clusters = 4 The average silhouette_coefficient is : 0.8746233734595859\n",
            "For n_clusters = 5 The average silhouette_coefficient is : 0.9381070720854658\n",
            "For n_clusters = 6 The average silhouette_coefficient is : 0.9500427728879085\n"
          ]
        },
        {
          "data": {
            "image/png": "[encoded data removed]",
            "text/plain": [
              "<Figure size 1440x720 with 6 Axes>"
            ]
          },
          "metadata": {},
          "output_type": "display_data"
        }
      ],
      "source": [
        "from sklearn.cluster import KMeans\n",
        "from sklearn.metrics import silhouette_samples, silhouette_score\n",
        "from yellowbrick.cluster import SilhouetteVisualizer\n",
        "\n",
        "fig, ax = plt.subplots(3, 2, figsize=(20,10))\n",
        "for k in [2, 3, 4, 5, 6]:\n",
        "    # Create KMeans instance for different number of clusters\n",
        "    clusterer = KMeans(n_clusters = k)\n",
        "\n",
        "    # Draw silhouette diagram\n",
        "    q, mod = divmod(k, 2)\n",
        "    visualizer = SilhouetteVisualizer(clusterer, colors = 'yellowbrick', ax = ax[q-1][mod])\n",
        "    visualizer.fit(X_clust4)\n",
        "\n",
        "    # Compute silhoutte score\n",
        "    # This gives a perspective into the density and separation of the formed clusters\n",
        "    cluster_labels = clusterer.fit_predict(X_clust4)\n",
        "    silhouette_avg = silhouette_score(X_clust4, cluster_labels)\n",
        "    print(\n",
        "        \"For n_clusters =\",\n",
        "        k,\n",
        "        \"The average silhouette_coefficient is :\",\n",
        "        silhouette_avg,\n",
        "    )"
      ]
    },
    {
      "cell_type": "code",
      "execution_count": null,
      "metadata": {
        "colab": {
          "base_uri": "https://localhost:8080/",
          "height": 424
        },
        "id": "ctFtHiw8cwOi",
        "outputId": "a64d187d-4362-4eea-f150-14dced0f2e91"
      },
      "outputs": [
        {
          "data": {
            "text/html": [
              "\n",
              "  <div id=\"df-6bc5277c-0e79-4f09-b0ec-3ec63d606869\">\n",
              "    <div class=\"colab-df-container\">\n",
              "      <div>\n",
              "<style scoped>\n",
              "    .dataframe tbody tr th:only-of-type {\n",
              "        vertical-align: middle;\n",
              "    }\n",
              "\n",
              "    .dataframe tbody tr th {\n",
              "        vertical-align: top;\n",
              "    }\n",
              "\n",
              "    .dataframe thead th {\n",
              "        text-align: right;\n",
              "    }\n",
              "</style>\n",
              "<table border=\"1\" class=\"dataframe\">\n",
              "  <thead>\n",
              "    <tr style=\"text-align: right;\">\n",
              "      <th></th>\n",
              "      <th>BanyakCoreProcessor</th>\n",
              "      <th>KapasitasRAM</th>\n",
              "      <th>Clusters</th>\n",
              "    </tr>\n",
              "  </thead>\n",
              "  <tbody>\n",
              "    <tr>\n",
              "      <th>0</th>\n",
              "      <td>2.0</td>\n",
              "      <td>2048.0</td>\n",
              "      <td>3</td>\n",
              "    </tr>\n",
              "    <tr>\n",
              "      <th>1</th>\n",
              "      <td>4.0</td>\n",
              "      <td>6144.0</td>\n",
              "      <td>4</td>\n",
              "    </tr>\n",
              "    <tr>\n",
              "      <th>2</th>\n",
              "      <td>4.0</td>\n",
              "      <td>4096.0</td>\n",
              "      <td>0</td>\n",
              "    </tr>\n",
              "    <tr>\n",
              "      <th>3</th>\n",
              "      <td>2.0</td>\n",
              "      <td>2048.0</td>\n",
              "      <td>3</td>\n",
              "    </tr>\n",
              "    <tr>\n",
              "      <th>4</th>\n",
              "      <td>4.0</td>\n",
              "      <td>4096.0</td>\n",
              "      <td>0</td>\n",
              "    </tr>\n",
              "    <tr>\n",
              "      <th>...</th>\n",
              "      <td>...</td>\n",
              "      <td>...</td>\n",
              "      <td>...</td>\n",
              "    </tr>\n",
              "    <tr>\n",
              "      <th>149600</th>\n",
              "      <td>7.0</td>\n",
              "      <td>14336.0</td>\n",
              "      <td>2</td>\n",
              "    </tr>\n",
              "    <tr>\n",
              "      <th>149601</th>\n",
              "      <td>2.0</td>\n",
              "      <td>4096.0</td>\n",
              "      <td>0</td>\n",
              "    </tr>\n",
              "    <tr>\n",
              "      <th>149602</th>\n",
              "      <td>4.0</td>\n",
              "      <td>4096.0</td>\n",
              "      <td>0</td>\n",
              "    </tr>\n",
              "    <tr>\n",
              "      <th>149603</th>\n",
              "      <td>2.0</td>\n",
              "      <td>10240.0</td>\n",
              "      <td>5</td>\n",
              "    </tr>\n",
              "    <tr>\n",
              "      <th>149604</th>\n",
              "      <td>7.0</td>\n",
              "      <td>14336.0</td>\n",
              "      <td>2</td>\n",
              "    </tr>\n",
              "  </tbody>\n",
              "</table>\n",
              "<p>149544 rows × 3 columns</p>\n",
              "</div>\n",
              "      <button class=\"colab-df-convert\" onclick=\"convertToInteractive('df-6bc5277c-0e79-4f09-b0ec-3ec63d606869')\"\n",
              "              title=\"Convert this dataframe to an interactive table.\"\n",
              "              style=\"display:none;\">\n",
              "        \n",
              "  <svg xmlns=\"http://www.w3.org/2000/svg\" height=\"24px\"viewBox=\"0 0 24 24\"\n",
              "       width=\"24px\">\n",
              "    <path d=\"M0 0h24v24H0V0z\" fill=\"none\"/>\n",
              "    <path d=\"M18.56 5.44l.94 2.06.94-2.06 2.06-.94-2.06-.94-.94-2.06-.94 2.06-2.06.94zm-11 1L8.5 8.5l.94-2.06 2.06-.94-2.06-.94L8.5 2.5l-.94 2.06-2.06.94zm10 10l.94 2.06.94-2.06 2.06-.94-2.06-.94-.94-2.06-.94 2.06-2.06.94z\"/><path d=\"M17.41 7.96l-1.37-1.37c-.4-.4-.92-.59-1.43-.59-.52 0-1.04.2-1.43.59L10.3 9.45l-7.72 7.72c-.78.78-.78 2.05 0 2.83L4 21.41c.39.39.9.59 1.41.59.51 0 1.02-.2 1.41-.59l7.78-7.78 2.81-2.81c.8-.78.8-2.07 0-2.86zM5.41 20L4 18.59l7.72-7.72 1.47 1.35L5.41 20z\"/>\n",
              "  </svg>\n",
              "      </button>\n",
              "      \n",
              "  <style>\n",
              "    .colab-df-container {\n",
              "      display:flex;\n",
              "      flex-wrap:wrap;\n",
              "      gap: 12px;\n",
              "    }\n",
              "\n",
              "    .colab-df-convert {\n",
              "      background-color: #E8F0FE;\n",
              "      border: none;\n",
              "      border-radius: 50%;\n",
              "      cursor: pointer;\n",
              "      display: none;\n",
              "      fill: #1967D2;\n",
              "      height: 32px;\n",
              "      padding: 0 0 0 0;\n",
              "      width: 32px;\n",
              "    }\n",
              "\n",
              "    .colab-df-convert:hover {\n",
              "      background-color: #E2EBFA;\n",
              "      box-shadow: 0px 1px 2px rgba(60, 64, 67, 0.3), 0px 1px 3px 1px rgba(60, 64, 67, 0.15);\n",
              "      fill: #174EA6;\n",
              "    }\n",
              "\n",
              "    [theme=dark] .colab-df-convert {\n",
              "      background-color: #3B4455;\n",
              "      fill: #D2E3FC;\n",
              "    }\n",
              "\n",
              "    [theme=dark] .colab-df-convert:hover {\n",
              "      background-color: #434B5C;\n",
              "      box-shadow: 0px 1px 3px 1px rgba(0, 0, 0, 0.15);\n",
              "      filter: drop-shadow(0px 1px 2px rgba(0, 0, 0, 0.3));\n",
              "      fill: #FFFFFF;\n",
              "    }\n",
              "  </style>\n",
              "\n",
              "      <script>\n",
              "        const buttonEl =\n",
              "          document.querySelector('#df-6bc5277c-0e79-4f09-b0ec-3ec63d606869 button.colab-df-convert');\n",
              "        buttonEl.style.display =\n",
              "          google.colab.kernel.accessAllowed ? 'block' : 'none';\n",
              "\n",
              "        async function convertToInteractive(key) {\n",
              "          const element = document.querySelector('#df-6bc5277c-0e79-4f09-b0ec-3ec63d606869');\n",
              "          const dataTable =\n",
              "            await google.colab.kernel.invokeFunction('convertToInteractive',\n",
              "                                                     [key], {});\n",
              "          if (!dataTable) return;\n",
              "\n",
              "          const docLinkHtml = 'Like what you see? Visit the ' +\n",
              "            '<a target=\"_blank\" href=https://colab.research.google.com/notebooks/data_table.ipynb>data table notebook</a>'\n",
              "            + ' to learn more about interactive tables.';\n",
              "          element.innerHTML = '';\n",
              "          dataTable['output_type'] = 'display_data';\n",
              "          await google.colab.output.renderOutput(dataTable, element);\n",
              "          const docLink = document.createElement('div');\n",
              "          docLink.innerHTML = docLinkHtml;\n",
              "          element.appendChild(docLink);\n",
              "        }\n",
              "      </script>\n",
              "    </div>\n",
              "  </div>\n",
              "  "
            ],
            "text/plain": [
              "        BanyakCoreProcessor  KapasitasRAM  Clusters\n",
              "0                       2.0        2048.0         3\n",
              "1                       4.0        6144.0         4\n",
              "2                       4.0        4096.0         0\n",
              "3                       2.0        2048.0         3\n",
              "4                       4.0        4096.0         0\n",
              "...                     ...           ...       ...\n",
              "149600                  7.0       14336.0         2\n",
              "149601                  2.0        4096.0         0\n",
              "149602                  4.0        4096.0         0\n",
              "149603                  2.0       10240.0         5\n",
              "149604                  7.0       14336.0         2\n",
              "\n",
              "[149544 rows x 3 columns]"
            ]
          },
          "execution_count": 225,
          "metadata": {},
          "output_type": "execute_result"
        }
      ],
      "source": [
        "kmeans = KMeans(n_clusters=6)\n",
        "cluster_assignment = kmeans.fit_predict(X_clust4)\n",
        "data_with_clusters = pd.DataFrame(X_clust4.copy(), columns=('BanyakCoreProcessor', 'KapasitasRAM'))\n",
        "data_with_clusters['Clusters'] = cluster_assignment \n",
        "data_with_clusters"
      ]
    },
    {
      "cell_type": "code",
      "execution_count": null,
      "metadata": {
        "colab": {
          "base_uri": "https://localhost:8080/",
          "height": 557
        },
        "id": "hEY4x3TUc_-h",
        "outputId": "b90411f0-1100-4f25-ba05-d01877cbd286"
      },
      "outputs": [
        {
          "data": {
            "image/png": "[encoded data removed]",
            "text/plain": [
              "<Figure size 720x360 with 1 Axes>"
            ]
          },
          "metadata": {},
          "output_type": "display_data"
        },
        {
          "name": "stdout",
          "output_type": "stream",
          "text": [
            "0          2048.0\n",
            "1          6144.0\n",
            "2          4096.0\n",
            "3          2048.0\n",
            "4          4096.0\n",
            "           ...   \n",
            "149600    14336.0\n",
            "149601     4096.0\n",
            "149602     4096.0\n",
            "149603    10240.0\n",
            "149604    14336.0\n",
            "Name: KapasitasRAM, Length: 149544, dtype: float64\n"
          ]
        }
      ],
      "source": [
        "# Create figure\n",
        "fig = plt.figure(figsize = (10, 5))\n",
        "ax = plt.axes()\n",
        "\n",
        "# Prepare data\n",
        "x = data_with_clusters['BanyakCoreProcessor']\n",
        "y = data_with_clusters['KapasitasRAM']\n",
        "cluster = data_with_clusters['Clusters']\n",
        " \n",
        "# Create plot\n",
        "ax.scatter(x, y, c = cluster, cmap = \"rainbow\")\n",
        "plt.title(\"Clusters of \")\n",
        "ax.set_xlabel('BanyakCoreProcessor')\n",
        "ax.set_ylabel('KapasitasRAM')\n",
        "\n",
        "# Show plot\n",
        "plt.show()\n",
        "\n",
        "print(y)"
      ]
    },
    {
      "cell_type": "code",
      "source": [],
      "metadata": {
        "id": "fB19SU2MFoir"
      },
      "execution_count": null,
      "outputs": []
    }
  ]
}