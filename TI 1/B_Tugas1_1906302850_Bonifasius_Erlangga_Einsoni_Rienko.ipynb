{
  "cells": [
    {
      "cell_type": "markdown",
      "metadata": {
        "id": "R39aUrRNqzhJ"
      },
      "source": [
        "<center>\n",
        "<img src=\"https://drive.google.com/uc?id=1f1gGVI-rxcHjA90WEGNvvtSXF1pAxQwg\" alt=\"Fasilkom UI\" width=\"300\"/>\n",
        "\n",
        "CSGE603130 • Kecerdasan Artifisial dan Sains Data Dasar\n",
        "\n",
        "Semester Gasal 2022/2023\n",
        "\n",
        "Fakultas Ilmu Komputer, Universitas Indonesia\n",
        "\n",
        "##**Tugas 1: *Clustering***\n",
        "\n",
        "###**Tenggat Waktu: 8 Oktober 2022, 23.55 WIB**\n",
        "</center>\n",
        "\n",
        "### **Ketentuan:**\n",
        "1. Dokumen Jupyter Notebook yang telah dilengkapi dengan jawaban dapat dikumpulkan dengan format penamaan **Kelas_TugasX_NPM_Nama Lengkap.ipynb**. Contoh: B_Tugas1_1906398881_Thariq Razan.ipynb.\n",
        "2. Pengumpulan tugas dilakukan melalui slot submisi yang telah disediakan di SCeLe. Keterlambatan pengumpulan akan dikenakan penalti sesuai dengan ketentuan pada BRP.\n",
        "3. Tugas ini dirancang sebagai **tugas mandiri**. Plagiarisme tidak diperkenankan dalam bentuk apapun. Adapun kolaborasi berupa diskusi (tanpa menyalin maupun mengambil jawaban orang lain) dan literasi masih diperbolehkan dengan mencantumkan kolaborator dan sumber.\n",
        "4. Soal yang akan dinilai telah diberikan penanda bobot maksimal agar Anda mengetahui berapa poin yang bisa didapatkan. "
      ]
    },
    {
      "cell_type": "markdown",
      "metadata": {
        "id": "JnRUE1Ul62_R"
      },
      "source": [
        "## **Pernyataan Integritas**\n",
        "\n",
        "Wajib diisi. Tanpa pernyataan integritas submisi akan dikenakan penalti."
      ]
    },
    {
      "cell_type": "code",
      "execution_count": 1,
      "metadata": {
        "id": "9tnfWWpN7vjq"
      },
      "outputs": [],
      "source": [
        "# Isi dengan data diri Anda\n",
        "NAMA = \"Bonifasius Erlangga Einsoni Rienko\"\n",
        "KELAS = \"B\"\n",
        "NPM = \"1906302850\"\n",
        "\n",
        "# Isi dengan NPM teman yang berdiskusi dengan Anda  \n",
        "KOLABORATOR = []\n",
        "\n",
        "# Isi dengan sumber referensi yang Anda gunakan dalam mengerjakan tugas ini\n",
        "REFERENSI = []"
      ]
    },
    {
      "cell_type": "code",
      "execution_count": 2,
      "metadata": {
        "colab": {
          "base_uri": "https://localhost:8080/"
        },
        "id": "KVEdteyu3hot",
        "outputId": "9ed88a60-500c-4c60-bb30-965027270f02"
      },
      "outputs": [
        {
          "output_type": "stream",
          "name": "stdout",
          "text": [
            "Saya, Bonifasius Erlangga Einsoni Rienko dari kelas B dengan NPM 1906302850, menyatakan bahwa seluruh jawaban pada pekerjaan ini murni saya kerjakan sendiri.\n",
            "Saya tidak mencontek jawaban, memberikan jawaban, maupun menyalin dari sumber manapun.\n",
            " \n",
            "Jika saya melanggar pernyataan tersebut, saya siap menerima konsekuensi apapun yang diberikan.\n",
            "   (Bonifasius Erlangga Einsoni Rienko)\n"
          ]
        }
      ],
      "source": [
        "PERNYATAAN_INTEGRITAS = \"Saya, %s dari kelas %s dengan NPM %s, menyatakan bahwa seluruh jawaban pada pekerjaan ini murni saya kerjakan sendiri.\\n\\\n",
        "Saya tidak mencontek jawaban, memberikan jawaban, maupun menyalin dari sumber manapun.\\n \\\n",
        "\\n\\\n",
        "Jika saya melanggar pernyataan tersebut, saya siap menerima konsekuensi apapun yang diberikan.\\n   \\\n",
        "(%s)\" % (NAMA, KELAS, NPM, NAMA)\n",
        "\n",
        "print(PERNYATAAN_INTEGRITAS)"
      ]
    },
    {
      "cell_type": "markdown",
      "metadata": {
        "id": "lqOWT_bKjYzg"
      },
      "source": [
        "## **Persiapan** [10 poin]\n",
        "Pada tugas ini Anda akan diinstruksikan untuk melakukan *clustering* terhadap dataset yang telah disediakan di SCeLe. Sebelumnya, lakukan EDA untuk lebih memahami dataset tersebut. Lakukan pula *preprocessing* yang diperlukan. \n",
        "\n",
        "Dataset ini mengandung data yang diambil dari observasi ilmuwan terhadap penguin di Antarktika. Terdapat atribut seperti pulau habitat, tebal paruh, dan sebagainya. Pada tugas ini, bantulah ilmuwan untuk mengelompokkan penguin ke klaster tertentu!"
      ]
    },
    {
      "cell_type": "code",
      "execution_count": 521,
      "metadata": {
        "id": "bUusltQScRDp"
      },
      "outputs": [],
      "source": [
        "# Impor library atau modul yang dibutuhkan pada tugas ini\n",
        "import pandas as pd\n",
        "import numpy as np\n",
        "import matplotlib.pyplot as plt\n",
        "import seaborn as sns\n",
        "from sklearn.cluster import KMeans\n",
        "from sklearn.metrics import silhouette_samples, silhouette_score\n",
        "import matplotlib.cm as cm\n",
        "import scipy.cluster.hierarchy as shc\n",
        "from sklearn.cluster import AgglomerativeClustering"
      ]
    },
    {
      "cell_type": "markdown",
      "metadata": {
        "id": "KhFKtMTossd8"
      },
      "source": [
        "1. Bukalah dataset dan tampilkan cuplikan dari dataset tersebut [1]"
      ]
    },
    {
      "cell_type": "code",
      "source": [
        "penguin_df = pd.read_csv(\"penguin.csv\")\n",
        "display(penguin_df)"
      ],
      "metadata": {
        "colab": {
          "base_uri": "https://localhost:8080/",
          "height": 424
        },
        "id": "2wCY8BY-rzJq",
        "outputId": "d6e086cb-a87a-462b-c233-65a32140667e"
      },
      "execution_count": 522,
      "outputs": [
        {
          "output_type": "display_data",
          "data": {
            "text/plain": [
              "    pulau_habitat  panjang_paruh_atas  tebal_paruh_atas  panjang_sirip  \\\n",
              "0       Torgersen                39.1              18.7          181.0   \n",
              "1       Torgersen                39.5              17.4          186.0   \n",
              "2       Torgersen                40.3              18.0          195.0   \n",
              "3       Torgersen                 NaN               NaN            NaN   \n",
              "4       Torgersen                36.7              19.3          193.0   \n",
              "..            ...                 ...               ...            ...   \n",
              "339        Biscoe                 NaN               NaN            NaN   \n",
              "340        Biscoe                46.8              14.3          215.0   \n",
              "341        Biscoe                50.4              15.7          222.0   \n",
              "342        Biscoe                45.2              14.8          212.0   \n",
              "343        Biscoe                49.9              16.1          213.0   \n",
              "\n",
              "     massa_tubuh jenis_kelamin  \n",
              "0         3750.0          MALE  \n",
              "1         3800.0        FEMALE  \n",
              "2         3250.0        FEMALE  \n",
              "3            NaN           NaN  \n",
              "4         3450.0        FEMALE  \n",
              "..           ...           ...  \n",
              "339          NaN           NaN  \n",
              "340       4850.0        FEMALE  \n",
              "341       5750.0          MALE  \n",
              "342       5200.0        FEMALE  \n",
              "343       5400.0          MALE  \n",
              "\n",
              "[344 rows x 6 columns]"
            ],
            "text/html": [
              "\n",
              "  <div id=\"df-dac310bc-63f9-44a9-b41f-6c2ef284878f\">\n",
              "    <div class=\"colab-df-container\">\n",
              "      <div>\n",
              "<style scoped>\n",
              "    .dataframe tbody tr th:only-of-type {\n",
              "        vertical-align: middle;\n",
              "    }\n",
              "\n",
              "    .dataframe tbody tr th {\n",
              "        vertical-align: top;\n",
              "    }\n",
              "\n",
              "    .dataframe thead th {\n",
              "        text-align: right;\n",
              "    }\n",
              "</style>\n",
              "<table border=\"1\" class=\"dataframe\">\n",
              "  <thead>\n",
              "    <tr style=\"text-align: right;\">\n",
              "      <th></th>\n",
              "      <th>pulau_habitat</th>\n",
              "      <th>panjang_paruh_atas</th>\n",
              "      <th>tebal_paruh_atas</th>\n",
              "      <th>panjang_sirip</th>\n",
              "      <th>massa_tubuh</th>\n",
              "      <th>jenis_kelamin</th>\n",
              "    </tr>\n",
              "  </thead>\n",
              "  <tbody>\n",
              "    <tr>\n",
              "      <th>0</th>\n",
              "      <td>Torgersen</td>\n",
              "      <td>39.1</td>\n",
              "      <td>18.7</td>\n",
              "      <td>181.0</td>\n",
              "      <td>3750.0</td>\n",
              "      <td>MALE</td>\n",
              "    </tr>\n",
              "    <tr>\n",
              "      <th>1</th>\n",
              "      <td>Torgersen</td>\n",
              "      <td>39.5</td>\n",
              "      <td>17.4</td>\n",
              "      <td>186.0</td>\n",
              "      <td>3800.0</td>\n",
              "      <td>FEMALE</td>\n",
              "    </tr>\n",
              "    <tr>\n",
              "      <th>2</th>\n",
              "      <td>Torgersen</td>\n",
              "      <td>40.3</td>\n",
              "      <td>18.0</td>\n",
              "      <td>195.0</td>\n",
              "      <td>3250.0</td>\n",
              "      <td>FEMALE</td>\n",
              "    </tr>\n",
              "    <tr>\n",
              "      <th>3</th>\n",
              "      <td>Torgersen</td>\n",
              "      <td>NaN</td>\n",
              "      <td>NaN</td>\n",
              "      <td>NaN</td>\n",
              "      <td>NaN</td>\n",
              "      <td>NaN</td>\n",
              "    </tr>\n",
              "    <tr>\n",
              "      <th>4</th>\n",
              "      <td>Torgersen</td>\n",
              "      <td>36.7</td>\n",
              "      <td>19.3</td>\n",
              "      <td>193.0</td>\n",
              "      <td>3450.0</td>\n",
              "      <td>FEMALE</td>\n",
              "    </tr>\n",
              "    <tr>\n",
              "      <th>...</th>\n",
              "      <td>...</td>\n",
              "      <td>...</td>\n",
              "      <td>...</td>\n",
              "      <td>...</td>\n",
              "      <td>...</td>\n",
              "      <td>...</td>\n",
              "    </tr>\n",
              "    <tr>\n",
              "      <th>339</th>\n",
              "      <td>Biscoe</td>\n",
              "      <td>NaN</td>\n",
              "      <td>NaN</td>\n",
              "      <td>NaN</td>\n",
              "      <td>NaN</td>\n",
              "      <td>NaN</td>\n",
              "    </tr>\n",
              "    <tr>\n",
              "      <th>340</th>\n",
              "      <td>Biscoe</td>\n",
              "      <td>46.8</td>\n",
              "      <td>14.3</td>\n",
              "      <td>215.0</td>\n",
              "      <td>4850.0</td>\n",
              "      <td>FEMALE</td>\n",
              "    </tr>\n",
              "    <tr>\n",
              "      <th>341</th>\n",
              "      <td>Biscoe</td>\n",
              "      <td>50.4</td>\n",
              "      <td>15.7</td>\n",
              "      <td>222.0</td>\n",
              "      <td>5750.0</td>\n",
              "      <td>MALE</td>\n",
              "    </tr>\n",
              "    <tr>\n",
              "      <th>342</th>\n",
              "      <td>Biscoe</td>\n",
              "      <td>45.2</td>\n",
              "      <td>14.8</td>\n",
              "      <td>212.0</td>\n",
              "      <td>5200.0</td>\n",
              "      <td>FEMALE</td>\n",
              "    </tr>\n",
              "    <tr>\n",
              "      <th>343</th>\n",
              "      <td>Biscoe</td>\n",
              "      <td>49.9</td>\n",
              "      <td>16.1</td>\n",
              "      <td>213.0</td>\n",
              "      <td>5400.0</td>\n",
              "      <td>MALE</td>\n",
              "    </tr>\n",
              "  </tbody>\n",
              "</table>\n",
              "<p>344 rows × 6 columns</p>\n",
              "</div>\n",
              "      <button class=\"colab-df-convert\" onclick=\"convertToInteractive('df-dac310bc-63f9-44a9-b41f-6c2ef284878f')\"\n",
              "              title=\"Convert this dataframe to an interactive table.\"\n",
              "              style=\"display:none;\">\n",
              "        \n",
              "  <svg xmlns=\"http://www.w3.org/2000/svg\" height=\"24px\"viewBox=\"0 0 24 24\"\n",
              "       width=\"24px\">\n",
              "    <path d=\"M0 0h24v24H0V0z\" fill=\"none\"/>\n",
              "    <path d=\"M18.56 5.44l.94 2.06.94-2.06 2.06-.94-2.06-.94-.94-2.06-.94 2.06-2.06.94zm-11 1L8.5 8.5l.94-2.06 2.06-.94-2.06-.94L8.5 2.5l-.94 2.06-2.06.94zm10 10l.94 2.06.94-2.06 2.06-.94-2.06-.94-.94-2.06-.94 2.06-2.06.94z\"/><path d=\"M17.41 7.96l-1.37-1.37c-.4-.4-.92-.59-1.43-.59-.52 0-1.04.2-1.43.59L10.3 9.45l-7.72 7.72c-.78.78-.78 2.05 0 2.83L4 21.41c.39.39.9.59 1.41.59.51 0 1.02-.2 1.41-.59l7.78-7.78 2.81-2.81c.8-.78.8-2.07 0-2.86zM5.41 20L4 18.59l7.72-7.72 1.47 1.35L5.41 20z\"/>\n",
              "  </svg>\n",
              "      </button>\n",
              "      \n",
              "  <style>\n",
              "    .colab-df-container {\n",
              "      display:flex;\n",
              "      flex-wrap:wrap;\n",
              "      gap: 12px;\n",
              "    }\n",
              "\n",
              "    .colab-df-convert {\n",
              "      background-color: #E8F0FE;\n",
              "      border: none;\n",
              "      border-radius: 50%;\n",
              "      cursor: pointer;\n",
              "      display: none;\n",
              "      fill: #1967D2;\n",
              "      height: 32px;\n",
              "      padding: 0 0 0 0;\n",
              "      width: 32px;\n",
              "    }\n",
              "\n",
              "    .colab-df-convert:hover {\n",
              "      background-color: #E2EBFA;\n",
              "      box-shadow: 0px 1px 2px rgba(60, 64, 67, 0.3), 0px 1px 3px 1px rgba(60, 64, 67, 0.15);\n",
              "      fill: #174EA6;\n",
              "    }\n",
              "\n",
              "    [theme=dark] .colab-df-convert {\n",
              "      background-color: #3B4455;\n",
              "      fill: #D2E3FC;\n",
              "    }\n",
              "\n",
              "    [theme=dark] .colab-df-convert:hover {\n",
              "      background-color: #434B5C;\n",
              "      box-shadow: 0px 1px 3px 1px rgba(0, 0, 0, 0.15);\n",
              "      filter: drop-shadow(0px 1px 2px rgba(0, 0, 0, 0.3));\n",
              "      fill: #FFFFFF;\n",
              "    }\n",
              "  </style>\n",
              "\n",
              "      <script>\n",
              "        const buttonEl =\n",
              "          document.querySelector('#df-dac310bc-63f9-44a9-b41f-6c2ef284878f button.colab-df-convert');\n",
              "        buttonEl.style.display =\n",
              "          google.colab.kernel.accessAllowed ? 'block' : 'none';\n",
              "\n",
              "        async function convertToInteractive(key) {\n",
              "          const element = document.querySelector('#df-dac310bc-63f9-44a9-b41f-6c2ef284878f');\n",
              "          const dataTable =\n",
              "            await google.colab.kernel.invokeFunction('convertToInteractive',\n",
              "                                                     [key], {});\n",
              "          if (!dataTable) return;\n",
              "\n",
              "          const docLinkHtml = 'Like what you see? Visit the ' +\n",
              "            '<a target=\"_blank\" href=https://colab.research.google.com/notebooks/data_table.ipynb>data table notebook</a>'\n",
              "            + ' to learn more about interactive tables.';\n",
              "          element.innerHTML = '';\n",
              "          dataTable['output_type'] = 'display_data';\n",
              "          await google.colab.output.renderOutput(dataTable, element);\n",
              "          const docLink = document.createElement('div');\n",
              "          docLink.innerHTML = docLinkHtml;\n",
              "          element.appendChild(docLink);\n",
              "        }\n",
              "      </script>\n",
              "    </div>\n",
              "  </div>\n",
              "  "
            ]
          },
          "metadata": {}
        }
      ]
    },
    {
      "cell_type": "markdown",
      "metadata": {
        "id": "eemzgA2Vs0ZV"
      },
      "source": [
        "2. Tampilkan informasi dari dataset tersebut yang paling tidak mencakup jenis kolom dan jumlah *non-null cell* [1]"
      ]
    },
    {
      "cell_type": "code",
      "source": [
        "penguin_df.info()"
      ],
      "metadata": {
        "colab": {
          "base_uri": "https://localhost:8080/"
        },
        "id": "gyD73wFHsjiR",
        "outputId": "5bd154f9-6722-45c7-c039-5e7eadaaccfb"
      },
      "execution_count": 523,
      "outputs": [
        {
          "output_type": "stream",
          "name": "stdout",
          "text": [
            "<class 'pandas.core.frame.DataFrame'>\n",
            "RangeIndex: 344 entries, 0 to 343\n",
            "Data columns (total 6 columns):\n",
            " #   Column              Non-Null Count  Dtype  \n",
            "---  ------              --------------  -----  \n",
            " 0   pulau_habitat       344 non-null    object \n",
            " 1   panjang_paruh_atas  342 non-null    float64\n",
            " 2   tebal_paruh_atas    342 non-null    float64\n",
            " 3   panjang_sirip       342 non-null    float64\n",
            " 4   massa_tubuh         342 non-null    float64\n",
            " 5   jenis_kelamin       334 non-null    object \n",
            "dtypes: float64(4), object(2)\n",
            "memory usage: 16.2+ KB\n"
          ]
        }
      ]
    },
    {
      "cell_type": "markdown",
      "metadata": {
        "id": "TJ3_hRttt5JQ"
      },
      "source": [
        "3. Tampilkan statistika deskriptif dari dataset tersebut [1]"
      ]
    },
    {
      "cell_type": "markdown",
      "source": [
        "CENTRAL TENDENCY"
      ],
      "metadata": {
        "id": "Kq8IWFvnyMWj"
      }
    },
    {
      "cell_type": "code",
      "source": [
        "mode_pulau_habitat = penguin_df['pulau_habitat'].mode()\n",
        "print(\"Berikut adalah mean dari dataset penguin kolom mode_pulau_habitat:\")\n",
        "print(mode_pulau_habitat)\n",
        "print(\"\\n\")\n",
        "\n",
        "mode_jenis_kelamin = penguin_df['jenis_kelamin'].mode()\n",
        "print(\"Berikut adalah mean dari dataset penguin kolom jenis_kelamin:\")\n",
        "print(mode_jenis_kelamin)\n",
        "print(\"\\n\")\n",
        "\n",
        "print(\"Kedua kolom di atas saya menampilkan informasi sebagai central tendency karena bersifat kategorikal\")"
      ],
      "metadata": {
        "colab": {
          "base_uri": "https://localhost:8080/"
        },
        "id": "QmnyxsaJtU3l",
        "outputId": "9c5c89b3-d06e-4db1-e6dc-c80a377e1c69"
      },
      "execution_count": 524,
      "outputs": [
        {
          "output_type": "stream",
          "name": "stdout",
          "text": [
            "Berikut adalah mean dari dataset penguin kolom mode_pulau_habitat:\n",
            "0    Biscoe\n",
            "dtype: object\n",
            "\n",
            "\n",
            "Berikut adalah mean dari dataset penguin kolom jenis_kelamin:\n",
            "0    MALE\n",
            "dtype: object\n",
            "\n",
            "\n",
            "Kedua kolom di atas saya menampilkan informasi sebagai central tendency karena bersifat kategorikal\n"
          ]
        }
      ]
    },
    {
      "cell_type": "markdown",
      "source": [
        "SKEWNESS"
      ],
      "metadata": {
        "id": "Wdwg1Zx96UzN"
      }
    },
    {
      "cell_type": "code",
      "source": [
        "import scipy.stats as scp\n",
        "from scipy.stats import skew\n",
        "\n",
        "panjang_paruh = penguin_df['panjang_paruh_atas']\n",
        "tebal_paruh = penguin_df['tebal_paruh_atas']\n",
        "panjang_sirip = penguin_df['panjang_sirip']\n",
        "massa_tubuh = penguin_df['massa_tubuh']\n",
        "\n",
        "def figure(data, column):\n",
        "  plt.figure(figsize=(10,5))\n",
        "  sns.histplot(data=data, x=column, kde=True)\n",
        "  plt.title(column)\n",
        "  plt.vlines(x=np.mean(data[column]), ymin=0, ymax=1, color='blue', linestyle='--')\n",
        "  plt.vlines(x=np.median(data[column]), ymin=0, ymax=1, color='green', linestyle='--')\n",
        "  plt.vlines(x=scp.mode(data[column])[0][0], ymin=0, ymax=1, color='red', linestyle='--')\n",
        "  plt.legend([column, 'Mean', 'Median', 'Mode'], fontsize=12)\n",
        "  plt.show()\n",
        "\n",
        "print(figure(penguin_df, 'panjang_paruh_atas'))\n",
        "print(figure(penguin_df, 'tebal_paruh_atas'))\n",
        "print(figure(penguin_df, 'panjang_sirip'))\n",
        "print(figure(penguin_df, 'massa_tubuh'))"
      ],
      "metadata": {
        "colab": {
          "base_uri": "https://localhost:8080/",
          "height": 1000
        },
        "id": "UyNFyQV3wLln",
        "outputId": "b3fb4364-3288-4a3e-db00-14a0401e68ae"
      },
      "execution_count": 525,
      "outputs": [
        {
          "output_type": "display_data",
          "data": {
            "text/plain": [
              "<Figure size 720x360 with 1 Axes>"
            ],
            "image/png": "[encoded data removed]"
          },
          "metadata": {
            "needs_background": "light"
          }
        },
        {
          "output_type": "stream",
          "name": "stdout",
          "text": [
            "None\n"
          ]
        },
        {
          "output_type": "display_data",
          "data": {
            "text/plain": [
              "<Figure size 720x360 with 1 Axes>"
            ],
            "image/png": "[encoded data removed]"
          },
          "metadata": {
            "needs_background": "light"
          }
        },
        {
          "output_type": "stream",
          "name": "stdout",
          "text": [
            "None\n"
          ]
        },
        {
          "output_type": "display_data",
          "data": {
            "text/plain": [
              "<Figure size 720x360 with 1 Axes>"
            ],
            "image/png": "[encoded data removed]"
          },
          "metadata": {
            "needs_background": "light"
          }
        },
        {
          "output_type": "stream",
          "name": "stdout",
          "text": [
            "None\n"
          ]
        },
        {
          "output_type": "display_data",
          "data": {
            "text/plain": [
              "<Figure size 720x360 with 1 Axes>"
            ],
            "image/png": "[encoded data removed]"
          },
          "metadata": {
            "needs_background": "light"
          }
        },
        {
          "output_type": "stream",
          "name": "stdout",
          "text": [
            "None\n"
          ]
        }
      ]
    },
    {
      "cell_type": "markdown",
      "source": [
        "Jika kita lihat disini, maka dapat kita lihat bahwa kolom panjang_paruh_atas memiliki double skewness, kolom tebal_paruh_atas cenderung memiliki negative skewed, kolom panjang_sirip cenderung memiliki positive skewed, dan kolom massa_tubuh memiliki poitive skewed. Jika memiliki distribusi data yang tidak terdistribusi normal, maka saya akan menetapkan central tendency untuk keempat kolom ini adalah median"
      ],
      "metadata": {
        "id": "Nd29ZWIW6k_x"
      }
    },
    {
      "cell_type": "markdown",
      "source": [
        "CORRELATION"
      ],
      "metadata": {
        "id": "lJCr8IO6ygty"
      }
    },
    {
      "cell_type": "code",
      "source": [
        "dataplot = sns.heatmap(penguin_df.corr(), cmap=\"YlGnBu\", annot=True)\n",
        "plt.title(\"Korelasi dataset penguin.csv\")\n",
        "plt.show()"
      ],
      "metadata": {
        "colab": {
          "base_uri": "https://localhost:8080/",
          "height": 372
        },
        "id": "yXaGog3-zO1x",
        "outputId": "9ff3785a-85f5-4c1b-9d88-5612e88663fc"
      },
      "execution_count": 526,
      "outputs": [
        {
          "output_type": "display_data",
          "data": {
            "text/plain": [
              "<Figure size 432x288 with 2 Axes>"
            ],
            "image/png": "[encoded data removed]"
          },
          "metadata": {
            "needs_background": "light"
          }
        }
      ]
    },
    {
      "cell_type": "code",
      "source": [
        "import statistics\n",
        "\n",
        "def measure_of_variation(data):\n",
        "    q1 = data.quantile(q = 0.25)\n",
        "    q2 = data.quantile(q = 0.50)\n",
        "    q3 = data.quantile(q = 0.75)\n",
        "    iqr = q3 - q1\n",
        "    print(\"iqr sebesar \" + str(iqr))\n",
        "    range = max(data)-min(data)\n",
        "    print(\"Range sebesar \"+str(range))\n",
        "    stdev = statistics.stdev(data)\n",
        "    print(\"standard deviasi dataset saat ini adalah \"+str(stdev))\n",
        "    var = stdev**2\n",
        "    print(\"variansi dataset saat ini adalah \"+str(var))"
      ],
      "metadata": {
        "id": "KRO1APAKzlnq"
      },
      "execution_count": 527,
      "outputs": []
    },
    {
      "cell_type": "code",
      "source": [
        "print(\"kolom panjang paruh\")\n",
        "print(measure_of_variation(panjang_paruh))\n",
        "print(\"\\n\")\n",
        "\n",
        "print(\"kolom tebal paruh\")\n",
        "print(measure_of_variation(tebal_paruh))\n",
        "print(\"\\n\")\n",
        "\n",
        "print(\"kolom panjang sirip\")\n",
        "print(measure_of_variation(panjang_sirip))\n",
        "print(\"\\n\")\n",
        "\n",
        "print(\"kolom massa tubuh\")\n",
        "print(measure_of_variation(massa_tubuh))"
      ],
      "metadata": {
        "colab": {
          "base_uri": "https://localhost:8080/"
        },
        "id": "X7XMryo9-9av",
        "outputId": "ecee5151-35e6-4fe7-f77e-735c3031f3d8"
      },
      "execution_count": 528,
      "outputs": [
        {
          "output_type": "stream",
          "name": "stdout",
          "text": [
            "kolom panjang paruh\n",
            "iqr sebesar 9.274999999999999\n",
            "Range sebesar 27.5\n",
            "standard deviasi dataset saat ini adalah nan\n",
            "variansi dataset saat ini adalah nan\n",
            "None\n",
            "\n",
            "\n",
            "kolom tebal paruh\n",
            "iqr sebesar 3.0999999999999996\n",
            "Range sebesar 8.4\n",
            "standard deviasi dataset saat ini adalah nan\n",
            "variansi dataset saat ini adalah nan\n",
            "None\n",
            "\n",
            "\n",
            "kolom panjang sirip\n",
            "iqr sebesar 23.0\n",
            "Range sebesar 59.0\n",
            "standard deviasi dataset saat ini adalah nan\n",
            "variansi dataset saat ini adalah nan\n",
            "None\n",
            "\n",
            "\n",
            "kolom massa tubuh\n",
            "iqr sebesar 1200.0\n",
            "Range sebesar 3600.0\n",
            "standard deviasi dataset saat ini adalah nan\n",
            "variansi dataset saat ini adalah nan\n",
            "None\n"
          ]
        }
      ]
    },
    {
      "cell_type": "markdown",
      "metadata": {
        "id": "s6pNZF79uQb9"
      },
      "source": [
        "4. Lakukan penanganan terhadap *missing values* [2]"
      ]
    },
    {
      "cell_type": "code",
      "source": [
        "# Cek missing value\n",
        "def cek_null(df):\n",
        "    col_na = df.isna().sum().sort_values(ascending=False)\n",
        "    percent = col_na / len(df)\n",
        "    \n",
        "    missing_data = pd.concat([col_na, percent], axis=1, keys=['Total', 'Percent'])\n",
        "    print(missing_data[missing_data['Total'] > 0])"
      ],
      "metadata": {
        "id": "yuRDhF1Q-KD1"
      },
      "execution_count": 529,
      "outputs": []
    },
    {
      "cell_type": "code",
      "source": [
        "cek_null(penguin_df)"
      ],
      "metadata": {
        "colab": {
          "base_uri": "https://localhost:8080/"
        },
        "id": "_BPgZks8-4bC",
        "outputId": "d9893b2b-15c2-4888-9bd4-d004f786460a"
      },
      "execution_count": 530,
      "outputs": [
        {
          "output_type": "stream",
          "name": "stdout",
          "text": [
            "                    Total   Percent\n",
            "jenis_kelamin          10  0.029070\n",
            "panjang_paruh_atas      2  0.005814\n",
            "tebal_paruh_atas        2  0.005814\n",
            "panjang_sirip           2  0.005814\n",
            "massa_tubuh             2  0.005814\n"
          ]
        }
      ]
    },
    {
      "cell_type": "code",
      "source": [
        "# ingin memastikan kolom pulau_habitat tidak ada null\n",
        "penguin_df[\"pulau_habitat\"].isna().sum()"
      ],
      "metadata": {
        "colab": {
          "base_uri": "https://localhost:8080/"
        },
        "id": "2NYxCCmAAU-V",
        "outputId": "20643779-fbb7-452b-9ef6-100e70aa082d"
      },
      "execution_count": 531,
      "outputs": [
        {
          "output_type": "execute_result",
          "data": {
            "text/plain": [
              "0"
            ]
          },
          "metadata": {},
          "execution_count": 531
        }
      ]
    },
    {
      "cell_type": "code",
      "source": [
        "penguin_df = penguin_df.dropna()"
      ],
      "metadata": {
        "id": "rfIGeQt-Diw8"
      },
      "execution_count": 532,
      "outputs": []
    },
    {
      "cell_type": "code",
      "source": [
        "penguin_df.isna().sum().sum()"
      ],
      "metadata": {
        "colab": {
          "base_uri": "https://localhost:8080/"
        },
        "id": "ByyT38DnGDr5",
        "outputId": "1c116be3-0dec-4b85-be74-420cf3114fb8"
      },
      "execution_count": 533,
      "outputs": [
        {
          "output_type": "execute_result",
          "data": {
            "text/plain": [
              "0"
            ]
          },
          "metadata": {},
          "execution_count": 533
        }
      ]
    },
    {
      "cell_type": "markdown",
      "source": [
        "Disini sudah tidak ada missing value"
      ],
      "metadata": {
        "id": "W7uPhcXfMQxu"
      }
    },
    {
      "cell_type": "markdown",
      "metadata": {
        "id": "aTQx3f55vP9F"
      },
      "source": [
        "5. Buatlah visualisasi untuk memahami distribusi data dari sebuah atribut dan memahami hubungan antar dua buah atribut [3]"
      ]
    },
    {
      "cell_type": "code",
      "source": [
        "print(figure(penguin_df, 'massa_tubuh'))"
      ],
      "metadata": {
        "colab": {
          "base_uri": "https://localhost:8080/",
          "height": 369
        },
        "id": "880IF88kGZiK",
        "outputId": "a070cc5d-c4c3-4c88-e06c-b06ebe91bb61"
      },
      "execution_count": 534,
      "outputs": [
        {
          "output_type": "display_data",
          "data": {
            "text/plain": [
              "<Figure size 720x360 with 1 Axes>"
            ],
            "image/png": "[encoded data removed]"
          },
          "metadata": {
            "needs_background": "light"
          }
        },
        {
          "output_type": "stream",
          "name": "stdout",
          "text": [
            "None\n"
          ]
        }
      ]
    },
    {
      "cell_type": "markdown",
      "source": [
        "untuk dataset dari penguin.csv (yang sudah ditangani missing valuenya), memiliki distribusi data positive skew dan tidak terdistribusi secara normal"
      ],
      "metadata": {
        "id": "XbCNHixTHLFA"
      }
    },
    {
      "cell_type": "code",
      "source": [
        "penguin_df['jenis_kelamin'].value_counts()"
      ],
      "metadata": {
        "colab": {
          "base_uri": "https://localhost:8080/"
        },
        "id": "4zYdKxUAHsZz",
        "outputId": "257ef0ba-641f-41cf-fdee-995be60ab1af"
      },
      "execution_count": 535,
      "outputs": [
        {
          "output_type": "execute_result",
          "data": {
            "text/plain": [
              "MALE      168\n",
              "FEMALE    165\n",
              ".           1\n",
              "Name: jenis_kelamin, dtype: int64"
            ]
          },
          "metadata": {},
          "execution_count": 535
        }
      ]
    },
    {
      "cell_type": "code",
      "source": [
        "penguin_df.drop(penguin_df.index[penguin_df['jenis_kelamin'] == '.'], inplace=True)"
      ],
      "metadata": {
        "id": "aGQjGS55KPk1"
      },
      "execution_count": 536,
      "outputs": []
    },
    {
      "cell_type": "code",
      "source": [
        "penguin_df['jenis_kelamin'].value_counts()"
      ],
      "metadata": {
        "colab": {
          "base_uri": "https://localhost:8080/"
        },
        "id": "mBqfbpo6M3kC",
        "outputId": "429d90f4-32fa-4b1e-935b-d1aae29e1b69"
      },
      "execution_count": 537,
      "outputs": [
        {
          "output_type": "execute_result",
          "data": {
            "text/plain": [
              "MALE      168\n",
              "FEMALE    165\n",
              "Name: jenis_kelamin, dtype: int64"
            ]
          },
          "metadata": {},
          "execution_count": 537
        }
      ]
    },
    {
      "cell_type": "code",
      "source": [
        "from sklearn.preprocessing import LabelEncoder\n",
        "labelencoder = LabelEncoder()\n",
        "penguin_df['jenis_kelamin_angka'] = labelencoder.fit_transform(penguin_df['jenis_kelamin'])\n",
        "display(penguin_df)"
      ],
      "metadata": {
        "colab": {
          "base_uri": "https://localhost:8080/",
          "height": 424
        },
        "id": "PXZy6LdLNyym",
        "outputId": "bc08e08b-b13b-45fc-b61b-96d21af600ab"
      },
      "execution_count": 538,
      "outputs": [
        {
          "output_type": "display_data",
          "data": {
            "text/plain": [
              "    pulau_habitat  panjang_paruh_atas  tebal_paruh_atas  panjang_sirip  \\\n",
              "0       Torgersen                39.1              18.7          181.0   \n",
              "1       Torgersen                39.5              17.4          186.0   \n",
              "2       Torgersen                40.3              18.0          195.0   \n",
              "4       Torgersen                36.7              19.3          193.0   \n",
              "5       Torgersen                39.3              20.6          190.0   \n",
              "..            ...                 ...               ...            ...   \n",
              "338        Biscoe                47.2              13.7          214.0   \n",
              "340        Biscoe                46.8              14.3          215.0   \n",
              "341        Biscoe                50.4              15.7          222.0   \n",
              "342        Biscoe                45.2              14.8          212.0   \n",
              "343        Biscoe                49.9              16.1          213.0   \n",
              "\n",
              "     massa_tubuh jenis_kelamin  jenis_kelamin_angka  \n",
              "0         3750.0          MALE                    1  \n",
              "1         3800.0        FEMALE                    0  \n",
              "2         3250.0        FEMALE                    0  \n",
              "4         3450.0        FEMALE                    0  \n",
              "5         3650.0          MALE                    1  \n",
              "..           ...           ...                  ...  \n",
              "338       4925.0        FEMALE                    0  \n",
              "340       4850.0        FEMALE                    0  \n",
              "341       5750.0          MALE                    1  \n",
              "342       5200.0        FEMALE                    0  \n",
              "343       5400.0          MALE                    1  \n",
              "\n",
              "[333 rows x 7 columns]"
            ],
            "text/html": [
              "\n",
              "  <div id=\"df-6f742cce-226d-4dd0-b2c0-6b5c782e0f71\">\n",
              "    <div class=\"colab-df-container\">\n",
              "      <div>\n",
              "<style scoped>\n",
              "    .dataframe tbody tr th:only-of-type {\n",
              "        vertical-align: middle;\n",
              "    }\n",
              "\n",
              "    .dataframe tbody tr th {\n",
              "        vertical-align: top;\n",
              "    }\n",
              "\n",
              "    .dataframe thead th {\n",
              "        text-align: right;\n",
              "    }\n",
              "</style>\n",
              "<table border=\"1\" class=\"dataframe\">\n",
              "  <thead>\n",
              "    <tr style=\"text-align: right;\">\n",
              "      <th></th>\n",
              "      <th>pulau_habitat</th>\n",
              "      <th>panjang_paruh_atas</th>\n",
              "      <th>tebal_paruh_atas</th>\n",
              "      <th>panjang_sirip</th>\n",
              "      <th>massa_tubuh</th>\n",
              "      <th>jenis_kelamin</th>\n",
              "      <th>jenis_kelamin_angka</th>\n",
              "    </tr>\n",
              "  </thead>\n",
              "  <tbody>\n",
              "    <tr>\n",
              "      <th>0</th>\n",
              "      <td>Torgersen</td>\n",
              "      <td>39.1</td>\n",
              "      <td>18.7</td>\n",
              "      <td>181.0</td>\n",
              "      <td>3750.0</td>\n",
              "      <td>MALE</td>\n",
              "      <td>1</td>\n",
              "    </tr>\n",
              "    <tr>\n",
              "      <th>1</th>\n",
              "      <td>Torgersen</td>\n",
              "      <td>39.5</td>\n",
              "      <td>17.4</td>\n",
              "      <td>186.0</td>\n",
              "      <td>3800.0</td>\n",
              "      <td>FEMALE</td>\n",
              "      <td>0</td>\n",
              "    </tr>\n",
              "    <tr>\n",
              "      <th>2</th>\n",
              "      <td>Torgersen</td>\n",
              "      <td>40.3</td>\n",
              "      <td>18.0</td>\n",
              "      <td>195.0</td>\n",
              "      <td>3250.0</td>\n",
              "      <td>FEMALE</td>\n",
              "      <td>0</td>\n",
              "    </tr>\n",
              "    <tr>\n",
              "      <th>4</th>\n",
              "      <td>Torgersen</td>\n",
              "      <td>36.7</td>\n",
              "      <td>19.3</td>\n",
              "      <td>193.0</td>\n",
              "      <td>3450.0</td>\n",
              "      <td>FEMALE</td>\n",
              "      <td>0</td>\n",
              "    </tr>\n",
              "    <tr>\n",
              "      <th>5</th>\n",
              "      <td>Torgersen</td>\n",
              "      <td>39.3</td>\n",
              "      <td>20.6</td>\n",
              "      <td>190.0</td>\n",
              "      <td>3650.0</td>\n",
              "      <td>MALE</td>\n",
              "      <td>1</td>\n",
              "    </tr>\n",
              "    <tr>\n",
              "      <th>...</th>\n",
              "      <td>...</td>\n",
              "      <td>...</td>\n",
              "      <td>...</td>\n",
              "      <td>...</td>\n",
              "      <td>...</td>\n",
              "      <td>...</td>\n",
              "      <td>...</td>\n",
              "    </tr>\n",
              "    <tr>\n",
              "      <th>338</th>\n",
              "      <td>Biscoe</td>\n",
              "      <td>47.2</td>\n",
              "      <td>13.7</td>\n",
              "      <td>214.0</td>\n",
              "      <td>4925.0</td>\n",
              "      <td>FEMALE</td>\n",
              "      <td>0</td>\n",
              "    </tr>\n",
              "    <tr>\n",
              "      <th>340</th>\n",
              "      <td>Biscoe</td>\n",
              "      <td>46.8</td>\n",
              "      <td>14.3</td>\n",
              "      <td>215.0</td>\n",
              "      <td>4850.0</td>\n",
              "      <td>FEMALE</td>\n",
              "      <td>0</td>\n",
              "    </tr>\n",
              "    <tr>\n",
              "      <th>341</th>\n",
              "      <td>Biscoe</td>\n",
              "      <td>50.4</td>\n",
              "      <td>15.7</td>\n",
              "      <td>222.0</td>\n",
              "      <td>5750.0</td>\n",
              "      <td>MALE</td>\n",
              "      <td>1</td>\n",
              "    </tr>\n",
              "    <tr>\n",
              "      <th>342</th>\n",
              "      <td>Biscoe</td>\n",
              "      <td>45.2</td>\n",
              "      <td>14.8</td>\n",
              "      <td>212.0</td>\n",
              "      <td>5200.0</td>\n",
              "      <td>FEMALE</td>\n",
              "      <td>0</td>\n",
              "    </tr>\n",
              "    <tr>\n",
              "      <th>343</th>\n",
              "      <td>Biscoe</td>\n",
              "      <td>49.9</td>\n",
              "      <td>16.1</td>\n",
              "      <td>213.0</td>\n",
              "      <td>5400.0</td>\n",
              "      <td>MALE</td>\n",
              "      <td>1</td>\n",
              "    </tr>\n",
              "  </tbody>\n",
              "</table>\n",
              "<p>333 rows × 7 columns</p>\n",
              "</div>\n",
              "      <button class=\"colab-df-convert\" onclick=\"convertToInteractive('df-6f742cce-226d-4dd0-b2c0-6b5c782e0f71')\"\n",
              "              title=\"Convert this dataframe to an interactive table.\"\n",
              "              style=\"display:none;\">\n",
              "        \n",
              "  <svg xmlns=\"http://www.w3.org/2000/svg\" height=\"24px\"viewBox=\"0 0 24 24\"\n",
              "       width=\"24px\">\n",
              "    <path d=\"M0 0h24v24H0V0z\" fill=\"none\"/>\n",
              "    <path d=\"M18.56 5.44l.94 2.06.94-2.06 2.06-.94-2.06-.94-.94-2.06-.94 2.06-2.06.94zm-11 1L8.5 8.5l.94-2.06 2.06-.94-2.06-.94L8.5 2.5l-.94 2.06-2.06.94zm10 10l.94 2.06.94-2.06 2.06-.94-2.06-.94-.94-2.06-.94 2.06-2.06.94z\"/><path d=\"M17.41 7.96l-1.37-1.37c-.4-.4-.92-.59-1.43-.59-.52 0-1.04.2-1.43.59L10.3 9.45l-7.72 7.72c-.78.78-.78 2.05 0 2.83L4 21.41c.39.39.9.59 1.41.59.51 0 1.02-.2 1.41-.59l7.78-7.78 2.81-2.81c.8-.78.8-2.07 0-2.86zM5.41 20L4 18.59l7.72-7.72 1.47 1.35L5.41 20z\"/>\n",
              "  </svg>\n",
              "      </button>\n",
              "      \n",
              "  <style>\n",
              "    .colab-df-container {\n",
              "      display:flex;\n",
              "      flex-wrap:wrap;\n",
              "      gap: 12px;\n",
              "    }\n",
              "\n",
              "    .colab-df-convert {\n",
              "      background-color: #E8F0FE;\n",
              "      border: none;\n",
              "      border-radius: 50%;\n",
              "      cursor: pointer;\n",
              "      display: none;\n",
              "      fill: #1967D2;\n",
              "      height: 32px;\n",
              "      padding: 0 0 0 0;\n",
              "      width: 32px;\n",
              "    }\n",
              "\n",
              "    .colab-df-convert:hover {\n",
              "      background-color: #E2EBFA;\n",
              "      box-shadow: 0px 1px 2px rgba(60, 64, 67, 0.3), 0px 1px 3px 1px rgba(60, 64, 67, 0.15);\n",
              "      fill: #174EA6;\n",
              "    }\n",
              "\n",
              "    [theme=dark] .colab-df-convert {\n",
              "      background-color: #3B4455;\n",
              "      fill: #D2E3FC;\n",
              "    }\n",
              "\n",
              "    [theme=dark] .colab-df-convert:hover {\n",
              "      background-color: #434B5C;\n",
              "      box-shadow: 0px 1px 3px 1px rgba(0, 0, 0, 0.15);\n",
              "      filter: drop-shadow(0px 1px 2px rgba(0, 0, 0, 0.3));\n",
              "      fill: #FFFFFF;\n",
              "    }\n",
              "  </style>\n",
              "\n",
              "      <script>\n",
              "        const buttonEl =\n",
              "          document.querySelector('#df-6f742cce-226d-4dd0-b2c0-6b5c782e0f71 button.colab-df-convert');\n",
              "        buttonEl.style.display =\n",
              "          google.colab.kernel.accessAllowed ? 'block' : 'none';\n",
              "\n",
              "        async function convertToInteractive(key) {\n",
              "          const element = document.querySelector('#df-6f742cce-226d-4dd0-b2c0-6b5c782e0f71');\n",
              "          const dataTable =\n",
              "            await google.colab.kernel.invokeFunction('convertToInteractive',\n",
              "                                                     [key], {});\n",
              "          if (!dataTable) return;\n",
              "\n",
              "          const docLinkHtml = 'Like what you see? Visit the ' +\n",
              "            '<a target=\"_blank\" href=https://colab.research.google.com/notebooks/data_table.ipynb>data table notebook</a>'\n",
              "            + ' to learn more about interactive tables.';\n",
              "          element.innerHTML = '';\n",
              "          dataTable['output_type'] = 'display_data';\n",
              "          await google.colab.output.renderOutput(dataTable, element);\n",
              "          const docLink = document.createElement('div');\n",
              "          docLink.innerHTML = docLinkHtml;\n",
              "          element.appendChild(docLink);\n",
              "        }\n",
              "      </script>\n",
              "    </div>\n",
              "  </div>\n",
              "  "
            ]
          },
          "metadata": {}
        }
      ]
    },
    {
      "cell_type": "code",
      "source": [
        "dataplot = sns.heatmap(penguin_df[['massa_tubuh','jenis_kelamin_angka']].corr(), cmap=\"YlGnBu\", annot=True)"
      ],
      "metadata": {
        "colab": {
          "base_uri": "https://localhost:8080/",
          "height": 270
        },
        "id": "sJcYaoafPCSG",
        "outputId": "8dae41ae-97cd-4126-b916-e54840f64400"
      },
      "execution_count": 539,
      "outputs": [
        {
          "output_type": "display_data",
          "data": {
            "text/plain": [
              "<Figure size 432x288 with 2 Axes>"
            ],
            "image/png": "[encoded data removed]"
          },
          "metadata": {
            "needs_background": "light"
          }
        }
      ]
    },
    {
      "cell_type": "markdown",
      "metadata": {
        "id": "L7VpzD9TuiwP"
      },
      "source": [
        "6. Pilihlah paling tidak 2 atribut yang Anda ingin gunakan untuk penentuan klaster. Jelaskan alasan Anda memilih kombinasi atribut tersebut [2]\n",
        "\n",
        "> **Catatan**: Anda diharapkan untuk **bereksperimen** dengan pilihan atribut tersebut. Anda dapat lanjut ke bagian *clustering*, lalu kembali lagi ke bagian pemilihan atribut jika ingin mencoba kombinasi atribut yang berbeda. Pastikan jawaban akhir Anda dapat menghasilkan klaster yang **bermakna** (menghasilkan *insight* tertentu)."
      ]
    },
    {
      "cell_type": "markdown",
      "source": [
        "Saya akan melakukan pengelompokkan terhadap penguin dengan berdasarkan fitur tebal paruh atasnya dan panjang siripnya (hanya menerapkan 1 fitur saja, tidak. Alasan pertama saya memilih 2 fitur ini karena sifatnya tidak seperti atribut pada jenis_kelamin dan pulau_habitat yang cukup jelas. Karena menurut saya untuk pengelompokkan yang sudah jelas dari awal (seperti jenis_kelamin dan pulau_habitat) bukan termasuk clustering namun classification. Kemudian, alasan saya memilih spesifik fiturnya yaitu tebal_paruh_atas dan panjang_sirip karena ketika saya coba melakukan clustering (2 fitur) lainnya, nilai silhouette tertingginya tidak setinggi nilai silhouette tertinggi dari clustering fitur tebal_paruh_atas dan panjang_sirip. Saya melihat dari silhouette score karena menurut saya silhouette score dapat digunakan untuk melihat seberapa bagus suatu cluster ter-clustering (pengelompokkannya terlihat jelas)\n",
        "\n",
        "**NOTE**: di bawah ini saya hanya menampilkan cluster terbaiknya saja dari hasil eksperimen karena menurut saya terlalu panjang atau banyak bila harus dilakukan atau ditampilkan satu-satu"
      ],
      "metadata": {
        "id": "hH6vwOSWuzTC"
      }
    },
    {
      "cell_type": "markdown",
      "metadata": {
        "id": "0YKFSluKDZ0e"
      },
      "source": [
        "## **K-Means Clustering** [30 poin]\n",
        "K-Means merupakan salah satu metode *clustering* yang paling populer. 'K' pada kata K-Means mengacu pada banyaknya kelompok yang ingin dibentuk. Menentukan nilai 'K' bersifat krusial karena memengaruhi kualitas *clustering*. Secara umum, kita dapat menerapkan K-Means secara manual dengan mengikuti langkah-langkah berikut: \n",
        "1. Menentukan nilai K dan memilih K buah centroid (titik pusat) secara acak\n",
        "2. Mengelompokkan titik-titik data yang ada ke centroid terdekat\n",
        "3. Menentukan ulang centroid dengan mengkalkulasi rata-rata data dari kelompok yang terbentuk\n",
        "4. Mengulangi langkah 1-3 sampai memenuhi *stopping criteria*\n"
      ]
    },
    {
      "cell_type": "markdown",
      "metadata": {
        "id": "gcKs2hrCR1CL"
      },
      "source": [
        "7. Manfaatkan metrik *silhouette coefficient* untuk menentukan nilai K yang optimal (hint: lakukan *silhoutte analysis* terhadap nilai 2<=K<=6) [12]"
      ]
    },
    {
      "cell_type": "code",
      "source": [
        "display(penguin_df)"
      ],
      "metadata": {
        "colab": {
          "base_uri": "https://localhost:8080/",
          "height": 424
        },
        "id": "MXsTkC6AQosZ",
        "outputId": "b8f43b4a-94d4-43ff-eedb-18fc4653ae01"
      },
      "execution_count": 540,
      "outputs": [
        {
          "output_type": "display_data",
          "data": {
            "text/plain": [
              "    pulau_habitat  panjang_paruh_atas  tebal_paruh_atas  panjang_sirip  \\\n",
              "0       Torgersen                39.1              18.7          181.0   \n",
              "1       Torgersen                39.5              17.4          186.0   \n",
              "2       Torgersen                40.3              18.0          195.0   \n",
              "4       Torgersen                36.7              19.3          193.0   \n",
              "5       Torgersen                39.3              20.6          190.0   \n",
              "..            ...                 ...               ...            ...   \n",
              "338        Biscoe                47.2              13.7          214.0   \n",
              "340        Biscoe                46.8              14.3          215.0   \n",
              "341        Biscoe                50.4              15.7          222.0   \n",
              "342        Biscoe                45.2              14.8          212.0   \n",
              "343        Biscoe                49.9              16.1          213.0   \n",
              "\n",
              "     massa_tubuh jenis_kelamin  jenis_kelamin_angka  \n",
              "0         3750.0          MALE                    1  \n",
              "1         3800.0        FEMALE                    0  \n",
              "2         3250.0        FEMALE                    0  \n",
              "4         3450.0        FEMALE                    0  \n",
              "5         3650.0          MALE                    1  \n",
              "..           ...           ...                  ...  \n",
              "338       4925.0        FEMALE                    0  \n",
              "340       4850.0        FEMALE                    0  \n",
              "341       5750.0          MALE                    1  \n",
              "342       5200.0        FEMALE                    0  \n",
              "343       5400.0          MALE                    1  \n",
              "\n",
              "[333 rows x 7 columns]"
            ],
            "text/html": [
              "\n",
              "  <div id=\"df-247c2662-26a8-45d5-b60f-156961db0145\">\n",
              "    <div class=\"colab-df-container\">\n",
              "      <div>\n",
              "<style scoped>\n",
              "    .dataframe tbody tr th:only-of-type {\n",
              "        vertical-align: middle;\n",
              "    }\n",
              "\n",
              "    .dataframe tbody tr th {\n",
              "        vertical-align: top;\n",
              "    }\n",
              "\n",
              "    .dataframe thead th {\n",
              "        text-align: right;\n",
              "    }\n",
              "</style>\n",
              "<table border=\"1\" class=\"dataframe\">\n",
              "  <thead>\n",
              "    <tr style=\"text-align: right;\">\n",
              "      <th></th>\n",
              "      <th>pulau_habitat</th>\n",
              "      <th>panjang_paruh_atas</th>\n",
              "      <th>tebal_paruh_atas</th>\n",
              "      <th>panjang_sirip</th>\n",
              "      <th>massa_tubuh</th>\n",
              "      <th>jenis_kelamin</th>\n",
              "      <th>jenis_kelamin_angka</th>\n",
              "    </tr>\n",
              "  </thead>\n",
              "  <tbody>\n",
              "    <tr>\n",
              "      <th>0</th>\n",
              "      <td>Torgersen</td>\n",
              "      <td>39.1</td>\n",
              "      <td>18.7</td>\n",
              "      <td>181.0</td>\n",
              "      <td>3750.0</td>\n",
              "      <td>MALE</td>\n",
              "      <td>1</td>\n",
              "    </tr>\n",
              "    <tr>\n",
              "      <th>1</th>\n",
              "      <td>Torgersen</td>\n",
              "      <td>39.5</td>\n",
              "      <td>17.4</td>\n",
              "      <td>186.0</td>\n",
              "      <td>3800.0</td>\n",
              "      <td>FEMALE</td>\n",
              "      <td>0</td>\n",
              "    </tr>\n",
              "    <tr>\n",
              "      <th>2</th>\n",
              "      <td>Torgersen</td>\n",
              "      <td>40.3</td>\n",
              "      <td>18.0</td>\n",
              "      <td>195.0</td>\n",
              "      <td>3250.0</td>\n",
              "      <td>FEMALE</td>\n",
              "      <td>0</td>\n",
              "    </tr>\n",
              "    <tr>\n",
              "      <th>4</th>\n",
              "      <td>Torgersen</td>\n",
              "      <td>36.7</td>\n",
              "      <td>19.3</td>\n",
              "      <td>193.0</td>\n",
              "      <td>3450.0</td>\n",
              "      <td>FEMALE</td>\n",
              "      <td>0</td>\n",
              "    </tr>\n",
              "    <tr>\n",
              "      <th>5</th>\n",
              "      <td>Torgersen</td>\n",
              "      <td>39.3</td>\n",
              "      <td>20.6</td>\n",
              "      <td>190.0</td>\n",
              "      <td>3650.0</td>\n",
              "      <td>MALE</td>\n",
              "      <td>1</td>\n",
              "    </tr>\n",
              "    <tr>\n",
              "      <th>...</th>\n",
              "      <td>...</td>\n",
              "      <td>...</td>\n",
              "      <td>...</td>\n",
              "      <td>...</td>\n",
              "      <td>...</td>\n",
              "      <td>...</td>\n",
              "      <td>...</td>\n",
              "    </tr>\n",
              "    <tr>\n",
              "      <th>338</th>\n",
              "      <td>Biscoe</td>\n",
              "      <td>47.2</td>\n",
              "      <td>13.7</td>\n",
              "      <td>214.0</td>\n",
              "      <td>4925.0</td>\n",
              "      <td>FEMALE</td>\n",
              "      <td>0</td>\n",
              "    </tr>\n",
              "    <tr>\n",
              "      <th>340</th>\n",
              "      <td>Biscoe</td>\n",
              "      <td>46.8</td>\n",
              "      <td>14.3</td>\n",
              "      <td>215.0</td>\n",
              "      <td>4850.0</td>\n",
              "      <td>FEMALE</td>\n",
              "      <td>0</td>\n",
              "    </tr>\n",
              "    <tr>\n",
              "      <th>341</th>\n",
              "      <td>Biscoe</td>\n",
              "      <td>50.4</td>\n",
              "      <td>15.7</td>\n",
              "      <td>222.0</td>\n",
              "      <td>5750.0</td>\n",
              "      <td>MALE</td>\n",
              "      <td>1</td>\n",
              "    </tr>\n",
              "    <tr>\n",
              "      <th>342</th>\n",
              "      <td>Biscoe</td>\n",
              "      <td>45.2</td>\n",
              "      <td>14.8</td>\n",
              "      <td>212.0</td>\n",
              "      <td>5200.0</td>\n",
              "      <td>FEMALE</td>\n",
              "      <td>0</td>\n",
              "    </tr>\n",
              "    <tr>\n",
              "      <th>343</th>\n",
              "      <td>Biscoe</td>\n",
              "      <td>49.9</td>\n",
              "      <td>16.1</td>\n",
              "      <td>213.0</td>\n",
              "      <td>5400.0</td>\n",
              "      <td>MALE</td>\n",
              "      <td>1</td>\n",
              "    </tr>\n",
              "  </tbody>\n",
              "</table>\n",
              "<p>333 rows × 7 columns</p>\n",
              "</div>\n",
              "      <button class=\"colab-df-convert\" onclick=\"convertToInteractive('df-247c2662-26a8-45d5-b60f-156961db0145')\"\n",
              "              title=\"Convert this dataframe to an interactive table.\"\n",
              "              style=\"display:none;\">\n",
              "        \n",
              "  <svg xmlns=\"http://www.w3.org/2000/svg\" height=\"24px\"viewBox=\"0 0 24 24\"\n",
              "       width=\"24px\">\n",
              "    <path d=\"M0 0h24v24H0V0z\" fill=\"none\"/>\n",
              "    <path d=\"M18.56 5.44l.94 2.06.94-2.06 2.06-.94-2.06-.94-.94-2.06-.94 2.06-2.06.94zm-11 1L8.5 8.5l.94-2.06 2.06-.94-2.06-.94L8.5 2.5l-.94 2.06-2.06.94zm10 10l.94 2.06.94-2.06 2.06-.94-2.06-.94-.94-2.06-.94 2.06-2.06.94z\"/><path d=\"M17.41 7.96l-1.37-1.37c-.4-.4-.92-.59-1.43-.59-.52 0-1.04.2-1.43.59L10.3 9.45l-7.72 7.72c-.78.78-.78 2.05 0 2.83L4 21.41c.39.39.9.59 1.41.59.51 0 1.02-.2 1.41-.59l7.78-7.78 2.81-2.81c.8-.78.8-2.07 0-2.86zM5.41 20L4 18.59l7.72-7.72 1.47 1.35L5.41 20z\"/>\n",
              "  </svg>\n",
              "      </button>\n",
              "      \n",
              "  <style>\n",
              "    .colab-df-container {\n",
              "      display:flex;\n",
              "      flex-wrap:wrap;\n",
              "      gap: 12px;\n",
              "    }\n",
              "\n",
              "    .colab-df-convert {\n",
              "      background-color: #E8F0FE;\n",
              "      border: none;\n",
              "      border-radius: 50%;\n",
              "      cursor: pointer;\n",
              "      display: none;\n",
              "      fill: #1967D2;\n",
              "      height: 32px;\n",
              "      padding: 0 0 0 0;\n",
              "      width: 32px;\n",
              "    }\n",
              "\n",
              "    .colab-df-convert:hover {\n",
              "      background-color: #E2EBFA;\n",
              "      box-shadow: 0px 1px 2px rgba(60, 64, 67, 0.3), 0px 1px 3px 1px rgba(60, 64, 67, 0.15);\n",
              "      fill: #174EA6;\n",
              "    }\n",
              "\n",
              "    [theme=dark] .colab-df-convert {\n",
              "      background-color: #3B4455;\n",
              "      fill: #D2E3FC;\n",
              "    }\n",
              "\n",
              "    [theme=dark] .colab-df-convert:hover {\n",
              "      background-color: #434B5C;\n",
              "      box-shadow: 0px 1px 3px 1px rgba(0, 0, 0, 0.15);\n",
              "      filter: drop-shadow(0px 1px 2px rgba(0, 0, 0, 0.3));\n",
              "      fill: #FFFFFF;\n",
              "    }\n",
              "  </style>\n",
              "\n",
              "      <script>\n",
              "        const buttonEl =\n",
              "          document.querySelector('#df-247c2662-26a8-45d5-b60f-156961db0145 button.colab-df-convert');\n",
              "        buttonEl.style.display =\n",
              "          google.colab.kernel.accessAllowed ? 'block' : 'none';\n",
              "\n",
              "        async function convertToInteractive(key) {\n",
              "          const element = document.querySelector('#df-247c2662-26a8-45d5-b60f-156961db0145');\n",
              "          const dataTable =\n",
              "            await google.colab.kernel.invokeFunction('convertToInteractive',\n",
              "                                                     [key], {});\n",
              "          if (!dataTable) return;\n",
              "\n",
              "          const docLinkHtml = 'Like what you see? Visit the ' +\n",
              "            '<a target=\"_blank\" href=https://colab.research.google.com/notebooks/data_table.ipynb>data table notebook</a>'\n",
              "            + ' to learn more about interactive tables.';\n",
              "          element.innerHTML = '';\n",
              "          dataTable['output_type'] = 'display_data';\n",
              "          await google.colab.output.renderOutput(dataTable, element);\n",
              "          const docLink = document.createElement('div');\n",
              "          docLink.innerHTML = docLinkHtml;\n",
              "          element.appendChild(docLink);\n",
              "        }\n",
              "      </script>\n",
              "    </div>\n",
              "  </div>\n",
              "  "
            ]
          },
          "metadata": {}
        }
      ]
    },
    {
      "cell_type": "code",
      "source": [
        "penguin_df['pulau_habitat_angka'] = labelencoder.fit_transform(penguin_df['pulau_habitat'])\n",
        "penguin_df\n"
      ],
      "metadata": {
        "colab": {
          "base_uri": "https://localhost:8080/",
          "height": 424
        },
        "id": "fjyaks88luRD",
        "outputId": "3fed7bac-4f6a-48af-aa05-2167f081d814"
      },
      "execution_count": 541,
      "outputs": [
        {
          "output_type": "execute_result",
          "data": {
            "text/plain": [
              "    pulau_habitat  panjang_paruh_atas  tebal_paruh_atas  panjang_sirip  \\\n",
              "0       Torgersen                39.1              18.7          181.0   \n",
              "1       Torgersen                39.5              17.4          186.0   \n",
              "2       Torgersen                40.3              18.0          195.0   \n",
              "4       Torgersen                36.7              19.3          193.0   \n",
              "5       Torgersen                39.3              20.6          190.0   \n",
              "..            ...                 ...               ...            ...   \n",
              "338        Biscoe                47.2              13.7          214.0   \n",
              "340        Biscoe                46.8              14.3          215.0   \n",
              "341        Biscoe                50.4              15.7          222.0   \n",
              "342        Biscoe                45.2              14.8          212.0   \n",
              "343        Biscoe                49.9              16.1          213.0   \n",
              "\n",
              "     massa_tubuh jenis_kelamin  jenis_kelamin_angka  pulau_habitat_angka  \n",
              "0         3750.0          MALE                    1                    2  \n",
              "1         3800.0        FEMALE                    0                    2  \n",
              "2         3250.0        FEMALE                    0                    2  \n",
              "4         3450.0        FEMALE                    0                    2  \n",
              "5         3650.0          MALE                    1                    2  \n",
              "..           ...           ...                  ...                  ...  \n",
              "338       4925.0        FEMALE                    0                    0  \n",
              "340       4850.0        FEMALE                    0                    0  \n",
              "341       5750.0          MALE                    1                    0  \n",
              "342       5200.0        FEMALE                    0                    0  \n",
              "343       5400.0          MALE                    1                    0  \n",
              "\n",
              "[333 rows x 8 columns]"
            ],
            "text/html": [
              "\n",
              "  <div id=\"df-4109ace2-0a70-4f6d-9473-a131afcefdfe\">\n",
              "    <div class=\"colab-df-container\">\n",
              "      <div>\n",
              "<style scoped>\n",
              "    .dataframe tbody tr th:only-of-type {\n",
              "        vertical-align: middle;\n",
              "    }\n",
              "\n",
              "    .dataframe tbody tr th {\n",
              "        vertical-align: top;\n",
              "    }\n",
              "\n",
              "    .dataframe thead th {\n",
              "        text-align: right;\n",
              "    }\n",
              "</style>\n",
              "<table border=\"1\" class=\"dataframe\">\n",
              "  <thead>\n",
              "    <tr style=\"text-align: right;\">\n",
              "      <th></th>\n",
              "      <th>pulau_habitat</th>\n",
              "      <th>panjang_paruh_atas</th>\n",
              "      <th>tebal_paruh_atas</th>\n",
              "      <th>panjang_sirip</th>\n",
              "      <th>massa_tubuh</th>\n",
              "      <th>jenis_kelamin</th>\n",
              "      <th>jenis_kelamin_angka</th>\n",
              "      <th>pulau_habitat_angka</th>\n",
              "    </tr>\n",
              "  </thead>\n",
              "  <tbody>\n",
              "    <tr>\n",
              "      <th>0</th>\n",
              "      <td>Torgersen</td>\n",
              "      <td>39.1</td>\n",
              "      <td>18.7</td>\n",
              "      <td>181.0</td>\n",
              "      <td>3750.0</td>\n",
              "      <td>MALE</td>\n",
              "      <td>1</td>\n",
              "      <td>2</td>\n",
              "    </tr>\n",
              "    <tr>\n",
              "      <th>1</th>\n",
              "      <td>Torgersen</td>\n",
              "      <td>39.5</td>\n",
              "      <td>17.4</td>\n",
              "      <td>186.0</td>\n",
              "      <td>3800.0</td>\n",
              "      <td>FEMALE</td>\n",
              "      <td>0</td>\n",
              "      <td>2</td>\n",
              "    </tr>\n",
              "    <tr>\n",
              "      <th>2</th>\n",
              "      <td>Torgersen</td>\n",
              "      <td>40.3</td>\n",
              "      <td>18.0</td>\n",
              "      <td>195.0</td>\n",
              "      <td>3250.0</td>\n",
              "      <td>FEMALE</td>\n",
              "      <td>0</td>\n",
              "      <td>2</td>\n",
              "    </tr>\n",
              "    <tr>\n",
              "      <th>4</th>\n",
              "      <td>Torgersen</td>\n",
              "      <td>36.7</td>\n",
              "      <td>19.3</td>\n",
              "      <td>193.0</td>\n",
              "      <td>3450.0</td>\n",
              "      <td>FEMALE</td>\n",
              "      <td>0</td>\n",
              "      <td>2</td>\n",
              "    </tr>\n",
              "    <tr>\n",
              "      <th>5</th>\n",
              "      <td>Torgersen</td>\n",
              "      <td>39.3</td>\n",
              "      <td>20.6</td>\n",
              "      <td>190.0</td>\n",
              "      <td>3650.0</td>\n",
              "      <td>MALE</td>\n",
              "      <td>1</td>\n",
              "      <td>2</td>\n",
              "    </tr>\n",
              "    <tr>\n",
              "      <th>...</th>\n",
              "      <td>...</td>\n",
              "      <td>...</td>\n",
              "      <td>...</td>\n",
              "      <td>...</td>\n",
              "      <td>...</td>\n",
              "      <td>...</td>\n",
              "      <td>...</td>\n",
              "      <td>...</td>\n",
              "    </tr>\n",
              "    <tr>\n",
              "      <th>338</th>\n",
              "      <td>Biscoe</td>\n",
              "      <td>47.2</td>\n",
              "      <td>13.7</td>\n",
              "      <td>214.0</td>\n",
              "      <td>4925.0</td>\n",
              "      <td>FEMALE</td>\n",
              "      <td>0</td>\n",
              "      <td>0</td>\n",
              "    </tr>\n",
              "    <tr>\n",
              "      <th>340</th>\n",
              "      <td>Biscoe</td>\n",
              "      <td>46.8</td>\n",
              "      <td>14.3</td>\n",
              "      <td>215.0</td>\n",
              "      <td>4850.0</td>\n",
              "      <td>FEMALE</td>\n",
              "      <td>0</td>\n",
              "      <td>0</td>\n",
              "    </tr>\n",
              "    <tr>\n",
              "      <th>341</th>\n",
              "      <td>Biscoe</td>\n",
              "      <td>50.4</td>\n",
              "      <td>15.7</td>\n",
              "      <td>222.0</td>\n",
              "      <td>5750.0</td>\n",
              "      <td>MALE</td>\n",
              "      <td>1</td>\n",
              "      <td>0</td>\n",
              "    </tr>\n",
              "    <tr>\n",
              "      <th>342</th>\n",
              "      <td>Biscoe</td>\n",
              "      <td>45.2</td>\n",
              "      <td>14.8</td>\n",
              "      <td>212.0</td>\n",
              "      <td>5200.0</td>\n",
              "      <td>FEMALE</td>\n",
              "      <td>0</td>\n",
              "      <td>0</td>\n",
              "    </tr>\n",
              "    <tr>\n",
              "      <th>343</th>\n",
              "      <td>Biscoe</td>\n",
              "      <td>49.9</td>\n",
              "      <td>16.1</td>\n",
              "      <td>213.0</td>\n",
              "      <td>5400.0</td>\n",
              "      <td>MALE</td>\n",
              "      <td>1</td>\n",
              "      <td>0</td>\n",
              "    </tr>\n",
              "  </tbody>\n",
              "</table>\n",
              "<p>333 rows × 8 columns</p>\n",
              "</div>\n",
              "      <button class=\"colab-df-convert\" onclick=\"convertToInteractive('df-4109ace2-0a70-4f6d-9473-a131afcefdfe')\"\n",
              "              title=\"Convert this dataframe to an interactive table.\"\n",
              "              style=\"display:none;\">\n",
              "        \n",
              "  <svg xmlns=\"http://www.w3.org/2000/svg\" height=\"24px\"viewBox=\"0 0 24 24\"\n",
              "       width=\"24px\">\n",
              "    <path d=\"M0 0h24v24H0V0z\" fill=\"none\"/>\n",
              "    <path d=\"M18.56 5.44l.94 2.06.94-2.06 2.06-.94-2.06-.94-.94-2.06-.94 2.06-2.06.94zm-11 1L8.5 8.5l.94-2.06 2.06-.94-2.06-.94L8.5 2.5l-.94 2.06-2.06.94zm10 10l.94 2.06.94-2.06 2.06-.94-2.06-.94-.94-2.06-.94 2.06-2.06.94z\"/><path d=\"M17.41 7.96l-1.37-1.37c-.4-.4-.92-.59-1.43-.59-.52 0-1.04.2-1.43.59L10.3 9.45l-7.72 7.72c-.78.78-.78 2.05 0 2.83L4 21.41c.39.39.9.59 1.41.59.51 0 1.02-.2 1.41-.59l7.78-7.78 2.81-2.81c.8-.78.8-2.07 0-2.86zM5.41 20L4 18.59l7.72-7.72 1.47 1.35L5.41 20z\"/>\n",
              "  </svg>\n",
              "      </button>\n",
              "      \n",
              "  <style>\n",
              "    .colab-df-container {\n",
              "      display:flex;\n",
              "      flex-wrap:wrap;\n",
              "      gap: 12px;\n",
              "    }\n",
              "\n",
              "    .colab-df-convert {\n",
              "      background-color: #E8F0FE;\n",
              "      border: none;\n",
              "      border-radius: 50%;\n",
              "      cursor: pointer;\n",
              "      display: none;\n",
              "      fill: #1967D2;\n",
              "      height: 32px;\n",
              "      padding: 0 0 0 0;\n",
              "      width: 32px;\n",
              "    }\n",
              "\n",
              "    .colab-df-convert:hover {\n",
              "      background-color: #E2EBFA;\n",
              "      box-shadow: 0px 1px 2px rgba(60, 64, 67, 0.3), 0px 1px 3px 1px rgba(60, 64, 67, 0.15);\n",
              "      fill: #174EA6;\n",
              "    }\n",
              "\n",
              "    [theme=dark] .colab-df-convert {\n",
              "      background-color: #3B4455;\n",
              "      fill: #D2E3FC;\n",
              "    }\n",
              "\n",
              "    [theme=dark] .colab-df-convert:hover {\n",
              "      background-color: #434B5C;\n",
              "      box-shadow: 0px 1px 3px 1px rgba(0, 0, 0, 0.15);\n",
              "      filter: drop-shadow(0px 1px 2px rgba(0, 0, 0, 0.3));\n",
              "      fill: #FFFFFF;\n",
              "    }\n",
              "  </style>\n",
              "\n",
              "      <script>\n",
              "        const buttonEl =\n",
              "          document.querySelector('#df-4109ace2-0a70-4f6d-9473-a131afcefdfe button.colab-df-convert');\n",
              "        buttonEl.style.display =\n",
              "          google.colab.kernel.accessAllowed ? 'block' : 'none';\n",
              "\n",
              "        async function convertToInteractive(key) {\n",
              "          const element = document.querySelector('#df-4109ace2-0a70-4f6d-9473-a131afcefdfe');\n",
              "          const dataTable =\n",
              "            await google.colab.kernel.invokeFunction('convertToInteractive',\n",
              "                                                     [key], {});\n",
              "          if (!dataTable) return;\n",
              "\n",
              "          const docLinkHtml = 'Like what you see? Visit the ' +\n",
              "            '<a target=\"_blank\" href=https://colab.research.google.com/notebooks/data_table.ipynb>data table notebook</a>'\n",
              "            + ' to learn more about interactive tables.';\n",
              "          element.innerHTML = '';\n",
              "          dataTable['output_type'] = 'display_data';\n",
              "          await google.colab.output.renderOutput(dataTable, element);\n",
              "          const docLink = document.createElement('div');\n",
              "          docLink.innerHTML = docLinkHtml;\n",
              "          element.appendChild(docLink);\n",
              "        }\n",
              "      </script>\n",
              "    </div>\n",
              "  </div>\n",
              "  "
            ]
          },
          "metadata": {},
          "execution_count": 541
        }
      ]
    },
    {
      "cell_type": "code",
      "source": [
        "cluster_penguin = penguin_df.copy()\n",
        "cluster_penguin1 = cluster_penguin[[\"panjang_sirip\", \"massa_tubuh\"]]\n",
        "cluster_penguin2 = cluster_penguin[[\"panjang_sirip\", \"tebal_paruh_atas\"]]\n",
        "cluster_penguin3 = cluster_penguin[[\"panjang_sirip\", \"panjang_paruh_atas\"]]\n",
        "cluster_penguin4 = cluster_penguin[[\"tebal_paruh_atas\", \"panjang_paruh_atas\"]]\n",
        "cluster_penguin5 = cluster_penguin[[\"tebal_paruh_atas\", \"massa_tubuh\"]]\n",
        "cluster_penguin6 = cluster_penguin[[\"massa_tubuh\", \"panjang_paruh_atas\"]]\n",
        "cluster_penguin7 = cluster_penguin[[\"panjang_sirip\", \"pulau_habitat_angka\"]]\n",
        "cluster_penguin8 = cluster_penguin[[\"panjang_sirip\", \"jenis_kelamin_angka\"]]\n",
        "cluster_penguin9 = cluster_penguin[[\"tebal_paruh_atas\", \"pulau_habitat_angka\"]]\n",
        "cluster_penguin10 = cluster_penguin[[\"tebal_paruh_atas\", \"jenis_kelamin_angka\"]]\n",
        "cluster_penguin11 = cluster_penguin[[\"massa_tubuh\", \"pulau_habitat_angka\"]]\n",
        "cluster_penguin12 = cluster_penguin[[\"massa_tubuh\", \"jenis_kelamin_angka\"]]\n",
        "cluster_penguin13 = cluster_penguin[[\"pulau_habitat_angka\", \"jenis_kelamin_angka\"]]"
      ],
      "metadata": {
        "id": "a4T8yIDMS5a_"
      },
      "execution_count": 542,
      "outputs": []
    },
    {
      "cell_type": "code",
      "source": [
        "from sklearn.decomposition import PCA\n",
        "from sklearn.preprocessing import StandardScaler\n",
        "# https://towardsdatascience.com/pca-using-python-scikit-learn-e653f8989e60\n",
        "# https://scikit-learn.org/stable/modules/generated/sklearn.decomposition.PCA.html\n",
        "\n",
        "cluster_penguin_std = StandardScaler().fit_transform(cluster_penguin2) #melakukan standarisasi\n",
        "# di atas, saya sudah mencoba keenam cluster yang sudah saya buat, namun saya memilih cluster_penguin2 karena nilai silhouette tertingginya paling tinggi\n",
        "# (lanjutan) dibandingkan cluster_penguin lainnya\n",
        "pca = PCA(n_components=2) #membuat menjadi 2 dimensi, dan secara otomatis yang diambil adalah yang terkuat\n",
        "principalComponents = pca.fit_transform(cluster_penguin_std)"
      ],
      "metadata": {
        "id": "cNaHOb8_zHBE"
      },
      "execution_count": 543,
      "outputs": []
    },
    {
      "cell_type": "code",
      "source": [
        "# Melakukan normalisasi data\n",
        "sc = StandardScaler()\n",
        "X_scaled = sc.fit_transform(cluster_penguin_std)"
      ],
      "metadata": {
        "id": "ql_tKZrL1Pja"
      },
      "execution_count": 544,
      "outputs": []
    },
    {
      "cell_type": "code",
      "source": [
        "from sklearn.decomposition import PCA\n",
        "\n",
        "sklearn_pca = pca.fit_transform(X_scaled)\n",
        "sklearn_pca.shape"
      ],
      "metadata": {
        "colab": {
          "base_uri": "https://localhost:8080/"
        },
        "id": "bGEjM4sA1ang",
        "outputId": "389574e5-399a-4869-d62e-8c18ba326ba2"
      },
      "execution_count": 545,
      "outputs": [
        {
          "output_type": "execute_result",
          "data": {
            "text/plain": [
              "(333, 2)"
            ]
          },
          "metadata": {},
          "execution_count": 545
        }
      ]
    },
    {
      "cell_type": "code",
      "source": [
        "# buat menjadi dataframe baru\n",
        "sklearn_pca = pd.DataFrame(sklearn_pca,columns=[\"pca1\",\"pca2\"])\n",
        "sklearn_pca"
      ],
      "metadata": {
        "colab": {
          "base_uri": "https://localhost:8080/",
          "height": 424
        },
        "id": "MHyqzvJS1e2K",
        "outputId": "a77d0226-ce3c-45cf-9dfb-2436c9b08ad0"
      },
      "execution_count": 546,
      "outputs": [
        {
          "output_type": "execute_result",
          "data": {
            "text/plain": [
              "         pca1      pca2\n",
              "0   -1.560927 -0.456805\n",
              "1   -0.840791 -0.671673\n",
              "2   -0.601820 -0.001162\n",
              "3   -1.170376  0.365286\n",
              "4   -1.789459  0.681209\n",
              "..        ...       ...\n",
              "328  1.904542 -0.587508\n",
              "329  1.739298 -0.321211\n",
              "330  1.589521  0.535940\n",
              "331  1.407909 -0.292983\n",
              "332  0.990934  0.225046\n",
              "\n",
              "[333 rows x 2 columns]"
            ],
            "text/html": [
              "\n",
              "  <div id=\"df-e3722c41-6718-4570-812e-13212c3f294d\">\n",
              "    <div class=\"colab-df-container\">\n",
              "      <div>\n",
              "<style scoped>\n",
              "    .dataframe tbody tr th:only-of-type {\n",
              "        vertical-align: middle;\n",
              "    }\n",
              "\n",
              "    .dataframe tbody tr th {\n",
              "        vertical-align: top;\n",
              "    }\n",
              "\n",
              "    .dataframe thead th {\n",
              "        text-align: right;\n",
              "    }\n",
              "</style>\n",
              "<table border=\"1\" class=\"dataframe\">\n",
              "  <thead>\n",
              "    <tr style=\"text-align: right;\">\n",
              "      <th></th>\n",
              "      <th>pca1</th>\n",
              "      <th>pca2</th>\n",
              "    </tr>\n",
              "  </thead>\n",
              "  <tbody>\n",
              "    <tr>\n",
              "      <th>0</th>\n",
              "      <td>-1.560927</td>\n",
              "      <td>-0.456805</td>\n",
              "    </tr>\n",
              "    <tr>\n",
              "      <th>1</th>\n",
              "      <td>-0.840791</td>\n",
              "      <td>-0.671673</td>\n",
              "    </tr>\n",
              "    <tr>\n",
              "      <th>2</th>\n",
              "      <td>-0.601820</td>\n",
              "      <td>-0.001162</td>\n",
              "    </tr>\n",
              "    <tr>\n",
              "      <th>3</th>\n",
              "      <td>-1.170376</td>\n",
              "      <td>0.365286</td>\n",
              "    </tr>\n",
              "    <tr>\n",
              "      <th>4</th>\n",
              "      <td>-1.789459</td>\n",
              "      <td>0.681209</td>\n",
              "    </tr>\n",
              "    <tr>\n",
              "      <th>...</th>\n",
              "      <td>...</td>\n",
              "      <td>...</td>\n",
              "    </tr>\n",
              "    <tr>\n",
              "      <th>328</th>\n",
              "      <td>1.904542</td>\n",
              "      <td>-0.587508</td>\n",
              "    </tr>\n",
              "    <tr>\n",
              "      <th>329</th>\n",
              "      <td>1.739298</td>\n",
              "      <td>-0.321211</td>\n",
              "    </tr>\n",
              "    <tr>\n",
              "      <th>330</th>\n",
              "      <td>1.589521</td>\n",
              "      <td>0.535940</td>\n",
              "    </tr>\n",
              "    <tr>\n",
              "      <th>331</th>\n",
              "      <td>1.407909</td>\n",
              "      <td>-0.292983</td>\n",
              "    </tr>\n",
              "    <tr>\n",
              "      <th>332</th>\n",
              "      <td>0.990934</td>\n",
              "      <td>0.225046</td>\n",
              "    </tr>\n",
              "  </tbody>\n",
              "</table>\n",
              "<p>333 rows × 2 columns</p>\n",
              "</div>\n",
              "      <button class=\"colab-df-convert\" onclick=\"convertToInteractive('df-e3722c41-6718-4570-812e-13212c3f294d')\"\n",
              "              title=\"Convert this dataframe to an interactive table.\"\n",
              "              style=\"display:none;\">\n",
              "        \n",
              "  <svg xmlns=\"http://www.w3.org/2000/svg\" height=\"24px\"viewBox=\"0 0 24 24\"\n",
              "       width=\"24px\">\n",
              "    <path d=\"M0 0h24v24H0V0z\" fill=\"none\"/>\n",
              "    <path d=\"M18.56 5.44l.94 2.06.94-2.06 2.06-.94-2.06-.94-.94-2.06-.94 2.06-2.06.94zm-11 1L8.5 8.5l.94-2.06 2.06-.94-2.06-.94L8.5 2.5l-.94 2.06-2.06.94zm10 10l.94 2.06.94-2.06 2.06-.94-2.06-.94-.94-2.06-.94 2.06-2.06.94z\"/><path d=\"M17.41 7.96l-1.37-1.37c-.4-.4-.92-.59-1.43-.59-.52 0-1.04.2-1.43.59L10.3 9.45l-7.72 7.72c-.78.78-.78 2.05 0 2.83L4 21.41c.39.39.9.59 1.41.59.51 0 1.02-.2 1.41-.59l7.78-7.78 2.81-2.81c.8-.78.8-2.07 0-2.86zM5.41 20L4 18.59l7.72-7.72 1.47 1.35L5.41 20z\"/>\n",
              "  </svg>\n",
              "      </button>\n",
              "      \n",
              "  <style>\n",
              "    .colab-df-container {\n",
              "      display:flex;\n",
              "      flex-wrap:wrap;\n",
              "      gap: 12px;\n",
              "    }\n",
              "\n",
              "    .colab-df-convert {\n",
              "      background-color: #E8F0FE;\n",
              "      border: none;\n",
              "      border-radius: 50%;\n",
              "      cursor: pointer;\n",
              "      display: none;\n",
              "      fill: #1967D2;\n",
              "      height: 32px;\n",
              "      padding: 0 0 0 0;\n",
              "      width: 32px;\n",
              "    }\n",
              "\n",
              "    .colab-df-convert:hover {\n",
              "      background-color: #E2EBFA;\n",
              "      box-shadow: 0px 1px 2px rgba(60, 64, 67, 0.3), 0px 1px 3px 1px rgba(60, 64, 67, 0.15);\n",
              "      fill: #174EA6;\n",
              "    }\n",
              "\n",
              "    [theme=dark] .colab-df-convert {\n",
              "      background-color: #3B4455;\n",
              "      fill: #D2E3FC;\n",
              "    }\n",
              "\n",
              "    [theme=dark] .colab-df-convert:hover {\n",
              "      background-color: #434B5C;\n",
              "      box-shadow: 0px 1px 3px 1px rgba(0, 0, 0, 0.15);\n",
              "      filter: drop-shadow(0px 1px 2px rgba(0, 0, 0, 0.3));\n",
              "      fill: #FFFFFF;\n",
              "    }\n",
              "  </style>\n",
              "\n",
              "      <script>\n",
              "        const buttonEl =\n",
              "          document.querySelector('#df-e3722c41-6718-4570-812e-13212c3f294d button.colab-df-convert');\n",
              "        buttonEl.style.display =\n",
              "          google.colab.kernel.accessAllowed ? 'block' : 'none';\n",
              "\n",
              "        async function convertToInteractive(key) {\n",
              "          const element = document.querySelector('#df-e3722c41-6718-4570-812e-13212c3f294d');\n",
              "          const dataTable =\n",
              "            await google.colab.kernel.invokeFunction('convertToInteractive',\n",
              "                                                     [key], {});\n",
              "          if (!dataTable) return;\n",
              "\n",
              "          const docLinkHtml = 'Like what you see? Visit the ' +\n",
              "            '<a target=\"_blank\" href=https://colab.research.google.com/notebooks/data_table.ipynb>data table notebook</a>'\n",
              "            + ' to learn more about interactive tables.';\n",
              "          element.innerHTML = '';\n",
              "          dataTable['output_type'] = 'display_data';\n",
              "          await google.colab.output.renderOutput(dataTable, element);\n",
              "          const docLink = document.createElement('div');\n",
              "          docLink.innerHTML = docLinkHtml;\n",
              "          element.appendChild(docLink);\n",
              "        }\n",
              "      </script>\n",
              "    </div>\n",
              "  </div>\n",
              "  "
            ]
          },
          "metadata": {},
          "execution_count": 546
        }
      ]
    },
    {
      "cell_type": "code",
      "source": [
        "from sklearn import datasets\n",
        "from sklearn.cluster import KMeans\n",
        "from sklearn.metrics import silhouette_score\n",
        "from sklearn import metrics\n",
        "from scipy.spatial.distance import cdist\n",
        "import matplotlib.pyplot as plt\n",
        "\n",
        "# https://realpython.com/k-means-clustering-python/\n",
        "# https://stackoverflow.com/questions/69786897/how-to-calculate-silhoutte-score-for-the-data-in-excel-sheet-which-are-2000-loca\n",
        "\n",
        "for i in range(2,7):\n",
        "  K_Means = KMeans(n_clusters=i).fit(sklearn_pca)\n",
        "  K_Means.fit_predict(sklearn_pca)\n",
        "  score = silhouette_score(sklearn_pca, K_Means.labels_, metric='euclidean')\n",
        "  print(\"Silhouette Score ke dengan cluster sebanyak\",i,\":\",score)"
      ],
      "metadata": {
        "colab": {
          "base_uri": "https://localhost:8080/"
        },
        "id": "XeqIZf5V1jmT",
        "outputId": "5ef583bb-63a6-4dea-a67d-aef7990489f1"
      },
      "execution_count": 547,
      "outputs": [
        {
          "output_type": "stream",
          "name": "stdout",
          "text": [
            "Silhouette Score ke dengan cluster sebanyak 2 : 0.6411444745453794\n",
            "Silhouette Score ke dengan cluster sebanyak 3 : 0.5008876222881513\n",
            "Silhouette Score ke dengan cluster sebanyak 4 : 0.4329080143643537\n",
            "Silhouette Score ke dengan cluster sebanyak 5 : 0.3972806723168208\n",
            "Silhouette Score ke dengan cluster sebanyak 6 : 0.40116861359170414\n"
          ]
        }
      ]
    },
    {
      "cell_type": "markdown",
      "source": [
        "Jika kita lihat dari silhouette score ini maka yang terbaik adalah kita membaginya menjadi 2 cluster. Alasannya karena Silhouette Scorenya paling tinggi ketika clusternya ada sebanyak 2"
      ],
      "metadata": {
        "id": "6KoYuiPJ1tJl"
      }
    },
    {
      "cell_type": "markdown",
      "metadata": {
        "id": "QlgWO1FsqLfq"
      },
      "source": [
        "8. Terapkan metode K-Means kepada dataframe yang sudah Anda siapkan, gunakan nilai K yang Anda tentukan di atas [8]"
      ]
    },
    {
      "cell_type": "code",
      "source": [
        "K_Means = KMeans(n_clusters=2).fit(principalComponents)"
      ],
      "metadata": {
        "id": "_AJeJF-G9_0F"
      },
      "execution_count": 548,
      "outputs": []
    },
    {
      "cell_type": "markdown",
      "metadata": {
        "id": "q6EhdtBgqQFu"
      },
      "source": [
        "9. Visualisasikan klaster yang ada [5]"
      ]
    },
    {
      "cell_type": "code",
      "source": [
        "plt.figure(figsize=(10,10))\n",
        "plt.scatter(sklearn_pca[\"pca1\"], sklearn_pca[\"pca2\"], c=K_Means.labels_, cmap='rainbow')"
      ],
      "metadata": {
        "colab": {
          "base_uri": "https://localhost:8080/",
          "height": 610
        },
        "id": "WPKxrCMXAmFn",
        "outputId": "e10e79fd-90f7-4d54-d0c8-2bfe2026c6b2"
      },
      "execution_count": 549,
      "outputs": [
        {
          "output_type": "execute_result",
          "data": {
            "text/plain": [
              "<matplotlib.collections.PathCollection at 0x7f837b929c50>"
            ]
          },
          "metadata": {},
          "execution_count": 549
        },
        {
          "output_type": "display_data",
          "data": {
            "text/plain": [
              "<Figure size 720x720 with 1 Axes>"
            ],
            "image/png": "[encoded data removed]"
          },
          "metadata": {
            "needs_background": "light"
          }
        }
      ]
    },
    {
      "cell_type": "code",
      "source": [
        "K_Means.cluster_centers_"
      ],
      "metadata": {
        "colab": {
          "base_uri": "https://localhost:8080/"
        },
        "id": "pBu-9TcE7HSW",
        "outputId": "679ee882-a06d-440a-cdd4-39237d0b07da"
      },
      "execution_count": 550,
      "outputs": [
        {
          "output_type": "execute_result",
          "data": {
            "text/plain": [
              "array([[-0.89067435, -0.02349645],\n",
              "       [ 1.60171689,  0.04225411]])"
            ]
          },
          "metadata": {},
          "execution_count": 550
        }
      ]
    },
    {
      "cell_type": "markdown",
      "source": [
        "Di atas ini merupakan tempat centroid dari KMeans Clustering"
      ],
      "metadata": {
        "id": "WsMh9gLt8KYc"
      }
    },
    {
      "cell_type": "markdown",
      "metadata": {
        "id": "oy5mzBgH0NBr"
      },
      "source": [
        "10. Berikan interpretasi dari klaster yang dihasilkan [5]"
      ]
    },
    {
      "cell_type": "markdown",
      "source": [
        "Kalau dilihat dari sini, pembagian fitur berdasarkan panjang paruh atas dan panjang sirip terhadap penguin terlihat sangat jelas pembagiannya. Dari interpretasi tersebut, terlihat bahwa dihasilkan 2 jenis penguin apabila kita ingin membagi penguin berdasarkan panjang sirip dan tebal paruh atasnya"
      ],
      "metadata": {
        "id": "iPMiKCojQOYG"
      }
    },
    {
      "cell_type": "markdown",
      "metadata": {
        "id": "mqLOC8u-dY6f"
      },
      "source": [
        "## **Hierarchical Clustering** [30 poin]\n",
        "*Hierarchical clustering* adalah metode pengelompokkan data yang bertujuan untuk membuat klaster bertingkat. Metode ini termasuk ke dalam *unsupervised* ML layaknya metode K-Means. Namun, beda dengan metode K-Means, tidak diperlukan penentuan jumlah klaster diawal menjalankan metode ini. \n",
        "\n",
        "Secara umum, terdapat dua pendekatan dalam membentuk hierarki klaster, yakni *bottom-up* (agglomerative) dan *top-down* (divisive).\n"
      ]
    },
    {
      "cell_type": "markdown",
      "metadata": {
        "id": "lRFL3HWQqnWt"
      },
      "source": [
        "11. Terapkan *agglomerative clustering* tanpa mengatur jumlah klaster yang ingin dibentuk [8]\n"
      ]
    },
    {
      "cell_type": "code",
      "source": [
        "for i in range(2,7):\n",
        "  ac = AgglomerativeClustering(n_clusters=i).fit(sklearn_pca)\n",
        "  ac.fit_predict(sklearn_pca)\n",
        "  score = silhouette_score(sklearn_pca, ac.labels_, metric='euclidean')\n",
        "  print(\"Silhouette Score ke dengan cluster sebanyak\",i,\":\",score)"
      ],
      "metadata": {
        "colab": {
          "base_uri": "https://localhost:8080/"
        },
        "id": "yw9zWD16QfIi",
        "outputId": "69119c51-ae83-4edc-fe06-57f7c768fcce"
      },
      "execution_count": 551,
      "outputs": [
        {
          "output_type": "stream",
          "name": "stdout",
          "text": [
            "Silhouette Score ke dengan cluster sebanyak 2 : 0.6411444745453794\n",
            "Silhouette Score ke dengan cluster sebanyak 3 : 0.4857863848252908\n",
            "Silhouette Score ke dengan cluster sebanyak 4 : 0.41608076615343886\n",
            "Silhouette Score ke dengan cluster sebanyak 5 : 0.37040142594778735\n",
            "Silhouette Score ke dengan cluster sebanyak 6 : 0.37798217203660706\n"
          ]
        }
      ]
    },
    {
      "cell_type": "markdown",
      "metadata": {
        "id": "Crnlmt4f2LJl"
      },
      "source": [
        "12. Tampilkan dendogram berdasarkan hasil *clustering* di atas. Dari hasil tersebut, apakah jumlah klaster optimal sama seperti hasil K-Means sebelumnya? Jelaskan hasilnya! (hint: tentukan ambang batas aglomerasi pada dendogram) [13]"
      ]
    },
    {
      "cell_type": "code",
      "source": [
        "import scipy.cluster.hierarchy as sch\n",
        "# menggunakan dendrogram\n",
        "plt.figure(figsize=(20,10))\n",
        "dendrogram = sch.dendrogram(sch.linkage(cluster_penguin2, method  = \"ward\"))\n",
        "plt.axhline(linestyle='--', y=105) "
      ],
      "metadata": {
        "colab": {
          "base_uri": "https://localhost:8080/",
          "height": 609
        },
        "id": "IcCOumK9ZtGX",
        "outputId": "e14fddb9-9a99-491d-a02a-9098d8a415f4"
      },
      "execution_count": 552,
      "outputs": [
        {
          "output_type": "execute_result",
          "data": {
            "text/plain": [
              "<matplotlib.lines.Line2D at 0x7f837b8dcc50>"
            ]
          },
          "metadata": {},
          "execution_count": 552
        },
        {
          "output_type": "display_data",
          "data": {
            "text/plain": [
              "<Figure size 1440x720 with 1 Axes>"
            ],
            "image/png": "[encoded data removed]"
          },
          "metadata": {
            "needs_background": "light"
          }
        }
      ]
    },
    {
      "cell_type": "markdown",
      "source": [
        "Jika dilihat pada clustering ini, walaupun menggunakan metode yang berbeda dalam teknik clusteringnya, n_clusters optimalnya tetap sama, yaitu 2 cluster. Saya dapat menentukan bahwa jumlah optimalnya 2 dari silhouette score tertinggi ketika melakukan agglomerative clustering. Namun jika ingin dilihat dari dendrogram,saya memasang threshold di atas 2 cluster pada data (yang berwarna kuning dan hijau), alasannya karena perbedaan dari 2 stage tersebut tidak terlalu jauh (yang kuning dengan yang hijau), jadi sepertinya tidak perlu dicutting jadi 4 atau 3. Atau bahkan, jika saya ingin memotong benar-benar berdasarkan jarak di setiap cluster, saya bisa memasang thresholdnya diatas 300 (di tempatnya garis yang paling atas)"
      ],
      "metadata": {
        "id": "BzS43CPteaHX"
      }
    },
    {
      "cell_type": "markdown",
      "metadata": {
        "id": "JTrl6kf5CsiD"
      },
      "source": [
        "13. Terapkan kembali *agglomerative clustering*, namun aturlah jumlah klaster sesuai jawaban kalian di atas [5]"
      ]
    },
    {
      "cell_type": "code",
      "source": [
        "ac2 = AgglomerativeClustering(n_clusters = 2).fit(sklearn_pca)\n",
        "ac2 = ac2.fit_predict(sklearn_pca)"
      ],
      "metadata": {
        "id": "0Ssi9j50beqO"
      },
      "execution_count": 553,
      "outputs": []
    },
    {
      "cell_type": "markdown",
      "metadata": {
        "id": "JXZNgpYRrXx5"
      },
      "source": [
        "14. Visualisasikan hasil *clustering assignment* [4]"
      ]
    },
    {
      "cell_type": "code",
      "source": [
        "# Visualizing the clustering\n",
        "plt.figure(figsize =(6, 6))\n",
        "plt.scatter(sklearn_pca['pca1'], sklearn_pca['pca2'],\n",
        "           c = ac2, cmap ='rainbow')\n",
        "plt.show()"
      ],
      "metadata": {
        "colab": {
          "base_uri": "https://localhost:8080/",
          "height": 374
        },
        "id": "WOf_tG5Pccrv",
        "outputId": "5dd429f8-6b10-43f2-97a3-d90c28715c91"
      },
      "execution_count": 554,
      "outputs": [
        {
          "output_type": "display_data",
          "data": {
            "text/plain": [
              "<Figure size 432x432 with 1 Axes>"
            ],
            "image/png": "[encoded data removed]"
          },
          "metadata": {
            "needs_background": "light"
          }
        }
      ]
    },
    {
      "cell_type": "markdown",
      "metadata": {
        "id": "tFgVU3kJpvrQ"
      },
      "source": [
        "## **Pertanyaan Teoretis** [30 poin]\n",
        "\n",
        "**Pada bagian tugas ini, Anda diminta untuk menjawab pertanyaan yang telah diberikan di bawah ini.**"
      ]
    },
    {
      "cell_type": "markdown",
      "metadata": {
        "id": "s84Ye7-do4eU"
      },
      "source": [
        "15. Jika suatu dataset mengandung campuran *categorical* dan *numerical* *feature*, penanganan apa yang bisa Anda lakukan terhadap *categorical feature* sebelum melakukan *clustering*? [8]\n",
        "16. Mengapa K-Means *clustering* kurang cocok jika diterapkan pada dataset yang struktur/bentuk penyebarannya tidak globular? [8]\n",
        "17. Apakah method KMeans dari sklearn akan memberikan hasil yang sama tiap kali dijalankan? Berikan penjelasan atau asumsi Anda terkait hal ini! [6]\n",
        "18. Jelaskan cara menghitung *intra-cluster similarity* dan *inter-cluster dissimilarity*! Secara umum, apakah yang membuat suatu klaster dianggap baik berdasarkan kedua metrik di atas? [8]"
      ]
    },
    {
      "cell_type": "markdown",
      "source": [
        "15. penanganan yang dapat dilakukan adalah dengan melakukan labeling encoding atau one-hot encoding. Labeling encoding adalah suatu teknik penanganan yang mensubtitusikan suatu nilai dari atribut tersebut menjadi data numerik, kalau one-hot encoding adalah suatu teknik penanganan yang membagi nilai categorical tersebut menjadi kolom sendiri, lalu nilainya diisi dengan 1 atau 0 (1 artinya bila nilainya adalah kolom tersebut, 0 artinya kalau nilainya bukan dari kolom tersebut)\n",
        "\n",
        "16. Menurut saya, kurang cocok apabila diterapkan pada data yang tidak globular karena pada dasarnya k-means itu menghitung jarak dari centroid ke data yang terdekat kemudian dikumpulkan menjadi klaster. Apabila tidak globular, maka penempatan dan penghitungan centroid ke datanya menjadi aneh\n",
        "\n",
        "17. Menurut saya mungkin sama, alasannya karena method KMeans dalam menetapkan centroidnya langsung ke yang menurut KMeans posisinya paling optimal\n",
        "\n",
        "18. Secara umum, intra-cluster similarity menghitung suatu cluster pada data berdasarkan tingkat kemiripannya, sedangkan inter-cluster dissimilarity menghitung perbedaan suatu cluster dengan cluster lainnya itu seberapa bedanya. Menurut saya, cara tersebut akan membuat suatu klaster menjadi semakin baik karena nantinya akan menghasilkan beberapa klaster dengan perbedaan sifat di tiap klasternya, dan data di setiap klasternya (data-data di klaster yang sama) memiliki kemiripan yang cukup baik. Kedua hal tersebut akan membuat pengelompokkan pada clustering terlihat semakin jelas"
      ],
      "metadata": {
        "id": "uLmnmDAnkHRD"
      }
    }
  ],
  "metadata": {
    "colab": {
      "collapsed_sections": [
        "R39aUrRNqzhJ",
        "JnRUE1Ul62_R"
      ],
      "provenance": []
    },
    "kernelspec": {
      "display_name": "Python 3 (ipykernel)",
      "language": "python",
      "name": "python3"
    },
    "language_info": {
      "codemirror_mode": {
        "name": "ipython",
        "version": 3
      },
      "file_extension": ".py",
      "mimetype": "text/x-python",
      "name": "python",
      "nbconvert_exporter": "python",
      "pygments_lexer": "ipython3",
      "version": "3.10.7"
    }
  },
  "nbformat": 4,
  "nbformat_minor": 0
}