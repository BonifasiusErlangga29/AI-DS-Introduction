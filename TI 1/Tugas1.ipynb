{
 "cells": [
  {
   "cell_type": "markdown",
   "metadata": {
    "id": "R39aUrRNqzhJ"
   },
   "source": [
    "<center>\n",
    "<img src=\"https://drive.google.com/uc?id=1f1gGVI-rxcHjA90WEGNvvtSXF1pAxQwg\" alt=\"Fasilkom UI\" width=\"300\"/>\n",
    "\n",
    "CSGE603130 • Kecerdasan Artifisial dan Sains Data Dasar\n",
    "\n",
    "Semester Gasal 2022/2023\n",
    "\n",
    "Fakultas Ilmu Komputer, Universitas Indonesia\n",
    "\n",
    "##**Tugas 1: *Clustering***\n",
    "\n",
    "###**Tenggat Waktu: 8 Oktober 2022, 23.55 WIB**\n",
    "</center>\n",
    "\n",
    "### **Ketentuan:**\n",
    "1. Dokumen Jupyter Notebook yang telah dilengkapi dengan jawaban dapat dikumpulkan dengan format penamaan **Kelas_TugasX_NPM_Nama Lengkap.ipynb**. Contoh: B_Tugas1_1906398881_Thariq Razan.ipynb.\n",
    "2. Pengumpulan tugas dilakukan melalui slot submisi yang telah disediakan di SCeLe. Keterlambatan pengumpulan akan dikenakan penalti sesuai dengan ketentuan pada BRP.\n",
    "3. Tugas ini dirancang sebagai **tugas mandiri**. Plagiarisme tidak diperkenankan dalam bentuk apapun. Adapun kolaborasi berupa diskusi (tanpa menyalin maupun mengambil jawaban orang lain) dan literasi masih diperbolehkan dengan mencantumkan kolaborator dan sumber.\n",
    "4. Soal yang akan dinilai telah diberikan penanda bobot maksimal agar Anda mengetahui berapa poin yang bisa didapatkan. "
   ]
  },
  {
   "cell_type": "markdown",
   "metadata": {
    "id": "JnRUE1Ul62_R"
   },
   "source": [
    "## **Pernyataan Integritas**\n",
    "\n",
    "Wajib diisi. Tanpa pernyataan integritas submisi akan dikenakan penalti."
   ]
  },
  {
   "cell_type": "code",
   "execution_count": null,
   "metadata": {
    "id": "9tnfWWpN7vjq"
   },
   "outputs": [],
   "source": [
    "# Isi dengan data diri Anda\n",
    "NAMA = \"\"\n",
    "KELAS = \"\"\n",
    "NPM = \"\"\n",
    "\n",
    "# Isi dengan NPM teman yang berdiskusi dengan Anda  \n",
    "KOLABORATOR = []\n",
    "\n",
    "# Isi dengan sumber referensi yang Anda gunakan dalam mengerjakan tugas ini\n",
    "REFERENSI = []"
   ]
  },
  {
   "cell_type": "code",
   "execution_count": null,
   "metadata": {
    "colab": {
     "base_uri": "https://localhost:8080/"
    },
    "id": "KVEdteyu3hot",
    "outputId": "e04bcea7-e41f-459d-92c9-ac925a49c897"
   },
   "outputs": [
    {
     "name": "stdout",
     "output_type": "stream",
     "text": [
      "Saya,  dari kelas  dengan NPM , menyatakan bahwa seluruh jawaban pada pekerjaan ini murni saya kerjakan sendiri.\n",
      "Saya tidak mencontek jawaban, memberikan jawaban, maupun menyalin dari sumber manapun.\n",
      " \n",
      "Jika saya melanggar pernyataan tersebut, saya siap menerima konsekuensi apapun yang diberikan.\n",
      "   ()\n"
     ]
    }
   ],
   "source": [
    "PERNYATAAN_INTEGRITAS = \"Saya, %s dari kelas %s dengan NPM %s, menyatakan bahwa seluruh jawaban pada pekerjaan ini murni saya kerjakan sendiri.\\n\\\n",
    "Saya tidak mencontek jawaban, memberikan jawaban, maupun menyalin dari sumber manapun.\\n \\\n",
    "\\n\\\n",
    "Jika saya melanggar pernyataan tersebut, saya siap menerima konsekuensi apapun yang diberikan.\\n   \\\n",
    "(%s)\" % (NAMA, KELAS, NPM, NAMA)\n",
    "\n",
    "print(PERNYATAAN_INTEGRITAS)"
   ]
  },
  {
   "cell_type": "markdown",
   "metadata": {
    "id": "lqOWT_bKjYzg"
   },
   "source": [
    "## **Persiapan** [10 poin]\n",
    "Pada tugas ini Anda akan diinstruksikan untuk melakukan *clustering* terhadap dataset yang telah disediakan di SCeLe. Sebelumnya, lakukan EDA untuk lebih memahami dataset tersebut. Lakukan pula *preprocessing* yang diperlukan. \n",
    "\n",
    "Dataset ini mengandung data yang diambil dari observasi ilmuwan terhadap penguin di Antarktika. Terdapat atribut seperti pulau habitat, tebal paruh, dan sebagainya. Pada tugas ini, bantulah ilmuwan untuk mengelompokkan penguin ke klaster tertentu!"
   ]
  },
  {
   "cell_type": "code",
   "execution_count": null,
   "metadata": {
    "id": "bUusltQScRDp"
   },
   "outputs": [],
   "source": [
    "# Impor library atau modul yang dibutuhkan pada tugas ini\n",
    "import pandas as pd\n",
    "import numpy as np\n",
    "import matplotlib.pyplot as plt\n",
    "import seaborn as sns\n",
    "from sklearn.cluster import KMeans\n",
    "from sklearn.metrics import silhouette_samples, silhouette_score\n",
    "import matplotlib.cm as cm\n",
    "import scipy.cluster.hierarchy as shc\n",
    "from sklearn.cluster import AgglomerativeClustering"
   ]
  },
  {
   "cell_type": "markdown",
   "metadata": {
    "id": "KhFKtMTossd8"
   },
   "source": [
    "1. Bukalah dataset dan tampilkan cuplikan dari dataset tersebut [1]"
   ]
  },
  {
   "cell_type": "markdown",
   "metadata": {
    "id": "eemzgA2Vs0ZV"
   },
   "source": [
    "2. Tampilkan informasi dari dataset tersebut yang paling tidak mencakup jenis kolom dan jumlah *non-null cell* [1]"
   ]
  },
  {
   "cell_type": "markdown",
   "metadata": {
    "id": "TJ3_hRttt5JQ"
   },
   "source": [
    "3. Tampilkan statistika deskriptif dari dataset tersebut [1]"
   ]
  },
  {
   "cell_type": "markdown",
   "metadata": {
    "id": "s6pNZF79uQb9"
   },
   "source": [
    "4. Lakukan penanganan terhadap *missing values* [2]"
   ]
  },
  {
   "cell_type": "markdown",
   "metadata": {
    "id": "aTQx3f55vP9F"
   },
   "source": [
    "5. Buatlah visualisasi untuk memahami distribusi data dari sebuah atribut dan memahami hubungan antar dua buah atribut [3]"
   ]
  },
  {
   "cell_type": "markdown",
   "metadata": {
    "id": "L7VpzD9TuiwP"
   },
   "source": [
    "6. Pilihlah paling tidak 2 atribut yang Anda ingin gunakan untuk penentuan klaster. Jelaskan alasan Anda memilih kombinasi atribut tersebut [2]\n",
    "\n",
    "> **Catatan**: Anda diharapkan untuk **bereksperimen** dengan pilihan atribut tersebut. Anda dapat lanjut ke bagian *clustering*, lalu kembali lagi ke bagian pemilihan atribut jika ingin mencoba kombinasi atribut yang berbeda. Pastikan jawaban akhir Anda dapat menghasilkan klaster yang **bermakna** (menghasilkan *insight* tertentu)."
   ]
  },
  {
   "cell_type": "markdown",
   "metadata": {
    "id": "0YKFSluKDZ0e"
   },
   "source": [
    "## **K-Means Clustering** [30 poin]\n",
    "K-Means merupakan salah satu metode *clustering* yang paling populer. 'K' pada kata K-Means mengacu pada banyaknya kelompok yang ingin dibentuk. Menentukan nilai 'K' bersifat krusial karena memengaruhi kualitas *clustering*. Secara umum, kita dapat menerapkan K-Means secara manual dengan mengikuti langkah-langkah berikut: \n",
    "1. Menentukan nilai K dan memilih K buah centroid (titik pusat) secara acak\n",
    "2. Mengelompokkan titik-titik data yang ada ke centroid terdekat\n",
    "3. Menentukan ulang centroid dengan mengkalkulasi rata-rata data dari kelompok yang terbentuk\n",
    "4. Mengulangi langkah 1-3 sampai memenuhi *stopping criteria*\n"
   ]
  },
  {
   "cell_type": "markdown",
   "metadata": {
    "id": "gcKs2hrCR1CL"
   },
   "source": [
    "7. Manfaatkan metrik *silhouette coefficient* untuk menentukan nilai K yang optimal (hint: lakukan *silhoutte analysis* terhadap nilai 2<=K<=6) [12]"
   ]
  },
  {
   "cell_type": "markdown",
   "metadata": {
    "id": "QlgWO1FsqLfq"
   },
   "source": [
    "8. Terapkan metode K-Means kepada dataframe yang sudah Anda siapkan, gunakan nilai K yang Anda tentukan di atas [8]"
   ]
  },
  {
   "cell_type": "markdown",
   "metadata": {
    "id": "q6EhdtBgqQFu"
   },
   "source": [
    "9. Visualisasikan klaster yang ada [5]"
   ]
  },
  {
   "cell_type": "markdown",
   "metadata": {
    "id": "oy5mzBgH0NBr"
   },
   "source": [
    "10. Berikan interpretasi dari klaster yang dihasilkan [5]"
   ]
  },
  {
   "cell_type": "markdown",
   "metadata": {
    "id": "mqLOC8u-dY6f"
   },
   "source": [
    "## **Hierarchical Clustering** [30 poin]\n",
    "*Hierarchical clustering* adalah metode pengelompokkan data yang bertujuan untuk membuat klaster bertingkat. Metode ini termasuk ke dalam *unsupervised* ML layaknya metode K-Means. Namun, beda dengan metode K-Means, tidak diperlukan penentuan jumlah klaster diawal menjalankan metode ini. \n",
    "\n",
    "Secara umum, terdapat dua pendekatan dalam membentuk hierarki klaster, yakni *bottom-up* (agglomerative) dan *top-down* (divisive).\n"
   ]
  },
  {
   "cell_type": "markdown",
   "metadata": {
    "id": "lRFL3HWQqnWt"
   },
   "source": [
    "11. Terapkan *agglomerative clustering* tanpa mengatur jumlah klaster yang ingin dibentuk [8]\n"
   ]
  },
  {
   "cell_type": "markdown",
   "metadata": {
    "id": "Crnlmt4f2LJl"
   },
   "source": [
    "12. Tampilkan dendogram berdasarkan hasil *clustering* di atas. Dari hasil tersebut, apakah jumlah klaster optimal sama seperti hasil K-Means sebelumnya? Jelaskan hasilnya! (hint: tentukan ambang batas aglomerasi pada dendogram) [13]"
   ]
  },
  {
   "cell_type": "markdown",
   "metadata": {
    "id": "JTrl6kf5CsiD"
   },
   "source": [
    "13. Terapkan kembali *agglomerative clustering*, namun aturlah jumlah klaster sesuai jawaban kalian di atas [5]"
   ]
  },
  {
   "cell_type": "markdown",
   "metadata": {
    "id": "JXZNgpYRrXx5"
   },
   "source": [
    "14. Visualisasikan hasil *clustering assignment* [4]"
   ]
  },
  {
   "cell_type": "markdown",
   "metadata": {
    "id": "tFgVU3kJpvrQ"
   },
   "source": [
    "## **Pertanyaan Teoretis** [30 poin]\n",
    "\n",
    "**Pada bagian tugas ini, Anda diminta untuk menjawab pertanyaan yang telah diberikan di bawah ini.**"
   ]
  },
  {
   "cell_type": "markdown",
   "metadata": {
    "id": "s84Ye7-do4eU"
   },
   "source": [
    "15. Jika suatu dataset mengandung campuran *categorical* dan *numerical* *feature*, penanganan apa yang bisa Anda lakukan terhadap *categorical feature* sebelum melakukan *clustering*? [8]\n",
    "16. Mengapa K-Means *clustering* kurang cocok jika diterapkan pada dataset yang struktur/bentuk penyebarannya tidak globular? [8]\n",
    "17. Apakah method KMeans dari sklearn akan memberikan hasil yang sama tiap kali dijalankan? Berikan penjelasan atau asumsi Anda terkait hal ini! [6]\n",
    "18. Jelaskan cara menghitung *intra-cluster similarity* dan *inter-cluster dissimilarity*! Secara umum, apakah yang membuat suatu klaster dianggap baik berdasarkan kedua metrik di atas? [8]"
   ]
  }
 ],
 "metadata": {
  "colab": {
   "collapsed_sections": [
    "R39aUrRNqzhJ",
    "JnRUE1Ul62_R"
   ],
   "provenance": []
  },
  "kernelspec": {
   "display_name": "Python 3 (ipykernel)",
   "language": "python",
   "name": "python3"
  },
  "language_info": {
   "codemirror_mode": {
    "name": "ipython",
    "version": 3
   },
   "file_extension": ".py",
   "mimetype": "text/x-python",
   "name": "python",
   "nbconvert_exporter": "python",
   "pygments_lexer": "ipython3",
   "version": "3.10.7"
  }
 },
 "nbformat": 4,
 "nbformat_minor": 1
}
