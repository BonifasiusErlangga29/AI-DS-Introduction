{
  "nbformat": 4,
  "nbformat_minor": 0,
  "metadata": {
    "colab": {
      "provenance": [],
      "collapsed_sections": [
        "whoUqmpRTKVe"
      ]
    },
    "kernelspec": {
      "name": "python3",
      "display_name": "Python 3"
    },
    "language_info": {
      "name": "python"
    }
  },
  "cells": [
    {
      "cell_type": "markdown",
      "metadata": {
        "id": "0k_j9vD93i96"
      },
      "source": [
        "<center>\n",
        "<img src=\"https://drive.google.com/uc?id=1f1gGVI-rxcHjA90WEGNvvtSXF1pAxQwg\" alt=\"Fasilkom UI\" width=\"300\"/>\n",
        "\n",
        "CSGE603130 • Kecerdasan Artifisial dan Sains Data Dasar\n",
        "\n",
        "Semester Ganjil 2022/2023\n",
        "\n",
        "Fakultas Ilmu Komputer, Universitas Indonesia\n",
        "\n",
        "##**Tugas *2*: *Classification***\n",
        "\n",
        "###**Tenggat Waktu: 19 November 2022, 23.55 WIB**\n",
        "</center>\n",
        "\n",
        "####**Ketentuan:**\n",
        "\n",
        "1. Dataset yang digunakan pada tugas ini beserta deskripsinya telah disediakan di SCeLe.\n",
        "2. Buatlah program Jupyter Notebook yang menjawab pertanyaan sesuai dengan perintah soal yang disediakan.\n",
        "3. Dokumen Jupyter Notebook yang telah dilengkapi dengan jawaban dikumpulkan dengan format penamaan **Kelas_Tugas2_NPM_Nama.ipynb**. Contoh: A_Tugas2_2006123456_Budi.ipynb\n",
        "4. Kumpulkan dokumen tersebut pada submisi yang telah disediakan di SCeLe sesuai dengan kelas masing-masing sebelum **19 November 2022, 23.55 WIB**. Keterlambatan pengumpulan akan dikenakan pinalti.\n",
        "5. Praktikum ini dirancang sebagai **tugas mandiri**. Plagiarisme tidak diperkenankan dalam bentuk apapun. Adapun kolaborasi berupa diskusi (tanpa menyalin) dan literasi masih diperbolehkan dengan mencantumkan kolaborator dan sumber.\n"
      ]
    },
    {
      "cell_type": "markdown",
      "metadata": {
        "id": "JnRUE1Ul62_R"
      },
      "source": [
        "## **Pernyataan Integritas**\n",
        "\n",
        "Wajib diisi. Tanpa pernyataan integritas submisi akan dikenakan pinalti."
      ]
    },
    {
      "cell_type": "code",
      "metadata": {
        "id": "9tnfWWpN7vjq"
      },
      "source": [
        "# Isi dengan data diri Anda\n",
        "NAMA = \"Bonifasius Erlangga Einsoni Rienko\"\n",
        "KELAS = \"B\"\n",
        "NPM = \"1906302850\"\n",
        "\n",
        "# Isi dengan NPM teman yang berdiskusi dengan Anda\n",
        "KOLABORATOR = []\n",
        "\n",
        "# Isi dengan sumber referensi yang Anda gunakan dalam mengerjakan\n",
        "REFERENSI = []"
      ],
      "execution_count": null,
      "outputs": []
    },
    {
      "cell_type": "code",
      "metadata": {
        "colab": {
          "base_uri": "https://localhost:8080/"
        },
        "id": "KVEdteyu3hot",
        "outputId": "43f945fe-2808-4384-8453-ba42c360c256"
      },
      "source": [
        "PERNYATAAN_INTEGRITAS = \"Saya, %s dari kelas %s dengan NPM %s, menyatakan bahwa seluruh jawaban pada pekerjaan ini murni saya kerjakan sendiri.\\n\\\n",
        "Saya tidak mencontek jawaban, memberikan jawaban, maupun menyalin dari sumber manapun.\\n \\\n",
        "\\n\\\n",
        "Jika saya melanggar pernyataan tersebut, saya siap menerima konsekuensi apapun yang diberikan.\\n   \\\n",
        "(%s)\" % (NAMA, KELAS, NPM, NAMA)\n",
        "\n",
        "print(PERNYATAAN_INTEGRITAS)"
      ],
      "execution_count": null,
      "outputs": [
        {
          "output_type": "stream",
          "name": "stdout",
          "text": [
            "Saya, Bonifasius Erlangga Einsoni Rienko dari kelas B dengan NPM 1906302850, menyatakan bahwa seluruh jawaban pada pekerjaan ini murni saya kerjakan sendiri.\n",
            "Saya tidak mencontek jawaban, memberikan jawaban, maupun menyalin dari sumber manapun.\n",
            " \n",
            "Jika saya melanggar pernyataan tersebut, saya siap menerima konsekuensi apapun yang diberikan.\n",
            "   (Bonifasius Erlangga Einsoni Rienko)\n"
          ]
        }
      ]
    },
    {
      "cell_type": "code",
      "source": [
        "import matplotlib.pyplot as plt\n",
        "import numpy as np\n",
        "import pandas as pd\n",
        "\n",
        "from sklearn.ensemble import RandomForestClassifier\n",
        "from sklearn.feature_selection import SelectKBest\n",
        "from sklearn.metrics import classification_report\n",
        "from sklearn.model_selection import GridSearchCV, train_test_split, KFold, cross_val_score\n",
        "from sklearn.naive_bayes import GaussianNB, MultinomialNB, ComplementNB, BernoulliNB, CategoricalNB\n",
        "from sklearn.neighbors import KNeighborsClassifier\n",
        "from sklearn.preprocessing import MinMaxScaler, LabelEncoder, OneHotEncoder\n",
        "from sklearn.tree import DecisionTreeClassifier"
      ],
      "metadata": {
        "id": "PfDooLQpbXRP"
      },
      "execution_count": null,
      "outputs": []
    },
    {
      "cell_type": "markdown",
      "source": [
        "## **Dataset**"
      ],
      "metadata": {
        "id": "whoUqmpRTKVe"
      }
    },
    {
      "cell_type": "markdown",
      "source": [
        "Dataset yang digunakan adalah dataset Mobile Prices dimana kita memklasifikasi handphone lewat harganya, terdapat 21 atribut dan target atributnya adalah price_range.\n",
        "\n",
        "Penjelesan atribut:\n",
        "* battery_power : Total energy a battery can store in one time measured in mAh\n",
        "* blue : Has bluetooth or not\n",
        "* clock_speed : speed at which microprocessor executes instructions\n",
        "* dual_sim : Has dual sim support or not\n",
        "* fc : Front Camera mega pixels\n",
        "* four_g : Has 4G or not\n",
        "* int_memory : Internal Memory in Gigabytes\n",
        "* m_dep : Mobile Depth in cm\n",
        "* mobile_wt : Weight of mobile phone\n",
        "* n_cores : Number of cores of processor\n",
        "* pc : Primary Camera mega pixels\n",
        "* px_height : Pixel Resolution Height\n",
        "* px_width : Pixel Resolution Width\n",
        "* ram : Random Access Memory in Mega Bytes\n",
        "* sc_h : Screen Height of mobile in cm\n",
        "* sc_w : Screen Width of mobile in cm\n",
        "* talk_time : Longest time that a single battery charge will last when you are\n",
        "* three_g : Has 3G or not\n",
        "* touch_screen : Has touch screen or not\n",
        "* wifi : Has wifi or not\n",
        "* price_range : This is the target variable with value of 0(low cost), 1(medium cost), 2(high cost) and 3(very high cost).\n",
        "\n",
        "Sumber: https://www.kaggle.com/datasets/iabhishekofficial/mobile-price-classification (dengan modifikasi)"
      ],
      "metadata": {
        "id": "EK27FheIFqrt"
      }
    },
    {
      "cell_type": "markdown",
      "source": [
        "## [25] **Preprocessing**"
      ],
      "metadata": {
        "id": "PIJ1_2ZIROKV"
      }
    },
    {
      "cell_type": "markdown",
      "source": [
        "**Pada bagian ini Anda akan diminta untuk melakukan preprocessing dan eksplorasi data sebelum data digunakan dalam model klasifikasi.**"
      ],
      "metadata": {
        "id": "-17a8T9R2_15"
      }
    },
    {
      "cell_type": "markdown",
      "source": [
        "1\\. [3] Berikan ringkasan mengenai data tersebut terkait dengan deskripsi setiap atribut, jumlah missing values, jumlah duplikasi data, dan kemungkinan adanya outliers pada data!"
      ],
      "metadata": {
        "id": "rjKw3KxmRbhm"
      }
    },
    {
      "cell_type": "markdown",
      "source": [
        "Yang pertama adalah deskripsi mengenai dataset secara keseluruhan dan data type untuk masing-masing atribut"
      ],
      "metadata": {
        "id": "8mm3sEAJcoKI"
      }
    },
    {
      "cell_type": "code",
      "source": [
        "df = pd.read_csv(\"mobile_phone.csv\")"
      ],
      "metadata": {
        "id": "7HAvpMoFgiD7"
      },
      "execution_count": null,
      "outputs": []
    },
    {
      "cell_type": "code",
      "source": [
        "df.describe"
      ],
      "metadata": {
        "colab": {
          "base_uri": "https://localhost:8080/"
        },
        "id": "cXqIc7-Tgiz7",
        "outputId": "f1d7cc08-b800-43cc-bcb4-cb5998304b22"
      },
      "execution_count": null,
      "outputs": [
        {
          "output_type": "execute_result",
          "data": {
            "text/plain": [
              "<bound method NDFrame.describe of       battery_power  blue  clock_speed  dual_sim  fc  four_g  int_memory  \\\n",
              "0               842     0          2.2         0   1       0         7.0   \n",
              "1              1021     1          0.5         1   0       1        53.0   \n",
              "2               563     1          0.5         1   2       1        41.0   \n",
              "3               615     1          2.5         0   0       0        10.0   \n",
              "4              1821     1          1.2         0  13       1        44.0   \n",
              "...             ...   ...          ...       ...  ..     ...         ...   \n",
              "2016            794     1          0.5         1   0       1         2.0   \n",
              "2017           1965     1          2.6         1   0       0        39.0   \n",
              "2018           1911     0          0.9         1   1       1        36.0   \n",
              "2019           1512     0          0.9         0   4       1        46.0   \n",
              "2020            510     1          2.0         1   5       1        45.0   \n",
              "\n",
              "      m_dep  mobile_wt  n_cores  ...  px_height  px_width     ram  sc_h  sc_w  \\\n",
              "0       0.6        188        2  ...         20       756  2549.0     9     7   \n",
              "1       0.7        136        3  ...        905      1988  2631.0    17     3   \n",
              "2       0.9        145        5  ...       1263      1716  2603.0    11     2   \n",
              "3       0.8        131        6  ...       1216      1786  2769.0    16     8   \n",
              "4       NaN        141        2  ...       1208      1212  1411.0     8     2   \n",
              "...     ...        ...      ...  ...        ...       ...     ...   ...   ...   \n",
              "2016    0.8        106        6  ...       1222      1890   668.0    13     4   \n",
              "2017    NaN        187        4  ...        915      1965  2032.0    11    10   \n",
              "2018    0.7        108        8  ...        868      1632  3057.0     9     1   \n",
              "2019    NaN        145        5  ...        336       670   869.0    18    10   \n",
              "2020    0.9        168        6  ...        483       754  3919.0    19     4   \n",
              "\n",
              "      talk_time  three_g  touch_screen  wifi  price_range  \n",
              "0           NaN        0           0.0   1.0            1  \n",
              "1           7.0        1           1.0   0.0            2  \n",
              "2           9.0        1           1.0   0.0            2  \n",
              "3          11.0        1           0.0   0.0            2  \n",
              "4          15.0        1           1.0   0.0            1  \n",
              "...         ...      ...           ...   ...          ...  \n",
              "2016       19.0        1           1.0   0.0            0  \n",
              "2017       16.0        1           1.0   1.0            2  \n",
              "2018        5.0        1           1.0   0.0            3  \n",
              "2019       19.0        1           1.0   1.0            0  \n",
              "2020        2.0        1           1.0   1.0            3  \n",
              "\n",
              "[2021 rows x 21 columns]>"
            ]
          },
          "metadata": {},
          "execution_count": 26
        }
      ]
    },
    {
      "cell_type": "code",
      "source": [
        "df.info()"
      ],
      "metadata": {
        "id": "77nxbl8ZiLai",
        "colab": {
          "base_uri": "https://localhost:8080/"
        },
        "outputId": "7058d474-f554-4f7a-becc-987642541f28"
      },
      "execution_count": null,
      "outputs": [
        {
          "output_type": "stream",
          "name": "stdout",
          "text": [
            "<class 'pandas.core.frame.DataFrame'>\n",
            "RangeIndex: 2021 entries, 0 to 2020\n",
            "Data columns (total 21 columns):\n",
            " #   Column         Non-Null Count  Dtype  \n",
            "---  ------         --------------  -----  \n",
            " 0   battery_power  2021 non-null   int64  \n",
            " 1   blue           2021 non-null   int64  \n",
            " 2   clock_speed    1920 non-null   float64\n",
            " 3   dual_sim       2021 non-null   int64  \n",
            " 4   fc             2021 non-null   int64  \n",
            " 5   four_g         2021 non-null   int64  \n",
            " 6   int_memory     1915 non-null   float64\n",
            " 7   m_dep          1928 non-null   float64\n",
            " 8   mobile_wt      2021 non-null   int64  \n",
            " 9   n_cores        2021 non-null   int64  \n",
            " 10  pc             2021 non-null   int64  \n",
            " 11  px_height      2021 non-null   int64  \n",
            " 12  px_width       2021 non-null   int64  \n",
            " 13  ram            1927 non-null   float64\n",
            " 14  sc_h           2021 non-null   int64  \n",
            " 15  sc_w           2021 non-null   int64  \n",
            " 16  talk_time      1937 non-null   float64\n",
            " 17  three_g        2021 non-null   int64  \n",
            " 18  touch_screen   1925 non-null   float64\n",
            " 19  wifi           1922 non-null   float64\n",
            " 20  price_range    2021 non-null   int64  \n",
            "dtypes: float64(7), int64(14)\n",
            "memory usage: 331.7 KB\n"
          ]
        }
      ]
    },
    {
      "cell_type": "markdown",
      "source": [
        "Berikutnya adalah jumlah missing value untuk masing-masing atribut"
      ],
      "metadata": {
        "id": "jS7THM5icuwU"
      }
    },
    {
      "cell_type": "code",
      "source": [
        "df.isnull().sum().sort_values(ascending=False)"
      ],
      "metadata": {
        "colab": {
          "base_uri": "https://localhost:8080/"
        },
        "id": "xuwOOSvEbhCy",
        "outputId": "178f5960-7e8f-43fd-a013-fe144c0cde6f"
      },
      "execution_count": null,
      "outputs": [
        {
          "output_type": "execute_result",
          "data": {
            "text/plain": [
              "int_memory       106\n",
              "clock_speed      101\n",
              "wifi              99\n",
              "touch_screen      96\n",
              "ram               94\n",
              "m_dep             93\n",
              "talk_time         84\n",
              "battery_power      0\n",
              "px_width           0\n",
              "three_g            0\n",
              "sc_w               0\n",
              "sc_h               0\n",
              "pc                 0\n",
              "px_height          0\n",
              "blue               0\n",
              "n_cores            0\n",
              "mobile_wt          0\n",
              "four_g             0\n",
              "fc                 0\n",
              "dual_sim           0\n",
              "price_range        0\n",
              "dtype: int64"
            ]
          },
          "metadata": {},
          "execution_count": 28
        }
      ]
    },
    {
      "cell_type": "markdown",
      "source": [
        "Berikut adalah jumlah duplikasi data"
      ],
      "metadata": {
        "id": "uHMMIzCgdJZN"
      }
    },
    {
      "cell_type": "code",
      "source": [
        "duplikasi = df.duplicated().sum()\n",
        "print(\"Terdapat \"+str(duplikasi)+\" duplikasi pada data\")"
      ],
      "metadata": {
        "colab": {
          "base_uri": "https://localhost:8080/"
        },
        "id": "Dd71k6P9dJHN",
        "outputId": "d04456c5-e4bf-43ab-846f-109be6d8726f"
      },
      "execution_count": null,
      "outputs": [
        {
          "output_type": "stream",
          "name": "stdout",
          "text": [
            "Terdapat 21 duplikasi pada data\n"
          ]
        }
      ]
    },
    {
      "cell_type": "markdown",
      "source": [
        "Berikut adalah jumlah outlier untuk masing-masing atribut"
      ],
      "metadata": {
        "id": "_T4uoT1rcz6G"
      }
    },
    {
      "cell_type": "code",
      "source": [
        "def outlier_counter(data):\n",
        "    global q1\n",
        "    global q3\n",
        "    global iqr\n",
        "    q1 = data.quantile(q = 0.25)\n",
        "    q3 = data.quantile(q = 0.75)\n",
        "    iqr = q3 - q1\n",
        "    hasil = ((data < (q1 - 1.5 * iqr)) | (data > (q3 + 1.5 * iqr))).sum()\n",
        "    return hasil"
      ],
      "metadata": {
        "id": "q4xVK7bFcl_W"
      },
      "execution_count": null,
      "outputs": []
    },
    {
      "cell_type": "code",
      "source": [
        "print(outlier_counter(df))"
      ],
      "metadata": {
        "colab": {
          "base_uri": "https://localhost:8080/"
        },
        "id": "8mtWwNhIdCzA",
        "outputId": "01e131cf-b0a2-4240-848a-a4fcae7bb596"
      },
      "execution_count": null,
      "outputs": [
        {
          "output_type": "stream",
          "name": "stdout",
          "text": [
            "battery_power      0\n",
            "blue               0\n",
            "clock_speed        0\n",
            "dual_sim           0\n",
            "fc                18\n",
            "four_g             0\n",
            "int_memory         0\n",
            "m_dep              0\n",
            "mobile_wt          0\n",
            "n_cores            0\n",
            "pc                 0\n",
            "px_height          2\n",
            "px_width           0\n",
            "ram                0\n",
            "sc_h               0\n",
            "sc_w               0\n",
            "talk_time          0\n",
            "three_g          480\n",
            "touch_screen       0\n",
            "wifi               0\n",
            "price_range        0\n",
            "dtype: int64\n"
          ]
        }
      ]
    },
    {
      "cell_type": "markdown",
      "source": [
        "2\\. [3] Berdasarkan eksplorasi anda pada nomor 1, lakukan data preparation hingga data tersebut menurut anda cukup “clean” dan dapat memberikan hasil klasifikasi yang maksimal."
      ],
      "metadata": {
        "id": "GSDnFvDQaHsE"
      }
    },
    {
      "cell_type": "code",
      "source": [
        "mobile_phone = df.copy()\n",
        "# Clear outlier data from dataset\n",
        "mobile_phone = mobile_phone[~((mobile_phone < (q1 - 1.5 * iqr)) |(mobile_phone > (q3 + 1.5 * iqr))).any(axis=1)]\n",
        "outlier_counter(mobile_phone)"
      ],
      "metadata": {
        "id": "JjVBdG3wiLvC",
        "colab": {
          "base_uri": "https://localhost:8080/"
        },
        "outputId": "ba9c7c06-4785-4b94-ec57-9db72afec339"
      },
      "execution_count": null,
      "outputs": [
        {
          "output_type": "execute_result",
          "data": {
            "text/plain": [
              "battery_power    0\n",
              "blue             0\n",
              "clock_speed      0\n",
              "dual_sim         0\n",
              "fc               0\n",
              "four_g           0\n",
              "int_memory       0\n",
              "m_dep            0\n",
              "mobile_wt        0\n",
              "n_cores          0\n",
              "pc               0\n",
              "px_height        0\n",
              "px_width         0\n",
              "ram              0\n",
              "sc_h             0\n",
              "sc_w             0\n",
              "talk_time        0\n",
              "three_g          0\n",
              "touch_screen     0\n",
              "wifi             0\n",
              "price_range      0\n",
              "dtype: int64"
            ]
          },
          "metadata": {},
          "execution_count": 32
        }
      ]
    },
    {
      "cell_type": "code",
      "source": [
        "#drop duplicate\n",
        "mobile_phone = mobile_phone.drop_duplicates()\n",
        "duplikasi = mobile_phone.duplicated().sum()\n",
        "print(\"Terdapat \"+str(duplikasi)+\" duplikasi pada data\")"
      ],
      "metadata": {
        "colab": {
          "base_uri": "https://localhost:8080/"
        },
        "id": "J3HBO0zKf9qG",
        "outputId": "a61d01c7-a55b-47a1-db25-1d6d04164834"
      },
      "execution_count": null,
      "outputs": [
        {
          "output_type": "stream",
          "name": "stdout",
          "text": [
            "Terdapat 0 duplikasi pada data\n"
          ]
        }
      ]
    },
    {
      "cell_type": "code",
      "source": [
        "#drop missing value\n",
        "mobile_phone = mobile_phone.dropna()\n",
        "mobile_phone.isnull().sum().sort_values(ascending=False)"
      ],
      "metadata": {
        "colab": {
          "base_uri": "https://localhost:8080/"
        },
        "id": "BPtljs3qgPtd",
        "outputId": "9b1466e3-0cb7-49a4-849d-357dd1809120"
      },
      "execution_count": null,
      "outputs": [
        {
          "output_type": "execute_result",
          "data": {
            "text/plain": [
              "battery_power    0\n",
              "px_height        0\n",
              "wifi             0\n",
              "touch_screen     0\n",
              "three_g          0\n",
              "talk_time        0\n",
              "sc_w             0\n",
              "sc_h             0\n",
              "ram              0\n",
              "px_width         0\n",
              "pc               0\n",
              "blue             0\n",
              "n_cores          0\n",
              "mobile_wt        0\n",
              "m_dep            0\n",
              "int_memory       0\n",
              "four_g           0\n",
              "fc               0\n",
              "dual_sim         0\n",
              "clock_speed      0\n",
              "price_range      0\n",
              "dtype: int64"
            ]
          },
          "metadata": {},
          "execution_count": 34
        }
      ]
    },
    {
      "cell_type": "markdown",
      "source": [
        "3\\. [3] Menurut Anda, apakah perlu dilakukan normalisasi terhadap data, atau cukup menggunakan data asli? Jika ya, bentuk normalisasi apa yang tepat digunakan pada data? Jelaskan secara singkat alasan Anda!\n"
      ],
      "metadata": {
        "id": "1Dy5ZSFiaJ-j"
      }
    },
    {
      "cell_type": "code",
      "source": [
        "mobile_phone['price_range'].plot(kind='kde')"
      ],
      "metadata": {
        "id": "F8pRxs-JiNjY",
        "colab": {
          "base_uri": "https://localhost:8080/",
          "height": 283
        },
        "outputId": "dc06d62c-a446-459f-f99e-4b9ba173db8c"
      },
      "execution_count": null,
      "outputs": [
        {
          "output_type": "execute_result",
          "data": {
            "text/plain": [
              "<matplotlib.axes._subplots.AxesSubplot at 0x7f76680a0690>"
            ]
          },
          "metadata": {},
          "execution_count": 35
        },
        {
          "output_type": "display_data",
          "data": {
            "text/plain": [
              "<Figure size 432x288 with 1 Axes>"
            ],
            "image/png": "[encoded data removed]"
          },
          "metadata": {
            "needs_background": "light"
          }
        }
      ]
    },
    {
      "cell_type": "markdown",
      "source": [
        "> Jawaban: \n",
        "\n",
        "> Menurut saya perlu dilakukan normalisasi, alasannya adalah supaya kita bisa mendapatkan hasil yang optimal. Karena dengan melakukan normalisasi, setidaknya data dapat ditangani dengan lebih baik walaupun distribusinya tidak terlalu bagus (tidak terdistribusi secara normal) dan tidak ada suatu unsur yang tidak relevan pada data yang dapat merusak atau menurunkan tingkat analisis pada data. Contohnya pada gambar diatas, dapat kita lihat bahwa data terdisribusi tidak normal (branch distribution) sehingga mungkin lebih baik kalau kita lakukan normalisasi. Normalisasi yang saya pilih adalah StandardScaler karena semua outlier sudah ditangani dan rangenya lebih luas dibandingan MinMaxScaler."
      ],
      "metadata": {
        "id": "rpXss7aMVSrl"
      }
    },
    {
      "cell_type": "markdown",
      "source": [
        "4\\. [10] Sebelum data diproses lebih lanjut lakukan *feature selection* dengan memilih beberapa fitur yang paling optimal untuk mengklasifikasikan label target!"
      ],
      "metadata": {
        "id": "SJSs0FIUZRrl"
      }
    },
    {
      "cell_type": "code",
      "source": [
        "from sklearn.feature_selection import SelectKBest\n",
        "from sklearn.feature_selection import f_classif\n",
        "\n",
        "X_raw = mobile_phone.drop([\"price_range\"],axis=1)\n",
        "y = mobile_phone[\"price_range\"]\n",
        "\n",
        "\n",
        "selector = SelectKBest(f_classif, k=7) \n",
        "\n",
        "X = selector.fit_transform(X_raw, y)\n",
        "X.shape[1]"
      ],
      "metadata": {
        "id": "BLmMRKH1iN8F",
        "colab": {
          "base_uri": "https://localhost:8080/"
        },
        "outputId": "81306b6d-11e6-4be3-bea8-ac482fbdaa9a"
      },
      "execution_count": null,
      "outputs": [
        {
          "output_type": "stream",
          "name": "stderr",
          "text": [
            "/usr/local/lib/python3.7/dist-packages/sklearn/feature_selection/_univariate_selection.py:112: UserWarning: Features [17] are constant.\n",
            "  warnings.warn(\"Features %s are constant.\" % constant_features_idx, UserWarning)\n",
            "/usr/local/lib/python3.7/dist-packages/sklearn/feature_selection/_univariate_selection.py:113: RuntimeWarning: invalid value encountered in true_divide\n",
            "  f = msb / msw\n"
          ]
        },
        {
          "output_type": "execute_result",
          "data": {
            "text/plain": [
              "7"
            ]
          },
          "metadata": {},
          "execution_count": 36
        }
      ]
    },
    {
      "cell_type": "markdown",
      "source": [
        "5\\. [6] Apa saja fitur-fitur yang terpilih hasil dari *feature selection*? Jelaskan strategi Anda dalam memilih fitur-fitur tersebut dan berikan analisis mengapa fitur tersebut cocok digunakan untuk mengklasifikasi label target!"
      ],
      "metadata": {
        "id": "cRnGaYKzYCzQ"
      }
    },
    {
      "cell_type": "code",
      "source": [
        "input_features = selector.feature_names_in_\n",
        "selector.get_feature_names_out(input_features=input_features)"
      ],
      "metadata": {
        "colab": {
          "base_uri": "https://localhost:8080/"
        },
        "id": "EgpqRVe9ODnN",
        "outputId": "2a49b878-5b73-4faf-bb80-661efcff346b"
      },
      "execution_count": null,
      "outputs": [
        {
          "output_type": "execute_result",
          "data": {
            "text/plain": [
              "array(['battery_power', 'four_g', 'int_memory', 'mobile_wt', 'px_height',\n",
              "       'px_width', 'ram'], dtype=object)"
            ]
          },
          "metadata": {},
          "execution_count": 37
        }
      ]
    },
    {
      "cell_type": "markdown",
      "source": [
        "Untuk sementara, saya akan memilih 7 fitur dengan targetnya adalah price_range. 7 gitur tersebut adalah 'battery_power', 'four_g', 'int_memory', 'mobile_wt', 'px_height','px_width', 'ram'. Alasan memilih tersebut karena berdasarkan SelectKBest"
      ],
      "metadata": {
        "id": "rxKWDH7HP3oE"
      }
    },
    {
      "cell_type": "markdown",
      "source": [
        "## [75] **Classification**"
      ],
      "metadata": {
        "id": "Zd_2N68bWAkj"
      }
    },
    {
      "cell_type": "markdown",
      "source": [
        "**Pada bagian ini Anda akan diminta untuk melakukan klasifikasi harga suatu mobile phone berdasarkan fitur-fitur yang sudah Anda pilih sebelumnya. Anda akan mencoba berbagai macam model klasifikasi seperti Decision Tree, Random Forest, Naive Bayes, dan K-nearest Neighbors untuk mencari model yang memiliki performa terbaik.**"
      ],
      "metadata": {
        "id": "avihHMUe3Wr5"
      }
    },
    {
      "cell_type": "markdown",
      "source": [
        "### [3] Preparation"
      ],
      "metadata": {
        "id": "0BU-UDpS_vux"
      }
    },
    {
      "cell_type": "markdown",
      "source": [
        "6\\. [3] Buatlah model K-Fold Cross Validation yang akan digunakan untuk membagi dataset train dan test menjadi beberapa bagian (*fold*). Strategi ini akan Anda gunakan pada semua *classifier* dibandingkan dengan strategi sebelumnya yang hanya membagi data ke dalam data training dan testing menggunakan method `train_test_split`."
      ],
      "metadata": {
        "id": "k0Rx9ijj1vxn"
      }
    },
    {
      "cell_type": "code",
      "source": [
        "from sklearn.preprocessing import StandardScaler\n",
        "from sklearn.model_selection import train_test_split\n",
        "from sklearn.model_selection import KFold\n",
        "from sklearn.model_selection import cross_val_score\n",
        "from sklearn.linear_model import LinearRegression\n",
        "from numpy import mean\n",
        "from numpy import absolute\n",
        "from numpy import sqrt\n",
        "\n",
        "#split target and feature\n",
        "target = mobile_phone['price_range']\n",
        "feature = mobile_phone[['battery_power', 'four_g', 'int_memory', 'mobile_wt', 'px_height','px_width', 'ram']]\n",
        "\n",
        "#melakukan standardscaler\n",
        "scaler = StandardScaler()\n",
        "scaled_data = scaler.fit_transform(feature)\n",
        "norm = pd.DataFrame(scaled_data, columns=feature.columns)\n",
        "mobile_phone_classification = pd.concat([norm.reset_index(drop=True), target.reset_index(drop=True)], axis=1)\n",
        "\n",
        "X_mobile_phone_classification = mobile_phone_classification.drop(['price_range'], axis=1)\n",
        "y_mobile_phone_classification = mobile_phone_classification['price_range']\n",
        "\n",
        "cv = KFold(n_splits=10, random_state=1, shuffle=True)\n",
        "\n",
        "model = LinearRegression()\n",
        "\n",
        "#use k-fold CV to evaluate model\n",
        "scores = cross_val_score(model, X_mobile_phone_classification, y_mobile_phone_classification)\n",
        "\n",
        "print(mean(absolute(scores)))"
      ],
      "metadata": {
        "id": "OH_X8ztTiPNk",
        "colab": {
          "base_uri": "https://localhost:8080/"
        },
        "outputId": "158ab9fe-6600-4e4d-eddc-b0180ab644b2"
      },
      "execution_count": null,
      "outputs": [
        {
          "output_type": "stream",
          "name": "stdout",
          "text": [
            "0.9099662719348354\n"
          ]
        }
      ]
    },
    {
      "cell_type": "code",
      "source": [
        "from sklearn.metrics import accuracy_score, precision_score, f1_score, recall_score, classification_report, silhouette_score, mean_squared_error ,mean_absolute_error, r2_score, make_scorer, roc_auc_score, ConfusionMatrixDisplay\n",
        "\n",
        "X_train,X_test,y_train,y_test=train_test_split(X_mobile_phone_classification,y_mobile_phone_classification,test_size=0.2,random_state=123)\n",
        "\n",
        "def evaluate_classifier_performance(classifier, prediction, y_test = y_test):\n",
        "    # Informasi evaluasi secara compact\n",
        "    print(\"Hasil Evaluasi:\\n\\n%s\\n\" % (classification_report(y_test, classifier.predict(X_test))))\n",
        "\n",
        "    # Butuh informasi lebih lengkap? silakan disimak di bawah ini\n",
        "    print('Accuracy:', accuracy_score(y_test, prediction))\n",
        "    print('Precision Macro Average:', precision_score(y_test, prediction, average='macro'))\n",
        "    print('Precision Micro Average:', precision_score(y_test, prediction, average='micro'))\n",
        "    print('Recall Macro Average:', recall_score(y_test, prediction, average='macro'))\n",
        "    print('Recall Micro Average:', recall_score(y_test, prediction, average='micro'))\n",
        "    print('F1 Macro Average:', f1_score(y_test, prediction, average='macro'))\n",
        "    print('F1 Micro Average:', f1_score(y_test, prediction, average='micro'))\n",
        "\n",
        "    # Confusion Matrix\n",
        "    print(\"\\n\\nConfusion Matrix\\n\")\n",
        "    ConfusionMatrixDisplay.from_estimator(classifier, X_test, y_test)"
      ],
      "metadata": {
        "id": "z-BL5ZBMD7Y2"
      },
      "execution_count": null,
      "outputs": []
    },
    {
      "cell_type": "markdown",
      "source": [
        "### [19] Decision Tree"
      ],
      "metadata": {
        "id": "9inMOAFxW3Uh"
      }
    },
    {
      "cell_type": "markdown",
      "source": [
        "7\\. [4] Implementasikan model Decision Tree tanpa konfigurasi parameter apapun, serta berikan hasil evaluasinya!"
      ],
      "metadata": {
        "id": "1mm499viX-M0"
      }
    },
    {
      "cell_type": "code",
      "source": [
        "from sklearn.tree import DecisionTreeClassifier, plot_tree\n",
        "\n",
        "classifier_dt = DecisionTreeClassifier(max_depth = 10, random_state = 2021)\n",
        "classifier_dt.fit(X_train, y_train)\n",
        "prediction_dt = classifier_dt.predict(X_test)"
      ],
      "metadata": {
        "id": "yrTlpXM1iPjm"
      },
      "execution_count": null,
      "outputs": []
    },
    {
      "cell_type": "code",
      "source": [
        "evaluate_classifier_performance(classifier_dt, prediction_dt)"
      ],
      "metadata": {
        "colab": {
          "base_uri": "https://localhost:8080/",
          "height": 739
        },
        "id": "xXqtqDS4V1xZ",
        "outputId": "e8fa622f-a8d2-4fbc-e89c-67e7d1cd1a27"
      },
      "execution_count": null,
      "outputs": [
        {
          "output_type": "stream",
          "name": "stdout",
          "text": [
            "Hasil Evaluasi:\n",
            "\n",
            "              precision    recall  f1-score   support\n",
            "\n",
            "           0       0.84      0.78      0.81        41\n",
            "           1       0.74      0.78      0.76        58\n",
            "           2       0.69      0.80      0.74        46\n",
            "           3       0.96      0.82      0.88        55\n",
            "\n",
            "    accuracy                           0.80       200\n",
            "   macro avg       0.81      0.79      0.80       200\n",
            "weighted avg       0.81      0.80      0.80       200\n",
            "\n",
            "\n",
            "Accuracy: 0.795\n",
            "Precision Macro Average: 0.8056105437216263\n",
            "Precision Micro Average: 0.795\n",
            "Recall Macro Average: 0.7947198795280852\n",
            "Recall Micro Average: 0.795\n",
            "F1 Macro Average: 0.7971955111158388\n",
            "F1 Micro Average: 0.795\n",
            "\n",
            "\n",
            "Confusion Matrix\n",
            "\n"
          ]
        },
        {
          "output_type": "display_data",
          "data": {
            "text/plain": [
              "<Figure size 432x288 with 2 Axes>"
            ],
            "image/png": "[encoded data removed]"
          },
          "metadata": {
            "needs_background": "light"
          }
        }
      ]
    },
    {
      "cell_type": "markdown",
      "source": [
        "8\\. [4] Implementasikan model Decision Tree dengan memberikan parameter nilai `min_samples_leaf=50`; serta berikan hasil evaluasinya!"
      ],
      "metadata": {
        "id": "xv7Fru2ebkZb"
      }
    },
    {
      "cell_type": "code",
      "source": [
        "classifier_dt = DecisionTreeClassifier(max_depth = 10, random_state = 2021, min_samples_leaf=5)\n",
        "classifier_dt.fit(X_train, y_train)\n",
        "prediction_dt = classifier_dt.predict(X_test)\n",
        "evaluate_classifier_performance(classifier_dt, prediction_dt)"
      ],
      "metadata": {
        "id": "7Ll1nIE2iP6A",
        "colab": {
          "base_uri": "https://localhost:8080/",
          "height": 735
        },
        "outputId": "561854d5-9e66-4908-80e2-db37ee5ef02f"
      },
      "execution_count": null,
      "outputs": [
        {
          "output_type": "stream",
          "name": "stdout",
          "text": [
            "Hasil Evaluasi:\n",
            "\n",
            "              precision    recall  f1-score   support\n",
            "\n",
            "           0       0.86      0.73      0.79        41\n",
            "           1       0.73      0.83      0.77        58\n",
            "           2       0.77      0.80      0.79        46\n",
            "           3       0.96      0.89      0.92        55\n",
            "\n",
            "    accuracy                           0.82       200\n",
            "   macro avg       0.83      0.81      0.82       200\n",
            "weighted avg       0.83      0.82      0.82       200\n",
            "\n",
            "\n",
            "Accuracy: 0.82\n",
            "Precision Macro Average: 0.829008307868602\n",
            "Precision Micro Average: 0.82\n",
            "Recall Macro Average: 0.8136376102414424\n",
            "Recall Micro Average: 0.82\n",
            "F1 Macro Average: 0.8188573942594017\n",
            "F1 Micro Average: 0.82\n",
            "\n",
            "\n",
            "Confusion Matrix\n",
            "\n"
          ]
        },
        {
          "output_type": "display_data",
          "data": {
            "text/plain": [
              "<Figure size 432x288 with 2 Axes>"
            ],
            "image/png": "[encoded data removed]"
          },
          "metadata": {
            "needs_background": "light"
          }
        }
      ]
    },
    {
      "cell_type": "code",
      "source": [
        "# https://medium.com/analytics-vidhya/evaluation-metrics-for-regression-models-c91c65d73af\n",
        "from sklearn.metrics import mean_absolute_error, mean_squared_error, r2_score\n",
        "def metrics(prediction):\n",
        "    MAE = mean_absolute_error(y_test, prediction)\n",
        "    MSE = mean_squared_error(y_test, prediction)\n",
        "    RMSE = np.sqrt(MSE)\n",
        "    R_squared = r2_score(y_test, prediction)\n",
        "\n",
        "    print('MAE: ' + str(MAE))\n",
        "    print('MSE: ' + str(MSE))\n",
        "    print('RMSE: ' + str(RMSE))\n",
        "    print('R_squared: ' + str(R_squared))"
      ],
      "metadata": {
        "id": "kCr_0i1x60VB"
      },
      "execution_count": null,
      "outputs": []
    },
    {
      "cell_type": "code",
      "source": [
        "metrics(prediction_dt)"
      ],
      "metadata": {
        "colab": {
          "base_uri": "https://localhost:8080/"
        },
        "id": "tsoKopTp6kOv",
        "outputId": "1f2dbec0-1ca7-4d03-e09b-f2a95fc5a68d"
      },
      "execution_count": null,
      "outputs": [
        {
          "output_type": "stream",
          "name": "stdout",
          "text": [
            "MAE: 0.18\n",
            "MSE: 0.18\n",
            "RMSE: 0.4242640687119285\n",
            "R_squared: 0.8505448884276077\n"
          ]
        }
      ]
    },
    {
      "cell_type": "markdown",
      "source": [
        "9\\. [6] Bandingkan model yang dibuat pada soal nomor 7 dan nomor 8, manakah yang lebih baik? Berikan analisis Anda terkait bagaimana hubungan perubahan parameter tersebut dengan kualitas hasil klasifikasi!"
      ],
      "metadata": {
        "id": "q90rtM8MdnGU"
      }
    },
    {
      "cell_type": "markdown",
      "source": [
        "> Jawaban: \n",
        "\n",
        "> Ketika menambahkan parameter min_samples_leaf=50 hasil akurasinya meningkat menjadi 0.82 dari yang sebelumnya 0.795"
      ],
      "metadata": {
        "id": "oikaDKV0dnGV"
      }
    },
    {
      "cell_type": "markdown",
      "source": [
        "10\\. [5] Buatlah model yang memiliki performa yang lebih bagus dibanding kedua model sebelumnya! Anda dibebaskan untuk melakukan eksplorasi dalam mengkonfigurasi parameter yang dipakai."
      ],
      "metadata": {
        "id": "H3811o_r3W2T"
      }
    },
    {
      "cell_type": "code",
      "source": [
        "classifier_dt = DecisionTreeClassifier(max_depth = 10, random_state = 2021, min_samples_leaf=10, criterion='gini', splitter='best')\n",
        "classifier_dt.fit(X_train, y_train)\n",
        "prediction_dt = classifier_dt.predict(X_test)\n",
        "evaluate_classifier_performance(classifier_dt, prediction_dt)"
      ],
      "metadata": {
        "id": "fAjKvo8yiRQB",
        "colab": {
          "base_uri": "https://localhost:8080/",
          "height": 735
        },
        "outputId": "dfe4ec6c-fbe8-4b88-c58a-414c09ecc280"
      },
      "execution_count": null,
      "outputs": [
        {
          "output_type": "stream",
          "name": "stdout",
          "text": [
            "Hasil Evaluasi:\n",
            "\n",
            "              precision    recall  f1-score   support\n",
            "\n",
            "           0       0.89      0.80      0.85        41\n",
            "           1       0.80      0.83      0.81        58\n",
            "           2       0.73      0.87      0.79        46\n",
            "           3       0.96      0.84      0.89        55\n",
            "\n",
            "    accuracy                           0.83       200\n",
            "   macro avg       0.84      0.83      0.84       200\n",
            "weighted avg       0.85      0.83      0.84       200\n",
            "\n",
            "\n",
            "Accuracy: 0.835\n",
            "Precision Macro Average: 0.8443744881244882\n",
            "Precision Micro Average: 0.835\n",
            "Recall Macro Average: 0.8345982773579951\n",
            "Recall Micro Average: 0.835\n",
            "F1 Macro Average: 0.8362490649009205\n",
            "F1 Micro Average: 0.835\n",
            "\n",
            "\n",
            "Confusion Matrix\n",
            "\n"
          ]
        },
        {
          "output_type": "display_data",
          "data": {
            "text/plain": [
              "<Figure size 432x288 with 2 Axes>"
            ],
            "image/png": "[encoded data removed]"
          },
          "metadata": {
            "needs_background": "light"
          }
        }
      ]
    },
    {
      "cell_type": "code",
      "source": [
        "metrics(prediction_dt)"
      ],
      "metadata": {
        "colab": {
          "base_uri": "https://localhost:8080/"
        },
        "id": "LO3aki5J7Jcx",
        "outputId": "1d391bdd-8331-4200-f50c-26b1ccf070f2"
      },
      "execution_count": null,
      "outputs": [
        {
          "output_type": "stream",
          "name": "stdout",
          "text": [
            "MAE: 0.165\n",
            "MSE: 0.165\n",
            "RMSE: 0.406201920231798\n",
            "R_squared: 0.8629994810586403\n"
          ]
        }
      ]
    },
    {
      "cell_type": "markdown",
      "source": [
        "### [18] Random Forest"
      ],
      "metadata": {
        "id": "4Qzu0GmLXLF8"
      }
    },
    {
      "cell_type": "markdown",
      "source": [
        "11\\. [4] Implementasikan model Random Forest tanpa konfigurasi parameter apapun, serta berikan hasil evaluasinya!"
      ],
      "metadata": {
        "id": "XX-Fw5IKuGW1"
      }
    },
    {
      "cell_type": "code",
      "source": [
        "from sklearn.ensemble import RandomForestRegressor\n",
        "\n",
        "# Melakukan training pada model random forest\n",
        "rf_md = RandomForestRegressor()\n",
        "rf_md.fit(X_train, y_train)\n",
        "\n",
        "# Memprediksi data testing\n",
        "predicted_rf = rf_md.predict(X_test)\n",
        "\n",
        "# Menampilkan metrics\n",
        "metrics(predicted_rf)"
      ],
      "metadata": {
        "id": "7bdchBYiiR36",
        "colab": {
          "base_uri": "https://localhost:8080/"
        },
        "outputId": "27218057-3073-4685-d157-087c40933b88"
      },
      "execution_count": null,
      "outputs": [
        {
          "output_type": "stream",
          "name": "stdout",
          "text": [
            "MAE: 0.18189999999999998\n",
            "MSE: 0.08017999999999999\n",
            "RMSE: 0.28316073174082595\n",
            "R_squared: 0.9334260508562533\n"
          ]
        }
      ]
    },
    {
      "cell_type": "markdown",
      "source": [
        "12\\. [8] Implementasikan model Random Forest dengan parameter yang didapatkan dari hasil Hyperparameter Tuning, serta berikan hasil evaluasinya!"
      ],
      "metadata": {
        "id": "xtJr-aswuQpO"
      }
    },
    {
      "cell_type": "code",
      "source": [
        "from sklearn.model_selection import GridSearchCV\n",
        "param_grid = {'criterion': ['squared_error', 'friedman_mse', 'absolute_error'],\n",
        "               'min_samples_split': [1,2,3],\n",
        "              'max_depth' : [7,10]}\n",
        "\n",
        "rf = RandomForestRegressor()\n",
        "\n",
        "hyper_rf_md = GridSearchCV(estimator= rf, \n",
        "                   param_grid=param_grid, cv= 10)\n",
        "\n",
        "hyper_rf_md.fit(X_train, y_train)"
      ],
      "metadata": {
        "id": "5HFjrTD2iSnU",
        "colab": {
          "base_uri": "https://localhost:8080/"
        },
        "outputId": "d63e6d29-83d1-4e84-b0aa-9b3f4d31205c"
      },
      "execution_count": null,
      "outputs": [
        {
          "output_type": "stream",
          "name": "stderr",
          "text": [
            "/usr/local/lib/python3.7/dist-packages/sklearn/model_selection/_validation.py:372: FitFailedWarning: \n",
            "60 fits failed out of a total of 180.\n",
            "The score on these train-test partitions for these parameters will be set to nan.\n",
            "If these failures are not expected, you can try to debug them by setting error_score='raise'.\n",
            "\n",
            "Below are more details about the failures:\n",
            "--------------------------------------------------------------------------------\n",
            "60 fits failed with the following error:\n",
            "Traceback (most recent call last):\n",
            "  File \"/usr/local/lib/python3.7/dist-packages/sklearn/model_selection/_validation.py\", line 680, in _fit_and_score\n",
            "    estimator.fit(X_train, y_train, **fit_params)\n",
            "  File \"/usr/local/lib/python3.7/dist-packages/sklearn/ensemble/_forest.py\", line 467, in fit\n",
            "    for i, t in enumerate(trees)\n",
            "  File \"/usr/local/lib/python3.7/dist-packages/joblib/parallel.py\", line 1085, in __call__\n",
            "    if self.dispatch_one_batch(iterator):\n",
            "  File \"/usr/local/lib/python3.7/dist-packages/joblib/parallel.py\", line 901, in dispatch_one_batch\n",
            "    self._dispatch(tasks)\n",
            "  File \"/usr/local/lib/python3.7/dist-packages/joblib/parallel.py\", line 819, in _dispatch\n",
            "    job = self._backend.apply_async(batch, callback=cb)\n",
            "  File \"/usr/local/lib/python3.7/dist-packages/joblib/_parallel_backends.py\", line 208, in apply_async\n",
            "    result = ImmediateResult(func)\n",
            "  File \"/usr/local/lib/python3.7/dist-packages/joblib/_parallel_backends.py\", line 597, in __init__\n",
            "    self.results = batch()\n",
            "  File \"/usr/local/lib/python3.7/dist-packages/joblib/parallel.py\", line 289, in __call__\n",
            "    for func, args, kwargs in self.items]\n",
            "  File \"/usr/local/lib/python3.7/dist-packages/joblib/parallel.py\", line 289, in <listcomp>\n",
            "    for func, args, kwargs in self.items]\n",
            "  File \"/usr/local/lib/python3.7/dist-packages/sklearn/utils/fixes.py\", line 216, in __call__\n",
            "    return self.function(*args, **kwargs)\n",
            "  File \"/usr/local/lib/python3.7/dist-packages/sklearn/ensemble/_forest.py\", line 185, in _parallel_build_trees\n",
            "    tree.fit(X, y, sample_weight=curr_sample_weight, check_input=False)\n",
            "  File \"/usr/local/lib/python3.7/dist-packages/sklearn/tree/_classes.py\", line 1320, in fit\n",
            "    X_idx_sorted=X_idx_sorted,\n",
            "  File \"/usr/local/lib/python3.7/dist-packages/sklearn/tree/_classes.py\", line 254, in fit\n",
            "    % self.min_samples_split\n",
            "ValueError: min_samples_split must be an integer greater than 1 or a float in (0.0, 1.0]; got the integer 1\n",
            "\n",
            "  warnings.warn(some_fits_failed_message, FitFailedWarning)\n",
            "/usr/local/lib/python3.7/dist-packages/sklearn/model_selection/_search.py:972: UserWarning: One or more of the test scores are non-finite: [       nan 0.93202994 0.93349084        nan 0.9348023  0.93471824\n",
            "        nan 0.93297271 0.93279378        nan 0.93425622 0.93439192\n",
            "        nan 0.863063   0.86353614        nan 0.87990715 0.88086744]\n",
            "  category=UserWarning,\n"
          ]
        },
        {
          "output_type": "execute_result",
          "data": {
            "text/plain": [
              "GridSearchCV(cv=10, estimator=RandomForestRegressor(),\n",
              "             param_grid={'criterion': ['squared_error', 'friedman_mse',\n",
              "                                       'absolute_error'],\n",
              "                         'max_depth': [7, 10], 'min_samples_split': [1, 2, 3]})"
            ]
          },
          "metadata": {},
          "execution_count": 186
        }
      ]
    },
    {
      "cell_type": "code",
      "source": [
        "hyper_rf_md.best_params_"
      ],
      "metadata": {
        "colab": {
          "base_uri": "https://localhost:8080/"
        },
        "id": "7cOmQ5HTXKwj",
        "outputId": "8cfa7ec9-641c-47d7-bedd-4bbba82fabc5"
      },
      "execution_count": null,
      "outputs": [
        {
          "output_type": "execute_result",
          "data": {
            "text/plain": [
              "{'criterion': 'squared_error', 'max_depth': 10, 'min_samples_split': 2}"
            ]
          },
          "metadata": {},
          "execution_count": 202
        }
      ]
    },
    {
      "cell_type": "code",
      "source": [
        "best = RandomForestRegressor(**hyper_rf_md.best_params_)\n",
        "best.fit(X_train, y_train)\n",
        "predicted = best.predict(X_test)\n",
        "metrics(predicted)"
      ],
      "metadata": {
        "colab": {
          "base_uri": "https://localhost:8080/"
        },
        "id": "_CZujZ8WW9hk",
        "outputId": "5b0e66cd-9544-476d-cb5d-d503fd0c6387"
      },
      "execution_count": null,
      "outputs": [
        {
          "output_type": "stream",
          "name": "stdout",
          "text": [
            "MAE: 0.18214137849079026\n",
            "MSE: 0.0788775446527866\n",
            "RMSE: 0.28085146368282754\n",
            "R_squared: 0.9345074875742301\n"
          ]
        }
      ]
    },
    {
      "cell_type": "markdown",
      "source": [
        "13\\. [6] Bandingkan model yang dibuat pada soal nomor 11 dan nomor 12, manakah yang lebih baik? Berikan analisis Anda terkait bagaimana hubungan perubahan parameter tersebut dengan kualitas hasil klasifikasi!"
      ],
      "metadata": {
        "id": "m9q2bUyML9IO"
      }
    },
    {
      "cell_type": "markdown",
      "source": [
        "> Jawaban: \n",
        "\n",
        "> Dari semua percobaan yang saya lakukan (mengganti beberapa kali parameter di paramgrod) hasilnya masih belum ada yang lebih baik dari yang dihasilkan di nomor 11. Menurut saya, hal tersebut dikarenakan mungkin saja karena pada nomor 12 saya belum menemukan parameter seperti apa yang bisa dimasukkan pada paramgrid yang bisa mengalahkan (hasilnya di MAE lebih rendah) hasil di nomor 11\n"
      ],
      "metadata": {
        "id": "-Z8ISug7fR7X"
      }
    },
    {
      "cell_type": "markdown",
      "source": [
        "### [16] Naive Bayes"
      ],
      "metadata": {
        "id": "GYjdBnEGXLSt"
      }
    },
    {
      "cell_type": "markdown",
      "source": [
        "14\\. [4] Implementasikan model dari salah satu variasi Naive Bayes; serta berikan hasil evaluasinya!"
      ],
      "metadata": {
        "id": "Ye29g1MxZC8X"
      }
    },
    {
      "cell_type": "code",
      "source": [
        "def plot_imbalance_checker(df,columns):\n",
        "  df[columns].value_counts().plot(kind='bar', xlabel='Status', ylabel='frequency', figsize=(10,5))\n",
        "  plt.show()"
      ],
      "metadata": {
        "id": "ekaf-eMsiTZ_"
      },
      "execution_count": null,
      "outputs": []
    },
    {
      "cell_type": "code",
      "source": [
        "plot_imbalance_checker(mobile_phone,\"price_range\")"
      ],
      "metadata": {
        "colab": {
          "base_uri": "https://localhost:8080/",
          "height": 330
        },
        "id": "8ekRCO9Qir5t",
        "outputId": "a99bd2dd-9e67-43ba-923a-7a0dd68901a5"
      },
      "execution_count": null,
      "outputs": [
        {
          "output_type": "display_data",
          "data": {
            "text/plain": [
              "<Figure size 720x360 with 1 Axes>"
            ],
            "image/png": "[encoded data removed]"
          },
          "metadata": {
            "needs_background": "light"
          }
        }
      ]
    },
    {
      "cell_type": "code",
      "source": [
        "from sklearn.preprocessing import MinMaxScaler\n",
        "\n",
        "scaler = MinMaxScaler()\n",
        "X_train_scaled = scaler.fit_transform(X_train) \n",
        "X_test_scaled = scaler.transform(X_test)\n",
        "\n",
        "multi_nb = MultinomialNB()\n",
        "multi_nb.fit(X_train_scaled, y_train)\n",
        "\n",
        "y_pred = multi_nb.predict(X_test_scaled)\n",
        "\n",
        "metrics(y_pred)"
      ],
      "metadata": {
        "colab": {
          "base_uri": "https://localhost:8080/"
        },
        "id": "sjbHLDhEjH3p",
        "outputId": "f84c321b-33d3-4dd9-adb3-69f9a111dffe"
      },
      "execution_count": null,
      "outputs": [
        {
          "output_type": "stream",
          "name": "stdout",
          "text": [
            "MAE: 0.545\n",
            "MSE: 0.735\n",
            "RMSE: 0.8573214099741123\n",
            "R_squared: 0.389724961079398\n"
          ]
        }
      ]
    },
    {
      "cell_type": "markdown",
      "source": [
        "15\\. [6] Apa alasan dan pertimbangan Anda dalam memilih variasi tersebut dibandingkan variasi Naive Bayes lainnya? "
      ],
      "metadata": {
        "id": "xsWO4hMrjuAe"
      }
    },
    {
      "cell_type": "markdown",
      "source": [
        "> Jawaban:\n",
        "\n",
        "> Karena jika dibandingan categoricalNB, data yang ingin diolah saat ini bukan merupakan tipe data kategorikal. Kemudian saya rasa juga nilai dari datanya tidak terdistribusi secara binary (sehingga tidak menggunakan bernoulliNB) serta jika kita lihat dia juga tidak terdistribusi secara normal bila kita lihat di bagian atas (sehingga tidak menggunakan gaussian). Selain itu, bila kita lihat juga dari fungsi yang saya jalankan (plot_imbalance_checker) masih ada data imbalance, sehingga kurang bagus kalau kita menggunakan complementDB"
      ],
      "metadata": {
        "id": "ouWhbqaHiZd4"
      }
    },
    {
      "cell_type": "markdown",
      "source": [
        "16\\. [6] Masing-masing variasi Naive Bayes dibuat khusus untuk menyesuaikan tipe data tertentu pada data yang digunakan. Jika data yang ada memiliki tipe fitur yang bervariasi (numerik, biner, kategorik, dll), apakah kita bisa menggunakan salah satu variasi algoritma saja? Bagaimana strategi Anda dalam menganani kasus tersebut?"
      ],
      "metadata": {
        "id": "VsSeCbX4F47y"
      }
    },
    {
      "cell_type": "markdown",
      "source": [
        "> Jawaban:\n",
        "\n",
        "> Mungkin saya dapat melakukan pertama adalah encoding untuk data yang kategorik, kemudian melakukan uniform atau SMOTEN untuk data yang imbalance. Kemudian untuk data yang tidak binary dan yang binary mungkin kita dapat melakukan variasi algoritma (lebih dari satu) misalnya menggunakan bernoulliNB bila ingin mengolah data yang sifatnya binary bila dibutuhkan dan menggunakan complementNB atau multinomialNB (bisa menggunakan complementNB dengan asusmsi data imbalance sudah ditangani) untuk yang bukan binary"
      ],
      "metadata": {
        "id": "Ke7dIWhXGctn"
      }
    },
    {
      "cell_type": "markdown",
      "source": [
        "### [12] K-nearest Neighbors"
      ],
      "metadata": {
        "id": "fgcOGrgNXLOb"
      }
    },
    {
      "cell_type": "markdown",
      "source": [
        "17\\. [4] Implementasikan model KNN dengan memberikan parameter nilai `n_neighbors=3`; serta berikan hasil evaluasinya!"
      ],
      "metadata": {
        "id": "t8rTVurcyq6H"
      }
    },
    {
      "cell_type": "code",
      "source": [
        "# import KNN\n",
        "from sklearn.neighbors import KNeighborsClassifier\n",
        "\n",
        "KNN = KNeighborsClassifier(n_neighbors=3) # kita akan menggunakan nilai 5 untuk k terlebih dahulu\n",
        "KNN.fit(X_train,y_train)"
      ],
      "metadata": {
        "id": "iBgt6hlliUKa",
        "colab": {
          "base_uri": "https://localhost:8080/"
        },
        "outputId": "393e574f-555f-4905-a2b0-1ea343299d46"
      },
      "execution_count": null,
      "outputs": [
        {
          "output_type": "execute_result",
          "data": {
            "text/plain": [
              "KNeighborsClassifier(n_neighbors=3)"
            ]
          },
          "metadata": {},
          "execution_count": 179
        }
      ]
    },
    {
      "cell_type": "code",
      "source": [
        "y_pred = KNN.predict(X_test)\n",
        "evaluate_classifier_performance(y_pred,y_test)"
      ],
      "metadata": {
        "colab": {
          "base_uri": "https://localhost:8080/",
          "height": 698
        },
        "id": "RRAJorjvxc-X",
        "outputId": "a28818b5-d8cb-48c3-8696-1eb0a9628bf5"
      },
      "execution_count": null,
      "outputs": [
        {
          "output_type": "stream",
          "name": "stdout",
          "text": [
            "Hasil Evaluasi berdasarkan classification report \n",
            "\n",
            "              precision    recall  f1-score   support\n",
            "\n",
            "           0       0.74      0.76      0.75        41\n",
            "           1       0.57      0.53      0.55        58\n",
            "           2       0.50      0.63      0.56        46\n",
            "           3       0.93      0.78      0.85        55\n",
            "\n",
            "    accuracy                           0.67       200\n",
            "   macro avg       0.69      0.68      0.68       200\n",
            "weighted avg       0.69      0.67      0.68       200\n",
            "\n",
            "\n",
            "\n",
            "Confusion Matrix\n",
            "\n"
          ]
        },
        {
          "output_type": "display_data",
          "data": {
            "text/plain": [
              "prediction   0   1   2   3\n",
              "actual                    \n",
              "0           31   8   2   0\n",
              "1           11  31  16   0\n",
              "2            0  14  29   3\n",
              "3            0   1  11  43"
            ],
            "text/html": [
              "\n",
              "  <div id=\"df-5342ec1f-4430-4c08-800a-6c88d73ddb66\">\n",
              "    <div class=\"colab-df-container\">\n",
              "      <div>\n",
              "<style scoped>\n",
              "    .dataframe tbody tr th:only-of-type {\n",
              "        vertical-align: middle;\n",
              "    }\n",
              "\n",
              "    .dataframe tbody tr th {\n",
              "        vertical-align: top;\n",
              "    }\n",
              "\n",
              "    .dataframe thead th {\n",
              "        text-align: right;\n",
              "    }\n",
              "</style>\n",
              "<table border=\"1\" class=\"dataframe\">\n",
              "  <thead>\n",
              "    <tr style=\"text-align: right;\">\n",
              "      <th>prediction</th>\n",
              "      <th>0</th>\n",
              "      <th>1</th>\n",
              "      <th>2</th>\n",
              "      <th>3</th>\n",
              "    </tr>\n",
              "    <tr>\n",
              "      <th>actual</th>\n",
              "      <th></th>\n",
              "      <th></th>\n",
              "      <th></th>\n",
              "      <th></th>\n",
              "    </tr>\n",
              "  </thead>\n",
              "  <tbody>\n",
              "    <tr>\n",
              "      <th>0</th>\n",
              "      <td>31</td>\n",
              "      <td>8</td>\n",
              "      <td>2</td>\n",
              "      <td>0</td>\n",
              "    </tr>\n",
              "    <tr>\n",
              "      <th>1</th>\n",
              "      <td>11</td>\n",
              "      <td>31</td>\n",
              "      <td>16</td>\n",
              "      <td>0</td>\n",
              "    </tr>\n",
              "    <tr>\n",
              "      <th>2</th>\n",
              "      <td>0</td>\n",
              "      <td>14</td>\n",
              "      <td>29</td>\n",
              "      <td>3</td>\n",
              "    </tr>\n",
              "    <tr>\n",
              "      <th>3</th>\n",
              "      <td>0</td>\n",
              "      <td>1</td>\n",
              "      <td>11</td>\n",
              "      <td>43</td>\n",
              "    </tr>\n",
              "  </tbody>\n",
              "</table>\n",
              "</div>\n",
              "      <button class=\"colab-df-convert\" onclick=\"convertToInteractive('df-5342ec1f-4430-4c08-800a-6c88d73ddb66')\"\n",
              "              title=\"Convert this dataframe to an interactive table.\"\n",
              "              style=\"display:none;\">\n",
              "        \n",
              "  <svg xmlns=\"http://www.w3.org/2000/svg\" height=\"24px\"viewBox=\"0 0 24 24\"\n",
              "       width=\"24px\">\n",
              "    <path d=\"M0 0h24v24H0V0z\" fill=\"none\"/>\n",
              "    <path d=\"M18.56 5.44l.94 2.06.94-2.06 2.06-.94-2.06-.94-.94-2.06-.94 2.06-2.06.94zm-11 1L8.5 8.5l.94-2.06 2.06-.94-2.06-.94L8.5 2.5l-.94 2.06-2.06.94zm10 10l.94 2.06.94-2.06 2.06-.94-2.06-.94-.94-2.06-.94 2.06-2.06.94z\"/><path d=\"M17.41 7.96l-1.37-1.37c-.4-.4-.92-.59-1.43-.59-.52 0-1.04.2-1.43.59L10.3 9.45l-7.72 7.72c-.78.78-.78 2.05 0 2.83L4 21.41c.39.39.9.59 1.41.59.51 0 1.02-.2 1.41-.59l7.78-7.78 2.81-2.81c.8-.78.8-2.07 0-2.86zM5.41 20L4 18.59l7.72-7.72 1.47 1.35L5.41 20z\"/>\n",
              "  </svg>\n",
              "      </button>\n",
              "      \n",
              "  <style>\n",
              "    .colab-df-container {\n",
              "      display:flex;\n",
              "      flex-wrap:wrap;\n",
              "      gap: 12px;\n",
              "    }\n",
              "\n",
              "    .colab-df-convert {\n",
              "      background-color: #E8F0FE;\n",
              "      border: none;\n",
              "      border-radius: 50%;\n",
              "      cursor: pointer;\n",
              "      display: none;\n",
              "      fill: #1967D2;\n",
              "      height: 32px;\n",
              "      padding: 0 0 0 0;\n",
              "      width: 32px;\n",
              "    }\n",
              "\n",
              "    .colab-df-convert:hover {\n",
              "      background-color: #E2EBFA;\n",
              "      box-shadow: 0px 1px 2px rgba(60, 64, 67, 0.3), 0px 1px 3px 1px rgba(60, 64, 67, 0.15);\n",
              "      fill: #174EA6;\n",
              "    }\n",
              "\n",
              "    [theme=dark] .colab-df-convert {\n",
              "      background-color: #3B4455;\n",
              "      fill: #D2E3FC;\n",
              "    }\n",
              "\n",
              "    [theme=dark] .colab-df-convert:hover {\n",
              "      background-color: #434B5C;\n",
              "      box-shadow: 0px 1px 3px 1px rgba(0, 0, 0, 0.15);\n",
              "      filter: drop-shadow(0px 1px 2px rgba(0, 0, 0, 0.3));\n",
              "      fill: #FFFFFF;\n",
              "    }\n",
              "  </style>\n",
              "\n",
              "      <script>\n",
              "        const buttonEl =\n",
              "          document.querySelector('#df-5342ec1f-4430-4c08-800a-6c88d73ddb66 button.colab-df-convert');\n",
              "        buttonEl.style.display =\n",
              "          google.colab.kernel.accessAllowed ? 'block' : 'none';\n",
              "\n",
              "        async function convertToInteractive(key) {\n",
              "          const element = document.querySelector('#df-5342ec1f-4430-4c08-800a-6c88d73ddb66');\n",
              "          const dataTable =\n",
              "            await google.colab.kernel.invokeFunction('convertToInteractive',\n",
              "                                                     [key], {});\n",
              "          if (!dataTable) return;\n",
              "\n",
              "          const docLinkHtml = 'Like what you see? Visit the ' +\n",
              "            '<a target=\"_blank\" href=https://colab.research.google.com/notebooks/data_table.ipynb>data table notebook</a>'\n",
              "            + ' to learn more about interactive tables.';\n",
              "          element.innerHTML = '';\n",
              "          dataTable['output_type'] = 'display_data';\n",
              "          await google.colab.output.renderOutput(dataTable, element);\n",
              "          const docLink = document.createElement('div');\n",
              "          docLink.innerHTML = docLinkHtml;\n",
              "          element.appendChild(docLink);\n",
              "        }\n",
              "      </script>\n",
              "    </div>\n",
              "  </div>\n",
              "  "
            ]
          },
          "metadata": {}
        },
        {
          "output_type": "stream",
          "name": "stdout",
          "text": [
            "\n",
            "\n",
            "Butuh informasi lebih lengkap? silakan simak di bawah ini : \n",
            "F1 Macro Average: 0.6774342091464542\n",
            "F1 Micro Average: 0.67\n",
            "Precision Macro Average: 0.6867379802162411\n",
            "Precision Micro Average: 0.67\n",
            "Recall Macro Average: 0.6757083210057943\n",
            "Recall Micro Average: 0.67\n",
            "\n"
          ]
        }
      ]
    },
    {
      "cell_type": "code",
      "source": [
        "metrics(y_pred)"
      ],
      "metadata": {
        "colab": {
          "base_uri": "https://localhost:8080/"
        },
        "id": "q2jE6L8g6IGn",
        "outputId": "db963a0d-6866-481b-f132-44f977147ae5"
      },
      "execution_count": null,
      "outputs": [
        {
          "output_type": "stream",
          "name": "stdout",
          "text": [
            "MAE: 0.345\n",
            "MSE: 0.375\n",
            "RMSE: 0.6123724356957945\n",
            "R_squared: 0.6886351842241827\n"
          ]
        }
      ]
    },
    {
      "cell_type": "markdown",
      "source": [
        "18\\. [8] Implementasikan model KNN dengan parameter yang didapatkan dari hasil Hyperparameter Tuning, serta berikan hasil evaluasinya!"
      ],
      "metadata": {
        "id": "Uqj3bKgDzP71"
      }
    },
    {
      "cell_type": "code",
      "source": [
        "# Optimalisasi KNN dengan gridsearch CV\n",
        "\n",
        "# import Grid Search CV\n",
        "from sklearn.model_selection import GridSearchCV\n",
        "\n",
        "model = KNeighborsClassifier()\n",
        "\n",
        "# parameter yang akan di tunning\n",
        "tunned_params = [\n",
        "  { \n",
        "    'n_neighbors': [1,2,3,4,5]\n",
        "  } \n",
        "]\n",
        "\n",
        "print(\"##### Tuning hyper-parameters model KNN #####\")\n",
        "print()\n",
        "\n",
        "clfKNN = GridSearchCV(model, \n",
        "                    tunned_params,\n",
        "                     scoring=\"accuracy\",\n",
        "                    cv=5,\n",
        "                   verbose = 2\n",
        "                    )\n",
        "\n",
        "clfKNN.fit(X_train_scaled, y_train)\n",
        "\n",
        "print(\"Best parameters set found on development set:\")\n",
        "print()\n",
        "print(clfKNN.best_params_)\n",
        "print()\n",
        "print(\"Detailed classification report:\")\n",
        "print()\n",
        "y_true, y_pred = y_test, clfKNN.predict(X_test_scaled)\n",
        "evaluate_classifier_performance(y_pred, y_true)\n",
        "print()"
      ],
      "metadata": {
        "id": "XnxRKOjJiUga",
        "colab": {
          "base_uri": "https://localhost:8080/",
          "height": 1000
        },
        "outputId": "bb4d7fdc-e9df-453e-d5ef-c2bd66a0c454"
      },
      "execution_count": null,
      "outputs": [
        {
          "output_type": "stream",
          "name": "stdout",
          "text": [
            "##### Tuning hyper-parameters model KNN #####\n",
            "\n",
            "Fitting 5 folds for each of 5 candidates, totalling 25 fits\n",
            "[CV] END ......................................n_neighbors=1; total time=   0.0s\n",
            "[CV] END ......................................n_neighbors=1; total time=   0.0s\n",
            "[CV] END ......................................n_neighbors=1; total time=   0.0s\n",
            "[CV] END ......................................n_neighbors=1; total time=   0.0s\n",
            "[CV] END ......................................n_neighbors=1; total time=   0.0s\n",
            "[CV] END ......................................n_neighbors=2; total time=   0.0s\n",
            "[CV] END ......................................n_neighbors=2; total time=   0.0s\n",
            "[CV] END ......................................n_neighbors=2; total time=   0.0s\n",
            "[CV] END ......................................n_neighbors=2; total time=   0.0s\n",
            "[CV] END ......................................n_neighbors=2; total time=   0.0s\n",
            "[CV] END ......................................n_neighbors=3; total time=   0.0s\n",
            "[CV] END ......................................n_neighbors=3; total time=   0.0s\n",
            "[CV] END ......................................n_neighbors=3; total time=   0.0s\n",
            "[CV] END ......................................n_neighbors=3; total time=   0.0s\n",
            "[CV] END ......................................n_neighbors=3; total time=   0.0s\n",
            "[CV] END ......................................n_neighbors=4; total time=   0.0s\n",
            "[CV] END ......................................n_neighbors=4; total time=   0.0s\n",
            "[CV] END ......................................n_neighbors=4; total time=   0.0s\n",
            "[CV] END ......................................n_neighbors=4; total time=   0.0s\n",
            "[CV] END ......................................n_neighbors=4; total time=   0.0s\n",
            "[CV] END ......................................n_neighbors=5; total time=   0.0s\n",
            "[CV] END ......................................n_neighbors=5; total time=   0.0s\n",
            "[CV] END ......................................n_neighbors=5; total time=   0.0s\n",
            "[CV] END ......................................n_neighbors=5; total time=   0.0s\n",
            "[CV] END ......................................n_neighbors=5; total time=   0.0s\n",
            "Best parameters set found on development set:\n",
            "\n",
            "{'n_neighbors': 5}\n",
            "\n",
            "Detailed classification report:\n",
            "\n",
            "Hasil Evaluasi berdasarkan classification report \n",
            "\n",
            "              precision    recall  f1-score   support\n",
            "\n",
            "           0       0.78      0.85      0.81        41\n",
            "           1       0.72      0.67      0.70        58\n",
            "           2       0.62      0.76      0.69        46\n",
            "           3       0.96      0.78      0.86        55\n",
            "\n",
            "    accuracy                           0.76       200\n",
            "   macro avg       0.77      0.77      0.76       200\n",
            "weighted avg       0.78      0.76      0.76       200\n",
            "\n",
            "\n",
            "\n",
            "Confusion Matrix\n",
            "\n"
          ]
        },
        {
          "output_type": "display_data",
          "data": {
            "text/plain": [
              "prediction   0   1   2   3\n",
              "actual                    \n",
              "0           35   5   1   0\n",
              "1           10  39   9   0\n",
              "2            0   9  35   2\n",
              "3            0   1  11  43"
            ],
            "text/html": [
              "\n",
              "  <div id=\"df-5286d592-03c4-4ac4-9c1e-a44f1db74bdc\">\n",
              "    <div class=\"colab-df-container\">\n",
              "      <div>\n",
              "<style scoped>\n",
              "    .dataframe tbody tr th:only-of-type {\n",
              "        vertical-align: middle;\n",
              "    }\n",
              "\n",
              "    .dataframe tbody tr th {\n",
              "        vertical-align: top;\n",
              "    }\n",
              "\n",
              "    .dataframe thead th {\n",
              "        text-align: right;\n",
              "    }\n",
              "</style>\n",
              "<table border=\"1\" class=\"dataframe\">\n",
              "  <thead>\n",
              "    <tr style=\"text-align: right;\">\n",
              "      <th>prediction</th>\n",
              "      <th>0</th>\n",
              "      <th>1</th>\n",
              "      <th>2</th>\n",
              "      <th>3</th>\n",
              "    </tr>\n",
              "    <tr>\n",
              "      <th>actual</th>\n",
              "      <th></th>\n",
              "      <th></th>\n",
              "      <th></th>\n",
              "      <th></th>\n",
              "    </tr>\n",
              "  </thead>\n",
              "  <tbody>\n",
              "    <tr>\n",
              "      <th>0</th>\n",
              "      <td>35</td>\n",
              "      <td>5</td>\n",
              "      <td>1</td>\n",
              "      <td>0</td>\n",
              "    </tr>\n",
              "    <tr>\n",
              "      <th>1</th>\n",
              "      <td>10</td>\n",
              "      <td>39</td>\n",
              "      <td>9</td>\n",
              "      <td>0</td>\n",
              "    </tr>\n",
              "    <tr>\n",
              "      <th>2</th>\n",
              "      <td>0</td>\n",
              "      <td>9</td>\n",
              "      <td>35</td>\n",
              "      <td>2</td>\n",
              "    </tr>\n",
              "    <tr>\n",
              "      <th>3</th>\n",
              "      <td>0</td>\n",
              "      <td>1</td>\n",
              "      <td>11</td>\n",
              "      <td>43</td>\n",
              "    </tr>\n",
              "  </tbody>\n",
              "</table>\n",
              "</div>\n",
              "      <button class=\"colab-df-convert\" onclick=\"convertToInteractive('df-5286d592-03c4-4ac4-9c1e-a44f1db74bdc')\"\n",
              "              title=\"Convert this dataframe to an interactive table.\"\n",
              "              style=\"display:none;\">\n",
              "        \n",
              "  <svg xmlns=\"http://www.w3.org/2000/svg\" height=\"24px\"viewBox=\"0 0 24 24\"\n",
              "       width=\"24px\">\n",
              "    <path d=\"M0 0h24v24H0V0z\" fill=\"none\"/>\n",
              "    <path d=\"M18.56 5.44l.94 2.06.94-2.06 2.06-.94-2.06-.94-.94-2.06-.94 2.06-2.06.94zm-11 1L8.5 8.5l.94-2.06 2.06-.94-2.06-.94L8.5 2.5l-.94 2.06-2.06.94zm10 10l.94 2.06.94-2.06 2.06-.94-2.06-.94-.94-2.06-.94 2.06-2.06.94z\"/><path d=\"M17.41 7.96l-1.37-1.37c-.4-.4-.92-.59-1.43-.59-.52 0-1.04.2-1.43.59L10.3 9.45l-7.72 7.72c-.78.78-.78 2.05 0 2.83L4 21.41c.39.39.9.59 1.41.59.51 0 1.02-.2 1.41-.59l7.78-7.78 2.81-2.81c.8-.78.8-2.07 0-2.86zM5.41 20L4 18.59l7.72-7.72 1.47 1.35L5.41 20z\"/>\n",
              "  </svg>\n",
              "      </button>\n",
              "      \n",
              "  <style>\n",
              "    .colab-df-container {\n",
              "      display:flex;\n",
              "      flex-wrap:wrap;\n",
              "      gap: 12px;\n",
              "    }\n",
              "\n",
              "    .colab-df-convert {\n",
              "      background-color: #E8F0FE;\n",
              "      border: none;\n",
              "      border-radius: 50%;\n",
              "      cursor: pointer;\n",
              "      display: none;\n",
              "      fill: #1967D2;\n",
              "      height: 32px;\n",
              "      padding: 0 0 0 0;\n",
              "      width: 32px;\n",
              "    }\n",
              "\n",
              "    .colab-df-convert:hover {\n",
              "      background-color: #E2EBFA;\n",
              "      box-shadow: 0px 1px 2px rgba(60, 64, 67, 0.3), 0px 1px 3px 1px rgba(60, 64, 67, 0.15);\n",
              "      fill: #174EA6;\n",
              "    }\n",
              "\n",
              "    [theme=dark] .colab-df-convert {\n",
              "      background-color: #3B4455;\n",
              "      fill: #D2E3FC;\n",
              "    }\n",
              "\n",
              "    [theme=dark] .colab-df-convert:hover {\n",
              "      background-color: #434B5C;\n",
              "      box-shadow: 0px 1px 3px 1px rgba(0, 0, 0, 0.15);\n",
              "      filter: drop-shadow(0px 1px 2px rgba(0, 0, 0, 0.3));\n",
              "      fill: #FFFFFF;\n",
              "    }\n",
              "  </style>\n",
              "\n",
              "      <script>\n",
              "        const buttonEl =\n",
              "          document.querySelector('#df-5286d592-03c4-4ac4-9c1e-a44f1db74bdc button.colab-df-convert');\n",
              "        buttonEl.style.display =\n",
              "          google.colab.kernel.accessAllowed ? 'block' : 'none';\n",
              "\n",
              "        async function convertToInteractive(key) {\n",
              "          const element = document.querySelector('#df-5286d592-03c4-4ac4-9c1e-a44f1db74bdc');\n",
              "          const dataTable =\n",
              "            await google.colab.kernel.invokeFunction('convertToInteractive',\n",
              "                                                     [key], {});\n",
              "          if (!dataTable) return;\n",
              "\n",
              "          const docLinkHtml = 'Like what you see? Visit the ' +\n",
              "            '<a target=\"_blank\" href=https://colab.research.google.com/notebooks/data_table.ipynb>data table notebook</a>'\n",
              "            + ' to learn more about interactive tables.';\n",
              "          element.innerHTML = '';\n",
              "          dataTable['output_type'] = 'display_data';\n",
              "          await google.colab.output.renderOutput(dataTable, element);\n",
              "          const docLink = document.createElement('div');\n",
              "          docLink.innerHTML = docLinkHtml;\n",
              "          element.appendChild(docLink);\n",
              "        }\n",
              "      </script>\n",
              "    </div>\n",
              "  </div>\n",
              "  "
            ]
          },
          "metadata": {}
        },
        {
          "output_type": "stream",
          "name": "stdout",
          "text": [
            "\n",
            "\n",
            "Butuh informasi lebih lengkap? silakan simak di bawah ini : \n",
            "F1 Macro Average: 0.7641641424011464\n",
            "F1 Micro Average: 0.76\n",
            "Precision Macro Average: 0.7701388888888889\n",
            "Precision Micro Average: 0.76\n",
            "Recall Macro Average: 0.7671900191810969\n",
            "Recall Micro Average: 0.76\n",
            "\n",
            "\n"
          ]
        }
      ]
    },
    {
      "cell_type": "code",
      "source": [
        "metrics(y_pred)"
      ],
      "metadata": {
        "colab": {
          "base_uri": "https://localhost:8080/"
        },
        "id": "e-yhXYo-6LcW",
        "outputId": "af9af451-cc01-4d09-ea4e-4fccda29de04"
      },
      "execution_count": null,
      "outputs": [
        {
          "output_type": "stream",
          "name": "stdout",
          "text": [
            "MAE: 0.25\n",
            "MSE: 0.27\n",
            "RMSE: 0.5196152422706632\n",
            "R_squared: 0.7758173326414115\n"
          ]
        }
      ]
    },
    {
      "cell_type": "markdown",
      "source": [
        "### [7] Analisis"
      ],
      "metadata": {
        "id": "0bJvYH9F38uw"
      }
    },
    {
      "cell_type": "markdown",
      "source": [
        "19\\. [7] Dari keempat variasi model (Decision Tree, Random Forest, Naive Bayes, dan KNN) yang sudah Anda coba, manakah model yang memiliki performa terbaik? Berikan analisis Anda!"
      ],
      "metadata": {
        "id": "ER7H289m3-Cv"
      }
    },
    {
      "cell_type": "markdown",
      "source": [
        "> Jawaban:\n",
        "\n",
        "> Dari hasil ini, saya menurut saya yang paling baik adalah yang DecisionTree. Alasannya adalah karena saya melihat dari nilai MAE yang paling kecil. Semakin kecil MAE nya, maka kemungkinan prediksi sesuai dengan aktualnya semakin tinggi."
      ],
      "metadata": {
        "id": "eReK2O-s4X-m"
      }
    }
  ]
}